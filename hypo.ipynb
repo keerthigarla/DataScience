{
 "metadata": {
  "kernelspec": {
   "display_name": "Python 3",
   "language": "python",
   "name": "python3"
  },
  "language_info": {
   "codemirror_mode": {
    "name": "ipython",
    "version": 3
   },
   "file_extension": ".py",
   "mimetype": "text/x-python",
   "name": "python",
   "nbconvert_exporter": "python",
   "pygments_lexer": "ipython3",
   "version": "3.6.1"
  },
  "name": "",
  "signature": "sha256:0d2d966146ace8d14d3e819f09f871fd8bfac0a2027d01bcc91f36a53f61631f"
 },
 "nbformat": 3,
 "nbformat_minor": 0,
 "worksheets": [
  {
   "cells": [
    {
     "cell_type": "markdown",
     "metadata": {},
     "source": [
      "## The Problem\n",
      "\n",
      "25 students at Upgrad and Byte Academy each completed the Annual Data Science Exam 2017. The exam is score out of 50 and we want to understand if the test scores of the two groups are statistically significantly different. Use the two lists of scores provided and conduct a **two-sided t-test**.\n",
      "The following steps should be included:\n",
      "#### 1) Stating Null and alternative hypothesis\n",
      "#### 2) The t should be calcuated with a function\n",
      "#### 3) The conlusion should be written clearly outlining whether the null hypothesis was accepted or rejected"
     ]
    },
    {
     "cell_type": "code",
     "collapsed": false,
     "input": [
      "# Hypothesis Testing for Mean Di\ufb00erence (2 Samples) using Python\n",
      "# In below scenario there are no B-regressionCoefficients and independent variables, simply we are comparing the performances of 2 groups using means.\n",
      "# Degrees of freedom is based on the intersection of number of students across 2 independent scenarios i.e 25 -k(number of B-regressionCoeficients)-1: 25-0-1=24\n",
      "\n",
      "import random\n",
      "#import scipy\n",
      "from scipy import stats\n",
      "import numpy as np\n",
      "\n",
      "byte_scores = random.sample(range(20,50),25)\n",
      "upgrad_scores = random.sample(range(0,50),25)\n",
      "\n",
      "byte_mean = np.mean(byte_scores)\n",
      "upgrad_mean = np.mean(upgrad_scores)\n",
      "byte_sd = np.std(byte_scores)\n",
      "upgrad_sd = np.std(upgrad_scores)\n",
      "byte_se = byte_sd / np.sqrt(25)\n",
      "upgrad_se =  upgrad_sd / np.sqrt(25)\n",
      "\n",
      "print('byte_mean',byte_mean)\n",
      "print('upgrad_mean', upgrad_mean)\n",
      "print('byte_sd', byte_sd)\n",
      "print('upgrad_sd', upgrad_sd)\n",
      "print('byte_se', byte_se)\n",
      "print('upgrad_se', upgrad_se)\n"
     ],
     "language": "python",
     "metadata": {},
     "outputs": [
      {
       "output_type": "stream",
       "stream": "stdout",
       "text": [
        "byte_mean 35.48\n",
        "upgrad_mean 24.12\n",
        "byte_sd 8.49997647056\n",
        "upgrad_sd 14.1571748594\n",
        "byte_se 1.69999529411\n",
        "upgrad_se 2.83143497188\n"
       ]
      }
     ],
     "prompt_number": 18
    },
    {
     "cell_type": "code",
     "collapsed": false,
     "input": [
      "# Q1) Stating Null and alternative hypothesis\n",
      "#Two sided Hypothesis or 2-tailed hypothesis\n",
      "#Null Hypothesis ByteDev and Upgrad have performed equally well\n",
      "if byte_mean == upgrad_mean:\n",
      "    print('Null Hypothesis- there is no difference in the performance of ByteAcad and UpGrad')\n",
      "#Alternative Hypothesis - ByteDev has performed well than UpGrad    \n",
      "elif byte_mean != upgrad_mean:\n",
      "    print('Alternative Hypothesis - ByteAcad has performed well than UpGrad or vice-versa')\n"
     ],
     "language": "python",
     "metadata": {},
     "outputs": [
      {
       "output_type": "stream",
       "stream": "stdout",
       "text": [
        "Alternative Hypothesis - ByteAcad has performed well than UpGrad or vice-versa\n"
       ]
      }
     ],
     "prompt_number": 19
    },
    {
     "cell_type": "code",
     "collapsed": true,
     "input": [
      "# Q2) The t should be calcuated with a function\n",
      "# Ts = statistic \n",
      "def Ts(byte_scores, upgrad_scores):\n",
      "    byte_mean = np.mean(byte_scores)\n",
      "    upgrad_mean = np.mean(upgrad_scores)\n",
      "    byte_sd = np.std(byte_scores)\n",
      "    upgrad_sd = np.std(upgrad_scores)\n",
      "    byte_se = byte_sd / np.sqrt(25)\n",
      "    upgrad_se =  upgrad_sd / np.sqrt(25)\n",
      "    \n",
      "   # Ts = (mean1 - mean2) - H0 / np.sqrt(Standard Error(Byte)**2 + Standard Error (Upgrad)**2)\n",
      "    \n",
      "    Ts = ((byte_mean - upgrad_mean) - 0) / (np.sqrt((byte_sd*byte_sd/ 25)+ (upgrad_sd*upgrad_sd/25)))\n",
      "    return  Ts\n",
      "\n",
      "\n",
      "Ts1 = stats.ttest_ind(byte_scores,upgrad_scores)\n",
      "print('Ts1', Ts1)\n",
      "\n",
      "# Tc = critical based on degrees of freedom and 95% confidence level(Alpha = 0.05)\n",
      "def Tc(N,Alpha):\n",
      "    DF = N-1\n",
      "    Tc = stats.t.ppf(1-(Alpha/2), DF)\n",
      "    return Tc\n",
      "\n",
      "print('Ts', Ts(byte_scores, upgrad_scores))\n",
      "print('Tc', Tc(25,0.05))"
     ],
     "language": "python",
     "metadata": {},
     "outputs": [
      {
       "output_type": "stream",
       "stream": "stdout",
       "text": [
        "Ts1 Ttest_indResult(statistic=3.3702423536991, pvalue=0.0014897955760467621)\n",
        "Ts 3.43973919837\n",
        "Tc 2.06389856163\n"
       ]
      }
     ],
     "prompt_number": 20
    },
    {
     "cell_type": "code",
     "collapsed": false,
     "input": [
      "\n",
      "# Q3) The conlusion should be written clearly outlining whether the null hypothesis was accepted or rejected\n",
      "if Ts(byte_scores, upgrad_scores) > Tc(25,0.05):\n",
      "    print('Null Hypothesis is rejected, Alternative Hypothesis is considered.')\n",
      "else:\n",
      "    print('Null Hypothesis is not rejected.')\n",
      "    \n",
      "# Intiution: if there is large difference between the means of 2 different groups then Null hypothesis is rejected.    "
     ],
     "language": "python",
     "metadata": {},
     "outputs": [
      {
       "output_type": "stream",
       "stream": "stdout",
       "text": [
        "Null Hypothesis is rejected, Alternative Hypothesis is considered.\n"
       ]
      }
     ],
     "prompt_number": 21
    },
    {
     "cell_type": "code",
     "collapsed": false,
     "input": [],
     "language": "python",
     "metadata": {},
     "outputs": [],
     "prompt_number": 14
    },
    {
     "cell_type": "code",
     "collapsed": false,
     "input": [],
     "language": "python",
     "metadata": {},
     "outputs": [],
     "prompt_number": 14
    },
    {
     "cell_type": "code",
     "collapsed": false,
     "input": [],
     "language": "python",
     "metadata": {},
     "outputs": []
    }
   ],
   "metadata": {}
  }
 ]
}