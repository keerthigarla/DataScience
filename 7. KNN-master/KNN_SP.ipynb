{
 "metadata": {
  "name": "",
  "signature": "sha256:6831bd12a697769918c33073399df4d33269facc515d0f16d511d4d5912defd2"
 },
 "nbformat": 3,
 "nbformat_minor": 0,
 "worksheets": [
  {
   "cells": [
    {
     "cell_type": "heading",
     "level": 1,
     "metadata": {},
     "source": [
      "Apply and compare the following techniques on the dataset.\n",
      "\n",
      "Logistic Regression KNN\n",
      "\n",
      "This Smarket dataset consists of percentage returns for the S&P 500 stock index over 1, 250 days, from the beginning of 2001 until the end of 2005. For each date, we have recorded the percentage returns for each of the five previous trading days, Lag1 through Lag5. We have also recorded Volume (the number of shares traded, in Billions). Today (the percentage return on the date in question) and Direction (whether the market was Up or Down on this date).\n",
      "\n",
      "As we discussed today, we can create more features when dealing with time series data (Day of the Month, Month of the year etc.). Again as always, do your exploratory anlaysis visually."
     ]
    },
    {
     "cell_type": "code",
     "collapsed": false,
     "input": [
      "#import libraries\n",
      "from sklearn.datasets import load_boston # dataset\n",
      "import pandas as pd\n",
      "import numpy as np\n",
      "import matplotlib.pyplot as plt\n",
      "import logging\n",
      "from sklearn.linear_model import Lasso\n",
      "from sklearn import preprocessing\n",
      "import seaborn as sb\n",
      "from sklearn.neighbors import NearestNeighbors\n",
      "from sklearn.neighbors import KNeighborsClassifier\n",
      "\n",
      "from sklearn.model_selection import train_test_split\n",
      "%matplotlib inline"
     ],
     "language": "python",
     "metadata": {},
     "outputs": [],
     "prompt_number": 1
    },
    {
     "cell_type": "code",
     "collapsed": false,
     "input": [
      "df = pd.read_csv('Smarket.csv')\n",
      "df['Year'] = df['Year'].map({2001:1, 2002:2, 2003:3, 2004:4, 2005:5})\n",
      "df.describe()\n"
     ],
     "language": "python",
     "metadata": {},
     "outputs": [
      {
       "html": [
        "<div style=\"max-width:1500px;overflow:auto;\">\n",
        "<style scoped>\n",
        "    .dataframe tbody tr th:only-of-type {\n",
        "        vertical-align: middle;\n",
        "    }\n",
        "\n",
        "    .dataframe tbody tr th {\n",
        "        vertical-align: top;\n",
        "    }\n",
        "\n",
        "    .dataframe thead th {\n",
        "        text-align: right;\n",
        "    }\n",
        "</style>\n",
        "<table border=\"1\" class=\"dataframe\">\n",
        "  <thead>\n",
        "    <tr style=\"text-align: right;\">\n",
        "      <th></th>\n",
        "      <th>Year</th>\n",
        "      <th>Lag1</th>\n",
        "      <th>Lag2</th>\n",
        "      <th>Lag3</th>\n",
        "      <th>Lag4</th>\n",
        "      <th>Lag5</th>\n",
        "      <th>Volume</th>\n",
        "      <th>Today</th>\n",
        "    </tr>\n",
        "  </thead>\n",
        "  <tbody>\n",
        "    <tr>\n",
        "      <th>count</th>\n",
        "      <td>1250.000000</td>\n",
        "      <td>1250.000000</td>\n",
        "      <td>1250.000000</td>\n",
        "      <td>1250.000000</td>\n",
        "      <td>1250.000000</td>\n",
        "      <td>1250.00000</td>\n",
        "      <td>1250.000000</td>\n",
        "      <td>1250.000000</td>\n",
        "    </tr>\n",
        "    <tr>\n",
        "      <th>mean</th>\n",
        "      <td>3.016000</td>\n",
        "      <td>0.003834</td>\n",
        "      <td>0.003919</td>\n",
        "      <td>0.001716</td>\n",
        "      <td>0.001636</td>\n",
        "      <td>0.00561</td>\n",
        "      <td>1.478305</td>\n",
        "      <td>0.003138</td>\n",
        "    </tr>\n",
        "    <tr>\n",
        "      <th>std</th>\n",
        "      <td>1.409018</td>\n",
        "      <td>1.136299</td>\n",
        "      <td>1.136280</td>\n",
        "      <td>1.138703</td>\n",
        "      <td>1.138774</td>\n",
        "      <td>1.14755</td>\n",
        "      <td>0.360357</td>\n",
        "      <td>1.136334</td>\n",
        "    </tr>\n",
        "    <tr>\n",
        "      <th>min</th>\n",
        "      <td>1.000000</td>\n",
        "      <td>-4.922000</td>\n",
        "      <td>-4.922000</td>\n",
        "      <td>-4.922000</td>\n",
        "      <td>-4.922000</td>\n",
        "      <td>-4.92200</td>\n",
        "      <td>0.356070</td>\n",
        "      <td>-4.922000</td>\n",
        "    </tr>\n",
        "    <tr>\n",
        "      <th>25%</th>\n",
        "      <td>2.000000</td>\n",
        "      <td>-0.639500</td>\n",
        "      <td>-0.639500</td>\n",
        "      <td>-0.640000</td>\n",
        "      <td>-0.640000</td>\n",
        "      <td>-0.64000</td>\n",
        "      <td>1.257400</td>\n",
        "      <td>-0.639500</td>\n",
        "    </tr>\n",
        "    <tr>\n",
        "      <th>50%</th>\n",
        "      <td>3.000000</td>\n",
        "      <td>0.039000</td>\n",
        "      <td>0.039000</td>\n",
        "      <td>0.038500</td>\n",
        "      <td>0.038500</td>\n",
        "      <td>0.03850</td>\n",
        "      <td>1.422950</td>\n",
        "      <td>0.038500</td>\n",
        "    </tr>\n",
        "    <tr>\n",
        "      <th>75%</th>\n",
        "      <td>4.000000</td>\n",
        "      <td>0.596750</td>\n",
        "      <td>0.596750</td>\n",
        "      <td>0.596750</td>\n",
        "      <td>0.596750</td>\n",
        "      <td>0.59700</td>\n",
        "      <td>1.641675</td>\n",
        "      <td>0.596750</td>\n",
        "    </tr>\n",
        "    <tr>\n",
        "      <th>max</th>\n",
        "      <td>5.000000</td>\n",
        "      <td>5.733000</td>\n",
        "      <td>5.733000</td>\n",
        "      <td>5.733000</td>\n",
        "      <td>5.733000</td>\n",
        "      <td>5.73300</td>\n",
        "      <td>3.152470</td>\n",
        "      <td>5.733000</td>\n",
        "    </tr>\n",
        "  </tbody>\n",
        "</table>\n",
        "</div>"
       ],
       "metadata": {},
       "output_type": "pyout",
       "prompt_number": 2,
       "text": [
        "              Year         Lag1         Lag2         Lag3         Lag4  \\\n",
        "count  1250.000000  1250.000000  1250.000000  1250.000000  1250.000000   \n",
        "mean      3.016000     0.003834     0.003919     0.001716     0.001636   \n",
        "std       1.409018     1.136299     1.136280     1.138703     1.138774   \n",
        "min       1.000000    -4.922000    -4.922000    -4.922000    -4.922000   \n",
        "25%       2.000000    -0.639500    -0.639500    -0.640000    -0.640000   \n",
        "50%       3.000000     0.039000     0.039000     0.038500     0.038500   \n",
        "75%       4.000000     0.596750     0.596750     0.596750     0.596750   \n",
        "max       5.000000     5.733000     5.733000     5.733000     5.733000   \n",
        "\n",
        "             Lag5       Volume        Today  \n",
        "count  1250.00000  1250.000000  1250.000000  \n",
        "mean      0.00561     1.478305     0.003138  \n",
        "std       1.14755     0.360357     1.136334  \n",
        "min      -4.92200     0.356070    -4.922000  \n",
        "25%      -0.64000     1.257400    -0.639500  \n",
        "50%       0.03850     1.422950     0.038500  \n",
        "75%       0.59700     1.641675     0.596750  \n",
        "max       5.73300     3.152470     5.733000  "
       ]
      }
     ],
     "prompt_number": 2
    },
    {
     "cell_type": "code",
     "collapsed": false,
     "input": [
      "df.head()\n",
      "x= df.drop(['Today', 'Year', 'Direction','Volume'], axis =1)\n",
      "#df['Direction'] = df['Direction'].map({'Up':1, 'Down':0})\n",
      "y = df['Direction']\n",
      "\n",
      "\n",
      "#df.isnull().sum()\n",
      "y.isnull().sum()\n",
      "\n",
      "df.shape\n",
      "\n",
      "\n",
      "\n",
      "\n"
     ],
     "language": "python",
     "metadata": {},
     "outputs": [
      {
       "metadata": {},
       "output_type": "pyout",
       "prompt_number": 3,
       "text": [
        "(1250, 9)"
       ]
      }
     ],
     "prompt_number": 3
    },
    {
     "cell_type": "code",
     "collapsed": false,
     "input": [
      "x_train, x_test, y_train, y_test = train_test_split(x, y, test_size=0.30)"
     ],
     "language": "python",
     "metadata": {},
     "outputs": [],
     "prompt_number": 4
    },
    {
     "cell_type": "code",
     "collapsed": false,
     "input": [
      "from sklearn.neighbors import KNeighborsRegressor\n",
      "# Create the knn model.\n",
      "# Look at the five closest neighbors.\n",
      "knn = KNeighborsClassifier(n_neighbors = 500, metric ='minkowski', p=2)\n",
      "# Fit the model on the training data.\n",
      "knn.fit(x_train, y_train)\n",
      "# Make point predictions on the test set using the fit model.\n",
      "y_pred = knn.predict(x_test)\n",
      "ydf = pd.DataFrame(y_pred)\n"
     ],
     "language": "python",
     "metadata": {},
     "outputs": [],
     "prompt_number": 35
    },
    {
     "cell_type": "code",
     "collapsed": false,
     "input": [
      "y_pred_prob = knn.predict_proba(x_test)"
     ],
     "language": "python",
     "metadata": {},
     "outputs": [],
     "prompt_number": 36
    },
    {
     "cell_type": "code",
     "collapsed": false,
     "input": [
      "print(y_pred[:5])"
     ],
     "language": "python",
     "metadata": {},
     "outputs": [
      {
       "output_type": "stream",
       "stream": "stdout",
       "text": [
        "['Up' 'Up' 'Up' 'Up' 'Up']\n"
       ]
      }
     ],
     "prompt_number": 37
    },
    {
     "cell_type": "code",
     "collapsed": false,
     "input": [
      "print(y_pred_prob[:5])"
     ],
     "language": "python",
     "metadata": {},
     "outputs": [
      {
       "output_type": "stream",
       "stream": "stdout",
       "text": [
        "[[ 0.492  0.508]\n",
        " [ 0.478  0.522]\n",
        " [ 0.468  0.532]\n",
        " [ 0.484  0.516]\n",
        " [ 0.484  0.516]]\n"
       ]
      }
     ],
     "prompt_number": 38
    },
    {
     "cell_type": "code",
     "collapsed": false,
     "input": [
      "from sklearn.metrics import confusion_matrix \n",
      "confuse = confusion_matrix(y_test,y_pred)\n",
      "print(confuse)\n",
      "\n",
      "print(\"\\nTN =\",confuse[0][0])\n",
      "print(\"FN =\",confuse[0][1])\n",
      "print(\"FP =\",confuse[1][0])\n",
      "print(\"TP =\",confuse[1][1])"
     ],
     "language": "python",
     "metadata": {},
     "outputs": [
      {
       "output_type": "stream",
       "stream": "stdout",
       "text": [
        "[[  7 164]\n",
        " [ 17 187]]\n",
        "\n",
        "TN = 7\n",
        "FN = 164\n",
        "FP = 17\n",
        "TP = 187\n"
       ]
      }
     ],
     "prompt_number": 39
    },
    {
     "cell_type": "code",
     "collapsed": false,
     "input": [
      "#overall accuracy\n",
      "accuracy = (confuse[0][0] + confuse[1][1])/ len(y_test)\n",
      "print(\"accuracy of classifier is:\",accuracy)\n",
      "#precision is a measure of positive predictions negative or ratio of tp/overal p\n",
      "precision =  confuse[1][1]/(confuse[1][1]+confuse[0][1])\n",
      "print(\"precision:\",precision)\n",
      "#recall is proportion all true positive samples.\n",
      "recall = confuse[1][1]/(confuse[1][1]+confuse[1][0])\n",
      "print(\"recall:\",recall)"
     ],
     "language": "python",
     "metadata": {},
     "outputs": [
      {
       "output_type": "stream",
       "stream": "stdout",
       "text": [
        "accuracy of classifier is: 0.517333333333\n",
        "precision: 0.532763532764\n",
        "recall: 0.916666666667\n"
       ]
      }
     ],
     "prompt_number": 40
    },
    {
     "cell_type": "code",
     "collapsed": false,
     "input": [
      "from sklearn.metrics import classification_report\n",
      "print(classification_report(y_test,y_pred))"
     ],
     "language": "python",
     "metadata": {},
     "outputs": [
      {
       "output_type": "stream",
       "stream": "stdout",
       "text": [
        "             precision    recall  f1-score   support\n",
        "\n",
        "       Down       0.29      0.04      0.07       171\n",
        "         Up       0.53      0.92      0.67       204\n",
        "\n",
        "avg / total       0.42      0.52      0.40       375\n",
        "\n"
       ]
      }
     ],
     "prompt_number": 41
    },
    {
     "cell_type": "code",
     "collapsed": false,
     "input": [],
     "language": "python",
     "metadata": {},
     "outputs": [],
     "prompt_number": 41
    },
    {
     "cell_type": "code",
     "collapsed": false,
     "input": [],
     "language": "python",
     "metadata": {},
     "outputs": [],
     "prompt_number": 99
    },
    {
     "cell_type": "code",
     "collapsed": false,
     "input": [],
     "language": "python",
     "metadata": {},
     "outputs": []
    }
   ],
   "metadata": {}
  }
 ]
}