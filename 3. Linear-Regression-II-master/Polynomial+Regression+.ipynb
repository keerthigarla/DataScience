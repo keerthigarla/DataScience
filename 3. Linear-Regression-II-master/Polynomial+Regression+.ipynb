{
 "metadata": {
  "kernelspec": {
   "display_name": "Python 3",
   "language": "python",
   "name": "python3"
  },
  "language_info": {
   "codemirror_mode": {
    "name": "ipython",
    "version": 3
   },
   "file_extension": ".py",
   "mimetype": "text/x-python",
   "name": "python",
   "nbconvert_exporter": "python",
   "pygments_lexer": "ipython3",
   "version": "3.6.1"
  },
  "name": ""
 },
 "nbformat": 3,
 "nbformat_minor": 0,
 "worksheets": [
  {
   "cells": [
    {
     "cell_type": "code",
     "collapsed": false,
     "input": [],
     "language": "python",
     "metadata": {},
     "outputs": []
    },
    {
     "cell_type": "code",
     "collapsed": false,
     "input": [
      "# Import\n",
      "%matplotlib inline\n",
      "\n",
      "from sklearn.preprocessing import PolynomialFeatures\n",
      "from sklearn.linear_model import LinearRegression\n",
      "from sklearn.model_selection import train_test_split\n",
      "import statsmodels.api as sm\n",
      "import matplotlib.pyplot as plt\n",
      "from sklearn.metrics import mean_squared_error\n",
      "\n",
      "import pandas as pd"
     ],
     "language": "python",
     "metadata": {},
     "outputs": [],
     "prompt_number": 109
    },
    {
     "cell_type": "code",
     "collapsed": false,
     "input": [
      "df = pd.read_csv(\"Wage.csv\")"
     ],
     "language": "python",
     "metadata": {},
     "outputs": [],
     "prompt_number": 110
    },
    {
     "cell_type": "code",
     "collapsed": false,
     "input": [
      "df_age = df[\"age\"]\n",
      "df_wage = df[\"wage\"]\n"
     ],
     "language": "python",
     "metadata": {},
     "outputs": [],
     "prompt_number": 111
    },
    {
     "cell_type": "code",
     "collapsed": false,
     "input": [
      "df_final = pd.concat([df_age, df_wage], axis=1)"
     ],
     "language": "python",
     "metadata": {},
     "outputs": [],
     "prompt_number": 112
    },
    {
     "cell_type": "code",
     "collapsed": false,
     "input": [
      "x_train,x_test,y_train,y_test = train_test_split(df_age,df_wage,test_size = 0.2)\n"
     ],
     "language": "python",
     "metadata": {},
     "outputs": [],
     "prompt_number": 113
    },
    {
     "cell_type": "code",
     "collapsed": false,
     "input": [
      "#visualizing data\n",
      "plt.scatter(x_train,y_train)\n",
      "plt.xlabel(\"Age\")\n",
      "plt.ylabel(\"Wage\")\n",
      "plt.title(\"Wage vs. Age\")\n",
      "plt.show()"
     ],
     "language": "python",
     "metadata": {},
     "outputs": [
      {
       "metadata": {},
       "output_type": "display_data",
       "png": "[encoded data removed]",
       "text": [
        "<matplotlib.figure.Figure at 0x10af4a470>"
       ]
      }
     ],
     "prompt_number": 114
    },
    {
     "cell_type": "code",
     "collapsed": false,
     "input": [
      "# applying simple OLS\n",
      "train_model = sm.OLS(y_train, x_train).fit()\n",
      "train_model.summary()"
     ],
     "language": "python",
     "metadata": {},
     "outputs": [
      {
       "html": [
        "<table class=\"simpletable\">\n",
        "<caption>OLS Regression Results</caption>\n",
        "<tr>\n",
        "  <th>Dep. Variable:</th>          <td>wage</td>       <th>  R-squared:         </th> <td>   0.848</td> \n",
        "</tr>\n",
        "<tr>\n",
        "  <th>Model:</th>                   <td>OLS</td>       <th>  Adj. R-squared:    </th> <td>   0.848</td> \n",
        "</tr>\n",
        "<tr>\n",
        "  <th>Method:</th>             <td>Least Squares</td>  <th>  F-statistic:       </th> <td>1.340e+04</td>\n",
        "</tr>\n",
        "<tr>\n",
        "  <th>Date:</th>             <td>Sun, 07 Jan 2018</td> <th>  Prob (F-statistic):</th>  <td>  0.00</td>  \n",
        "</tr>\n",
        "<tr>\n",
        "  <th>Time:</th>                 <td>17:08:46</td>     <th>  Log-Likelihood:    </th> <td> -12619.</td> \n",
        "</tr>\n",
        "<tr>\n",
        "  <th>No. Observations:</th>      <td>  2400</td>      <th>  AIC:               </th> <td>2.524e+04</td>\n",
        "</tr>\n",
        "<tr>\n",
        "  <th>Df Residuals:</th>          <td>  2399</td>      <th>  BIC:               </th> <td>2.525e+04</td>\n",
        "</tr>\n",
        "<tr>\n",
        "  <th>Df Model:</th>              <td>     1</td>      <th>                     </th>     <td> </td>    \n",
        "</tr>\n",
        "<tr>\n",
        "  <th>Covariance Type:</th>      <td>nonrobust</td>    <th>                     </th>     <td> </td>    \n",
        "</tr>\n",
        "</table>\n",
        "<table class=\"simpletable\">\n",
        "<tr>\n",
        "   <td></td>      <th>coef</th>     <th>std err</th>      <th>t</th>      <th>P>|t|</th>  <th>[0.025</th>    <th>0.975]</th>  \n",
        "</tr>\n",
        "<tr>\n",
        "  <th>age</th> <td>    2.4774</td> <td>    0.021</td> <td>  115.778</td> <td> 0.000</td> <td>    2.435</td> <td>    2.519</td>\n",
        "</tr>\n",
        "</table>\n",
        "<table class=\"simpletable\">\n",
        "<tr>\n",
        "  <th>Omnibus:</th>       <td>387.516</td> <th>  Durbin-Watson:     </th> <td>   1.952</td> \n",
        "</tr>\n",
        "<tr>\n",
        "  <th>Prob(Omnibus):</th> <td> 0.000</td>  <th>  Jarque-Bera (JB):  </th> <td>1061.845</td> \n",
        "</tr>\n",
        "<tr>\n",
        "  <th>Skew:</th>          <td> 0.859</td>  <th>  Prob(JB):          </th> <td>2.65e-231</td>\n",
        "</tr>\n",
        "<tr>\n",
        "  <th>Kurtosis:</th>      <td> 5.769</td>  <th>  Cond. No.          </th> <td>    1.00</td> \n",
        "</tr>\n",
        "</table>"
       ],
       "metadata": {},
       "output_type": "pyout",
       "prompt_number": 115,
       "text": [
        "<class 'statsmodels.iolib.summary.Summary'>\n",
        "\"\"\"\n",
        "                            OLS Regression Results                            \n",
        "==============================================================================\n",
        "Dep. Variable:                   wage   R-squared:                       0.848\n",
        "Model:                            OLS   Adj. R-squared:                  0.848\n",
        "Method:                 Least Squares   F-statistic:                 1.340e+04\n",
        "Date:                Sun, 07 Jan 2018   Prob (F-statistic):               0.00\n",
        "Time:                        17:08:46   Log-Likelihood:                -12619.\n",
        "No. Observations:                2400   AIC:                         2.524e+04\n",
        "Df Residuals:                    2399   BIC:                         2.525e+04\n",
        "Df Model:                           1                                         \n",
        "Covariance Type:            nonrobust                                         \n",
        "==============================================================================\n",
        "                 coef    std err          t      P>|t|      [0.025      0.975]\n",
        "------------------------------------------------------------------------------\n",
        "age            2.4774      0.021    115.778      0.000       2.435       2.519\n",
        "==============================================================================\n",
        "Omnibus:                      387.516   Durbin-Watson:                   1.952\n",
        "Prob(Omnibus):                  0.000   Jarque-Bera (JB):             1061.845\n",
        "Skew:                           0.859   Prob(JB):                    2.65e-231\n",
        "Kurtosis:                       5.769   Cond. No.                         1.00\n",
        "==============================================================================\n",
        "\n",
        "Warnings:\n",
        "[1] Standard Errors assume that the covariance matrix of the errors is correctly specified.\n",
        "\"\"\""
       ]
      }
     ],
     "prompt_number": 115
    },
    {
     "cell_type": "code",
     "collapsed": false,
     "input": [
      "#printing OLS MSE, we will compare this to the next \n",
      "y_pred = train_model.predict(x_test)\n",
      "mse_train = mean_squared_error(y_test, y_pred) \n",
      "mse_train"
     ],
     "language": "python",
     "metadata": {},
     "outputs": [
      {
       "metadata": {},
       "output_type": "pyout",
       "prompt_number": 118,
       "text": [
        "2038.125528093932"
       ]
      }
     ],
     "prompt_number": 118
    },
    {
     "cell_type": "code",
     "collapsed": false,
     "input": [
      "#visualizing OLS line of best fit \n",
      "plt.scatter(x_test,y_test)\n",
      "plt.xlabel(\"Age\")\n",
      "plt.ylabel(\"Wage\")\n",
      "plt.title(\"Wage vs. Age\")\n",
      "plt.plot(x_test, y_pred, color='red', linewidth=3)\n",
      "plt.show()"
     ],
     "language": "python",
     "metadata": {},
     "outputs": [
      {
       "metadata": {},
       "output_type": "display_data",
       "png": "[encoded data removed]",
       "text": [
        "<matplotlib.figure.Figure at 0x10d0cab00>"
       ]
      }
     ],
     "prompt_number": 146
    },
    {
     "cell_type": "heading",
     "level": 1,
     "metadata": {},
     "source": [
      "Polynomial Regression "
     ]
    },
    {
     "cell_type": "code",
     "collapsed": false,
     "input": [
      "# reshaping data to avoid dimensional mismatch\n",
      "x_train_poly = x_train.values.reshape(-1,1)\n",
      "x_test_poly = x_test.values.reshape(-1,1)"
     ],
     "language": "python",
     "metadata": {},
     "outputs": [],
     "prompt_number": 130
    },
    {
     "cell_type": "code",
     "collapsed": false,
     "input": [
      "# PolynomialFeatures (prepreprocessing)\n",
      "poly = PolynomialFeatures(degree=2)\n",
      "X_poly = poly.fit_transform(x_train_poly)\n",
      "X_test_poly = poly.fit_transform(x_test_poly)"
     ],
     "language": "python",
     "metadata": {},
     "outputs": [],
     "prompt_number": 136
    },
    {
     "cell_type": "code",
     "collapsed": false,
     "input": [
      "poly_model = sm.OLS(y_train,X_poly).fit()\n"
     ],
     "language": "python",
     "metadata": {},
     "outputs": [],
     "prompt_number": 137
    },
    {
     "cell_type": "code",
     "collapsed": false,
     "input": [
      "poly_model.summary()"
     ],
     "language": "python",
     "metadata": {},
     "outputs": [
      {
       "html": [
        "<table class=\"simpletable\">\n",
        "<caption>OLS Regression Results</caption>\n",
        "<tr>\n",
        "  <th>Dep. Variable:</th>          <td>wage</td>       <th>  R-squared:         </th> <td>   0.080</td> \n",
        "</tr>\n",
        "<tr>\n",
        "  <th>Model:</th>                   <td>OLS</td>       <th>  Adj. R-squared:    </th> <td>   0.080</td> \n",
        "</tr>\n",
        "<tr>\n",
        "  <th>Method:</th>             <td>Least Squares</td>  <th>  F-statistic:       </th> <td>   104.9</td> \n",
        "</tr>\n",
        "<tr>\n",
        "  <th>Date:</th>             <td>Sun, 07 Jan 2018</td> <th>  Prob (F-statistic):</th> <td>2.20e-44</td> \n",
        "</tr>\n",
        "<tr>\n",
        "  <th>Time:</th>                 <td>17:16:16</td>     <th>  Log-Likelihood:    </th> <td> -12272.</td> \n",
        "</tr>\n",
        "<tr>\n",
        "  <th>No. Observations:</th>      <td>  2400</td>      <th>  AIC:               </th> <td>2.455e+04</td>\n",
        "</tr>\n",
        "<tr>\n",
        "  <th>Df Residuals:</th>          <td>  2397</td>      <th>  BIC:               </th> <td>2.457e+04</td>\n",
        "</tr>\n",
        "<tr>\n",
        "  <th>Df Model:</th>              <td>     2</td>      <th>                     </th>     <td> </td>    \n",
        "</tr>\n",
        "<tr>\n",
        "  <th>Covariance Type:</th>      <td>nonrobust</td>    <th>                     </th>     <td> </td>    \n",
        "</tr>\n",
        "</table>\n",
        "<table class=\"simpletable\">\n",
        "<tr>\n",
        "    <td></td>       <th>coef</th>     <th>std err</th>      <th>t</th>      <th>P>|t|</th>  <th>[0.025</th>    <th>0.975]</th>  \n",
        "</tr>\n",
        "<tr>\n",
        "  <th>const</th> <td>  -11.9951</td> <td>    9.294</td> <td>   -1.291</td> <td> 0.197</td> <td>  -30.221</td> <td>    6.231</td>\n",
        "</tr>\n",
        "<tr>\n",
        "  <th>x1</th>    <td>    5.3537</td> <td>    0.439</td> <td>   12.205</td> <td> 0.000</td> <td>    4.494</td> <td>    6.214</td>\n",
        "</tr>\n",
        "<tr>\n",
        "  <th>x2</th>    <td>   -0.0536</td> <td>    0.005</td> <td>  -10.785</td> <td> 0.000</td> <td>   -0.063</td> <td>   -0.044</td>\n",
        "</tr>\n",
        "</table>\n",
        "<table class=\"simpletable\">\n",
        "<tr>\n",
        "  <th>Omnibus:</th>       <td>899.714</td> <th>  Durbin-Watson:     </th> <td>   1.969</td>\n",
        "</tr>\n",
        "<tr>\n",
        "  <th>Prob(Omnibus):</th> <td> 0.000</td>  <th>  Jarque-Bera (JB):  </th> <td>4117.418</td>\n",
        "</tr>\n",
        "<tr>\n",
        "  <th>Skew:</th>          <td> 1.758</td>  <th>  Prob(JB):          </th> <td>    0.00</td>\n",
        "</tr>\n",
        "<tr>\n",
        "  <th>Kurtosis:</th>      <td> 8.368</td>  <th>  Cond. No.          </th> <td>2.51e+04</td>\n",
        "</tr>\n",
        "</table>"
       ],
       "metadata": {},
       "output_type": "pyout",
       "prompt_number": 138,
       "text": [
        "<class 'statsmodels.iolib.summary.Summary'>\n",
        "\"\"\"\n",
        "                            OLS Regression Results                            \n",
        "==============================================================================\n",
        "Dep. Variable:                   wage   R-squared:                       0.080\n",
        "Model:                            OLS   Adj. R-squared:                  0.080\n",
        "Method:                 Least Squares   F-statistic:                     104.9\n",
        "Date:                Sun, 07 Jan 2018   Prob (F-statistic):           2.20e-44\n",
        "Time:                        17:16:16   Log-Likelihood:                -12272.\n",
        "No. Observations:                2400   AIC:                         2.455e+04\n",
        "Df Residuals:                    2397   BIC:                         2.457e+04\n",
        "Df Model:                           2                                         \n",
        "Covariance Type:            nonrobust                                         \n",
        "==============================================================================\n",
        "                 coef    std err          t      P>|t|      [0.025      0.975]\n",
        "------------------------------------------------------------------------------\n",
        "const        -11.9951      9.294     -1.291      0.197     -30.221       6.231\n",
        "x1             5.3537      0.439     12.205      0.000       4.494       6.214\n",
        "x2            -0.0536      0.005    -10.785      0.000      -0.063      -0.044\n",
        "==============================================================================\n",
        "Omnibus:                      899.714   Durbin-Watson:                   1.969\n",
        "Prob(Omnibus):                  0.000   Jarque-Bera (JB):             4117.418\n",
        "Skew:                           1.758   Prob(JB):                         0.00\n",
        "Kurtosis:                       8.368   Cond. No.                     2.51e+04\n",
        "==============================================================================\n",
        "\n",
        "Warnings:\n",
        "[1] Standard Errors assume that the covariance matrix of the errors is correctly specified.\n",
        "[2] The condition number is large, 2.51e+04. This might indicate that there are\n",
        "strong multicollinearity or other numerical problems.\n",
        "\"\"\""
       ]
      }
     ],
     "prompt_number": 138
    },
    {
     "cell_type": "markdown",
     "metadata": {},
     "source": [
      "## That's Wierd...\n",
      "The R^2 just became really, bad. Don't worry, R-squared cannot be compared between a model with untransformed Y and one with transformed Y, or between different transformations of Y. R-squared can easily go down when the model assumptions are better fulfilled. \n",
      "\n",
      "*So MSE is a much better predictor in this context*"
     ]
    },
    {
     "cell_type": "code",
     "collapsed": false,
     "input": [
      "#notice how the mse reduces\n",
      "y_pred_poly = poly_model.predict(X_test_poly)\n",
      "mse_train = mean_squared_error(y_test, y_pred_poly) \n",
      "mse_train"
     ],
     "language": "python",
     "metadata": {},
     "outputs": [
      {
       "metadata": {},
       "output_type": "pyout",
       "prompt_number": 142,
       "text": [
        "1519.1807265418372"
       ]
      }
     ],
     "prompt_number": 142
    },
    {
     "cell_type": "code",
     "collapsed": false,
     "input": [
      "#visualizing line of best fit \n",
      "plt.scatter(x_test,y_test)\n",
      "plt.xlabel(\"Age\")\n",
      "plt.ylabel(\"Wage\")\n",
      "plt.title(\"Wage vs. Age\")\n",
      "plt.plot(x_test_poly, y_pred_poly, color='red', linewidth=3)\n",
      "plt.show()"
     ],
     "language": "python",
     "metadata": {},
     "outputs": [
      {
       "metadata": {},
       "output_type": "display_data",
       "png": "[encoded data removed]",
       "text": [
        "<matplotlib.figure.Figure at 0x10af1e940>"
       ]
      }
     ],
     "prompt_number": 150
    },
    {
     "cell_type": "code",
     "collapsed": true,
     "input": [],
     "language": "python",
     "metadata": {},
     "outputs": [],
     "prompt_number": null
    }
   ],
   "metadata": {}
  }
 ]
}