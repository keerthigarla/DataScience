{
  "cells": [
    {
      "metadata": {
        "_uuid": "fc80d6474f9b682888550709484a03f147c3c5c4",
        "_cell_guid": "59479a7a-a9f4-4bee-bc14-00fd1a2815ba",
        "trusted": false,
        "collapsed": true
      },
      "cell_type": "code",
      "source": "# This Python 3 environment comes with many helpful analytics libraries installed\n# It is defined by the kaggle/python docker image: https://github.com/kaggle/docker-python\n# For example, here's several helpful packages to load in \n\nimport numpy as np # linear algebra\nimport pandas as pd # data processing, CSV file I/O (e.g. pd.read_csv)\nfrom matplotlib import pyplot as plt\nfrom sklearn.tree import DecisionTreeRegressor as dtr\nfrom sklearn import tree\nfrom sklearn.model_selection import GridSearchCV, train_test_split\nfrom math import floor\nimport random\nfrom math import sqrt\nfrom sklearn.metrics import mean_squared_error\nfrom sklearn.decomposition import TruncatedSVD\nfrom keras.models import Sequential\nfrom keras.layers import Dense\nfrom sklearn.metrics import mean_squared_error\nfrom sklearn.metrics import r2_score\nfrom sklearn.metrics import mean_squared_log_error\nfrom time import time\nfrom sklearn.preprocessing import LabelEncoder",
      "execution_count": null,
      "outputs": []
    },
    {
      "metadata": {
        "_uuid": "024e928761bfed01191fc7f833fd4fd3faee67f1",
        "_cell_guid": "337a66d3-a970-4572-a68f-331e0102e58b",
        "trusted": false,
        "collapsed": true
      },
      "cell_type": "code",
      "source": "# Input data files are available in the \"../input/\" directory.\n# For example, running this (by clicking run or pressing Shift+Enter) will list the files in the input directory\nimport pandas as pd\nfrom subprocess import check_output\n#print(check_output([\"ls\", \"../input\"]).decode(\"utf8\"))\n\n# Any results you write to the current directory are saved as output.\n\nprint(\"loading data\")\ntrain_data = pd.read_table(\"../input/train.tsv\")\ntest_data= pd.read_table(\"../input/test.tsv\")\nprint(train_data.shape)\ndf_tr = train_data[:200000]\ndf_te = test_data[:200000]\n\nprint(df_tr.shape)\nprint(df_te.shape)\n",
      "execution_count": null,
      "outputs": []
    },
    {
      "metadata": {
        "collapsed": true,
        "_uuid": "dc8a0c8d581cf72ac0d646651338cf39a2d732ec",
        "_cell_guid": "b9243aad-cedc-444d-929f-ae1f3b56e0a0",
        "trusted": false
      },
      "cell_type": "code",
      "source": "'''df_tr = pd.read_table(\"../input/train.tsv\")\ndf_te = pd.read_table(\"../input/test.tsv\")\n\n\nprint(df_tr.shape)\nprint(df_te.shape)'''",
      "execution_count": null,
      "outputs": []
    },
    {
      "metadata": {
        "collapsed": true,
        "_uuid": "f2bf17e9afffceb28f06b62779b1b0352d1ddf0b",
        "_cell_guid": "22b71ea7-d5df-4e03-aa10-6db4cd4ae159",
        "trusted": false
      },
      "cell_type": "code",
      "source": "df_tr = df_tr.reset_index(drop=True)\ndf_te = df_te.reset_index(drop=True)",
      "execution_count": null,
      "outputs": []
    },
    {
      "metadata": {
        "_uuid": "576b6ea6726585a8b71a203ef43fc7d7d87e0826",
        "_cell_guid": "bdc5d391-c200-4f1a-aead-b674641ea497",
        "trusted": false,
        "collapsed": true
      },
      "cell_type": "code",
      "source": "# check for nulls\nprint(df_tr.isnull().sum())\nprint(\"*\"*100)\nprint(df_te.isnull().sum())",
      "execution_count": null,
      "outputs": []
    },
    {
      "metadata": {
        "collapsed": true,
        "_uuid": "9583a76747b832dac341fa3026d0e399774d6f3c",
        "_cell_guid": "45435d40-bbd7-4df3-9702-16df0ca362e4",
        "trusted": false
      },
      "cell_type": "code",
      "source": "#Impute values in place of missig values.\ndf_tr['category_name'] = df_tr['category_name'].fillna(\"Unknown\")\ndf_te['category_name'] = df_te['category_name'].fillna(\"Unknown\")\ndf_tr['brand_name'] = df_tr['brand_name'].fillna(\"Unknown\")\ndf_te['brand_name'] = df_te['brand_name'].fillna(\"Unknown\")\ndf_tr['item_description'] = df_tr['item_description'].fillna(\"Unknown\")\ndf_te['item_description'] = df_te['item_description'].fillna(\"Unknown\")",
      "execution_count": null,
      "outputs": []
    },
    {
      "metadata": {
        "_uuid": "99493a9c9f8fec6aac4a515b9c29168d882b8655",
        "_cell_guid": "ab666840-e3f6-476f-a1f8-cc4b41f81a45",
        "trusted": false,
        "collapsed": true
      },
      "cell_type": "code",
      "source": "df_tr.dtypes",
      "execution_count": null,
      "outputs": []
    },
    {
      "metadata": {
        "collapsed": true,
        "_uuid": "912d77ea6184f959f346e75a50b321be3c466458",
        "_cell_guid": "2428db71-43c9-4ed4-a8ef-eded167dd324",
        "trusted": false
      },
      "cell_type": "code",
      "source": "df_tr.price.describe()",
      "execution_count": null,
      "outputs": []
    },
    {
      "metadata": {
        "_uuid": "7a07837a6fb5f41ab8d61c34bd927dbc77a1bbb1",
        "_cell_guid": "b8067f7b-8b86-4bda-a010-63649a5f1415",
        "trusted": false,
        "collapsed": true
      },
      "cell_type": "code",
      "source": "df_tr.columns\nprint(df_tr.isnull().sum())\nprint(\"*\"*100)\nprint(df_te.isnull().sum())",
      "execution_count": null,
      "outputs": []
    },
    {
      "metadata": {
        "_uuid": "98e70ca5691346813decaac540574c1c3ef5fbe8",
        "_cell_guid": "8c59b618-b13d-4b94-a922-f6797575ad3a",
        "trusted": false,
        "collapsed": true
      },
      "cell_type": "code",
      "source": "df_tr.head()",
      "execution_count": null,
      "outputs": []
    },
    {
      "metadata": {
        "_uuid": "adaf7a3e9db58ecc1fe8d3fd99d0ef218ddb8887",
        "_cell_guid": "2ae4cb77-e9d7-40f0-98f0-77429a345b41"
      },
      "cell_type": "markdown",
      "source": "**Train Data Feature Engineering**"
    },
    {
      "metadata": {
        "_uuid": "b4bac0251983127d788b9746b27e965820a3e196",
        "_cell_guid": "d5b65a91-52a3-4e68-88fd-0e07b3fac864",
        "trusted": false,
        "collapsed": true
      },
      "cell_type": "code",
      "source": "#converting categorical features in train data to meaningful quantitative features\ndf_train = df_tr.join(df_tr['category_name'].str.split('/', expand=True).rename(columns={0:'category_1' , 1:'category_2', 2: 'category_3'}))\ndf_train.head()\n#df_train.columns",
      "execution_count": null,
      "outputs": []
    },
    {
      "metadata": {
        "_uuid": "014729d53a4c9082492ddbf6934b2a9766769f8e",
        "_cell_guid": "0ad704c0-781b-4327-8ddc-d49f50a87963",
        "trusted": false,
        "collapsed": true
      },
      "cell_type": "code",
      "source": "df_train['cat1_avg'] = df_train['price'].groupby(df_train['category_1']).transform('mean')\ndf_train.cat1_avg = df_train.cat1_avg.round(1)\n#df['cat1_rank'] = df['cat1_avg'].rank(ascending=1)\ndf_train['cat1_rank'] =  df_train.cat1_avg.rank(method='dense')\n#df1 = df[df['category_1']=='Vintage & Collectibles']\n#df1\ndf_train['cat2_avg'] = df_train['price'].groupby(df_train['category_2']).transform('mean')\ndf_train.cat2_avg = df_train.cat2_avg.round(1)\ndf_train['cat2_rank'] =  df_train.cat2_avg.rank(method='dense')\n\ndf_train['cat3_avg'] = df_train['price'].groupby(df_train['category_3']).transform('mean')\ndf_train.cat3_avg = df_train.cat3_avg.round(1)\ndf_train['cat3_rank'] =  df_train.cat3_avg.rank(method='dense')\n\ndf_train['brand_avg'] = df_train['price'].groupby(df_train['brand_name']).transform('mean')\ndf_train.brand_avg = df_train.brand_avg.round(1)\ndf_train['brand_rank'] =  df_train.brand_avg.rank(method='dense')",
      "execution_count": null,
      "outputs": []
    },
    {
      "metadata": {
        "_uuid": "88c6196dde065807cce080ea109819c8a76701be",
        "_cell_guid": "9d15a9dd-4569-4223-a496-f0aa2360d553",
        "trusted": false,
        "collapsed": true
      },
      "cell_type": "code",
      "source": "#df_train = df_train.drop([ 'category_1', 'category_2', 'category_3', 3, 4,'cat1_avg', 'cat2_avg', 'cat3_avg', 'brand_avg' ], axis=1)\n#df_train = df_train.drop([ 'brand_name', 'category_name',], axis=1)\ndf_train = df_train[['train_id','name', 'item_condition_id', 'price', 'shipping',  'item_description', 'cat1_rank',  'cat2_rank' ,  'cat3_rank' ,  'brand_rank', 'category_1', 'category_2', 'category_3','brand_name']]\ndf_train.head()",
      "execution_count": null,
      "outputs": []
    },
    {
      "metadata": {
        "_uuid": "6e9830b79764eb6e3f1dda05791ec2b8e1b724e3",
        "_cell_guid": "35402325-a2cf-4f2a-a081-5f6385fcd97e",
        "trusted": false,
        "collapsed": true
      },
      "cell_type": "code",
      "source": "df_train['cat1_rank'].fillna(0, inplace=True)\ndf_train['cat2_rank'].fillna(0, inplace=True)\ndf_train['cat3_rank'].fillna(0, inplace=True)\ndf_train['brand_rank'].fillna(0, inplace=True)\ndf_train['cat1_rank'] = df_train['cat1_rank'].astype(int)\ndf_train['cat2_rank'] = df_train['cat2_rank'].astype(int)\ndf_train['cat3_rank'] = df_train['cat3_rank'].astype(int)\ndf_train['brand_rank'] = df_train['brand_rank'].astype(int)\ndf_train.head()",
      "execution_count": null,
      "outputs": []
    },
    {
      "metadata": {
        "_uuid": "63405ade630ba0880e86fbd2f6710ec4b5ba3927",
        "_cell_guid": "13307667-de6b-4230-ae43-63f2d873f8f6",
        "trusted": false,
        "collapsed": true
      },
      "cell_type": "code",
      "source": "#converting categorical features in test data to meaningful quantitative features\ndf_test = df_te.join(df_te['category_name'].str.split('/', expand=True).rename(columns={0:'category_1' , 1:'category_2', 2: 'category_3'}))\ndf_test.head()\n#df_test.columns",
      "execution_count": null,
      "outputs": []
    },
    {
      "metadata": {
        "_uuid": "011084b71afd8c368093be2fbe6f272ad49ca521",
        "_cell_guid": "e2bbd474-6372-4e02-a2f9-6e709924e55d",
        "trusted": false,
        "collapsed": true
      },
      "cell_type": "code",
      "source": "df_test['cat1_avg'] = df_train['price'].groupby(df_train['category_1']).transform('mean')\ndf_test.cat1_avg = df_test.cat1_avg.round(1)\n#df['cat1_rank'] = df['cat1_avg'].rank(ascending=1)\ndf_test['cat1_rank'] =  df_test.cat1_avg.rank(method='dense')\n#df1 = df[df['category_1']=='Vintage & Collectibles']\n#df1\ndf_test['cat2_avg'] = df_train['price'].groupby(df_train['category_2']).transform('mean')\ndf_test.cat2_avg = df_test.cat2_avg.round(1)\ndf_test['cat2_rank'] =  df_test.cat2_avg.rank(method='dense')\n\ndf_test['cat3_avg'] = df_train['price'].groupby(df_train['category_3']).transform('mean')\ndf_test.cat3_avg = df_test.cat3_avg.round(1)\ndf_test['cat3_rank'] =  df_test.cat3_avg.rank(method='dense')\n\ndf_test['brand_avg'] = df_train['price'].groupby(df_train['brand_name']).transform('mean')\ndf_test.brand_avg = df_test.brand_avg.round(1)\ndf_test['brand_rank'] =  df_test.brand_avg.rank(method='dense')",
      "execution_count": null,
      "outputs": []
    },
    {
      "metadata": {
        "_uuid": "03689f1af87b6a74cd31480c7f4c094cddb5eb8b",
        "_cell_guid": "23ad9208-6a6a-418a-a1d7-248e9c15c011",
        "trusted": false,
        "collapsed": true
      },
      "cell_type": "code",
      "source": "df_test = df_test[['test_id','name', 'item_condition_id', 'shipping',  'item_description', 'cat1_rank',  'cat2_rank' ,  'cat3_rank' ,  'brand_rank']]\ndf_test.head()",
      "execution_count": null,
      "outputs": []
    },
    {
      "metadata": {
        "_uuid": "1914789f36cae0a87ec8152c98265f4d6ff01fe0",
        "_cell_guid": "77257973-83de-4083-8cc1-9589f67e4fb8",
        "trusted": false,
        "collapsed": true
      },
      "cell_type": "code",
      "source": "df_test['cat1_rank'].fillna(0, inplace=True)\ndf_test['cat2_rank'].fillna(0, inplace=True)\ndf_test['cat3_rank'].fillna(0, inplace=True)\ndf_test['brand_rank'].fillna(0, inplace=True)\ndf_test['cat1_rank'] = df_test['cat1_rank'].astype(int)\ndf_test['cat2_rank'] = df_test['cat2_rank'].astype(int)\ndf_test['cat3_rank'] = df_test['cat3_rank'].astype(int)\ndf_test['brand_rank'] = df_test['brand_rank'].astype(int)\ndf_test.head()",
      "execution_count": null,
      "outputs": []
    },
    {
      "metadata": {
        "_uuid": "e15c375c0954ec11367cafd4f1750349a2827cc8",
        "_cell_guid": "7b00242c-2a52-460e-82c2-bd9b21e5f59d",
        "trusted": false,
        "collapsed": true
      },
      "cell_type": "code",
      "source": "df_train = df_train[['train_id','name', 'item_condition_id', 'price', 'shipping',  'item_description', 'cat1_rank',  'cat2_rank' ,  'cat3_rank' ,  'brand_rank']]\ndf_train.head()",
      "execution_count": null,
      "outputs": []
    },
    {
      "metadata": {
        "collapsed": true,
        "_uuid": "321d1c52852f95a01929f7da50f406da3f2d316d",
        "_cell_guid": "96adcd3f-d3ac-47c5-8ba3-76fd8bf32cb0",
        "trusted": false
      },
      "cell_type": "code",
      "source": "#STEMMING we have 1. porter, 2. snowball, 3. wordnetlemmatizer. Lets use wordNetLemmatizer which is not exactly as stemming, \n#the lemmatizer needs the POS(part of speech) of the word, ‘v’ (for verb), to work, and even though it is much slower than the others, \n#it returns an actual english word. \nimport nltk.stem\n#from nltk.stem import WordNetLemmatizer\nfrom nltk.stem.porter import PorterStemmer\n\n#Tokenize\nimport re\ndef tokenize(text):\n    stemmer = PorterStemmer()\n    #lemmatizer = WordNetLemmatizer()\n    tokens = []\n    stems = []\n    for row in text:\n        rtext = re.sub(\"[^a-zA-Z]\",\" \", row)\n        token = nltk.word_tokenize(rtext.lower())\n        tokens.append(token)\n    #print(tokens)\n    for i in range(len(tokens)):\n        for j in range(len(tokens[i])):\n            stems.append(stemmer.stem(tokens[i][j]))\n            #stems.append(lemmatizer.lemmatize(tokens[i][j], pos=\"n\")\n    return stems  ",
      "execution_count": null,
      "outputs": []
    },
    {
      "metadata": {
        "_uuid": "136f7472e54c125aa301b8d73216e10448772e7a",
        "_cell_guid": "9c5ba2a0-47b1-4444-93ec-4da80b43b823",
        "trusted": false,
        "collapsed": true
      },
      "cell_type": "code",
      "source": "t0=time()\ntrain_name = tokenize(df_train['name'])\ntrain_item_ds = tokenize(df_train['item_description'])\nprint(time()-t0)",
      "execution_count": null,
      "outputs": []
    },
    {
      "metadata": {
        "_uuid": "30a9bb2322105d4f8d7e955f5d37f09de56c83d5",
        "_cell_guid": "2d4d1439-8b78-42d7-b039-1e6c758a44f7",
        "trusted": false,
        "collapsed": true
      },
      "cell_type": "code",
      "source": "t0=time()\ntest_name = tokenize(df_test['name'])\ntest_item_ds = tokenize(df_test['item_description'])\nprint(time()-t0)",
      "execution_count": null,
      "outputs": []
    },
    {
      "metadata": {
        "_uuid": "97df5c83295f4f385bcea829b1818bb30be49fc1",
        "_cell_guid": "8fe37241-8ab4-4488-b741-ffaf611ec5a8",
        "trusted": false,
        "collapsed": true
      },
      "cell_type": "code",
      "source": "t0=time()\nfull_n = train_name + test_name\nfull_it = train_item_ds + test_item_ds\nprint(time()-t0)",
      "execution_count": null,
      "outputs": []
    },
    {
      "metadata": {
        "_uuid": "08402836acf8877ee34efb9de94084d1dd869bfc",
        "_cell_guid": "40296f68-f606-44dc-9e79-f79189870a6c",
        "trusted": false,
        "collapsed": true
      },
      "cell_type": "code",
      "source": "t0=time()\nfrom sklearn.feature_extraction.text import TfidfVectorizer\ntfidf_vec = TfidfVectorizer(stop_words='english',  ngram_range=(1,1))\ntfidf_full_it = tfidf_vec.fit_transform(full_it)\ntrain_tfidf = tfidf_vec.transform(df_train['item_description'])\ntest_tfidf = tfidf_vec.transform(df_test['item_description'])\n\nn_comp = 20\nsvd_obj = TruncatedSVD(n_components=n_comp)#, algorithm='arpack')\nsvd_obj.fit(tfidf_full_it)\ntrain_svd = pd.DataFrame(svd_obj.transform(train_tfidf))\ntest_svd = pd.DataFrame(svd_obj.transform(test_tfidf))\n    \ntrain_svd.columns = ['svd_item_'+str(i) for i in range(n_comp)]\ntest_svd.columns = ['svd_item_'+str(i) for i in range(n_comp)]\n\ndf_train= pd.concat([df_train, train_svd], axis=1)\ndf_test = pd.concat([df_test , test_svd], axis=1)\nprint(time()-t0)\n",
      "execution_count": null,
      "outputs": []
    },
    {
      "metadata": {
        "_uuid": "a14c45127c3799b945f1a920572a8733883e172f",
        "_cell_guid": "7271cad3-039b-4b15-a53e-50fc82204d27",
        "trusted": false,
        "collapsed": true
      },
      "cell_type": "code",
      "source": "t1=time()\ntfidf_vec = TfidfVectorizer(stop_words='english', ngram_range=(1,1))\ntfidf_full_n = tfidf_vec.fit_transform(full_n)\ntrain_tfidf = tfidf_vec.transform(df_train['name'])\ntest_tfidf = tfidf_vec.transform(df_test['name'])\n\nn_comp = 20\nsvd_obj = TruncatedSVD(n_components=n_comp)#, algorithm='arpack')\nsvd_obj.fit(tfidf_full_n)\ntrain_svd = pd.DataFrame(svd_obj.transform(train_tfidf))\ntest_svd = pd.DataFrame(svd_obj.transform(test_tfidf))\n    \ntrain_svd.columns = ['svd_name_'+str(i) for i in range(n_comp)]\ntest_svd.columns = ['svd_name_'+str(i) for i in range(n_comp)]\ndf_train = pd.concat([df_train, train_svd], axis=1)\ndf_test = pd.concat([df_test, test_svd], axis=1)\nprint(time()-t1)",
      "execution_count": null,
      "outputs": []
    },
    {
      "metadata": {
        "_uuid": "bbf905dfa12cd4f7e23ec7e3744f2fcc24f659d7",
        "_cell_guid": "5ac3e031-48c2-4e8f-8e11-d0dda15325f5",
        "trusted": false,
        "collapsed": true
      },
      "cell_type": "code",
      "source": "df_train = df_train.drop([ 'name', 'train_id','item_description'], axis=1)\ndf_train.head()\ndf_train.shape",
      "execution_count": null,
      "outputs": []
    },
    {
      "metadata": {
        "_uuid": "742e5d05c5b3aef123999b7e2c0eb23ff3e77b9e",
        "_cell_guid": "b13e4bfa-ac9e-47b1-a1f7-8e98e6bdf924",
        "trusted": false,
        "collapsed": true
      },
      "cell_type": "code",
      "source": "df_test = df_test.drop([ 'name', 'item_description'], axis=1)\ndf_test.head()",
      "execution_count": null,
      "outputs": []
    },
    {
      "metadata": {
        "collapsed": true,
        "_uuid": "66013a34a347a19ef51927b0d095813816964b10",
        "_cell_guid": "5f5172d3-ff1b-470d-9f81-3fac11b4c36d",
        "trusted": false
      },
      "cell_type": "code",
      "source": "df_test_f = df_test.drop([ 'test_id'], axis=1)",
      "execution_count": null,
      "outputs": []
    },
    {
      "metadata": {
        "_uuid": "e8b3fcf2ade117a3fd3cd37230efcec408cbff73",
        "_cell_guid": "12d8ac1c-69ad-403f-8fce-240580f29c04"
      },
      "cell_type": "markdown",
      "source": "**Train, validation data set split**"
    },
    {
      "metadata": {
        "collapsed": true,
        "_uuid": "b4e79270a2f7ff1c137238ad3e7bdf43fb642884",
        "_cell_guid": "8ce53c08-d992-43f1-aa45-7a28800b4fa9",
        "trusted": false
      },
      "cell_type": "code",
      "source": "import numpy as np\ndf_train[\"price\"] = df_train[\"price\"].astype(int)\ny = df_train[\"price\"]\n",
      "execution_count": null,
      "outputs": []
    },
    {
      "metadata": {
        "_uuid": "1534f89f60c154204454bce16dd34779a93b345f",
        "_cell_guid": "0ae7dd39-308b-40f6-b5cd-8b9777086bcb",
        "trusted": false,
        "collapsed": true
      },
      "cell_type": "code",
      "source": "X= df_train.drop(['price'], axis = 1)\nX_train,X_val,Y_train,Y_val = train_test_split(X,y,test_size = 0.2)\n\nX_train.shape",
      "execution_count": null,
      "outputs": []
    },
    {
      "metadata": {
        "_uuid": "e35427a792620750d2ba746250c1491fcc55c91f",
        "_cell_guid": "274a7fcc-a30a-450f-ba8a-886dcb80217b"
      },
      "cell_type": "markdown",
      "source": "> **Train models**"
    },
    {
      "metadata": {
        "_uuid": "a1b364821ec45368c0ab9c812675f11fc411a1b1",
        "_cell_guid": "32e77a7e-b063-4395-b3d8-188c67bf1813",
        "trusted": false,
        "collapsed": true
      },
      "cell_type": "code",
      "source": "t0=time()\n#Apply Random forest regressor\nfrom sklearn.ensemble import RandomForestRegressor\nfrom sklearn.metrics import mean_absolute_error\nrmodel = RandomForestRegressor(n_estimators=1000, n_jobs=-1, max_features=\"sqrt\")\nrmodel.fit(X_train,Y_train)\nprint(time()-t0)",
      "execution_count": null,
      "outputs": []
    },
    {
      "metadata": {
        "_uuid": "c20f56505237497b11c818355e8eaafbc17ec0bf",
        "_cell_guid": "6554dec9-728e-4ac2-aef3-ecba7fd6e317",
        "trusted": false,
        "collapsed": true
      },
      "cell_type": "code",
      "source": "# Apply the Regressor we trained to the valuation data\nypred = rmodel.predict(X_val)\n#print('MAE', mean_absolute_error(Y_val, ypred))\nprint('MSE', mean_squared_error(Y_val, ypred))\n#print('R2', r2_score(Y_val, ypred, multioutput='variance_weighted'))\nprint('M_log_error', mean_squared_log_error(Y_val, ypred))\nprint('Variance score: %.2f' % r2_score(Y_val, ypred))",
      "execution_count": null,
      "outputs": []
    },
    {
      "metadata": {
        "collapsed": true,
        "_uuid": "37a0bac82c75effd211ad42e41b0eec1664b352c",
        "_cell_guid": "ed03e93f-12ff-4442-b22c-6be560cff921",
        "trusted": false
      },
      "cell_type": "code",
      "source": "#Apply Linear Regression\nfrom sklearn import datasets, linear_model\nfrom sklearn.metrics import mean_squared_error, r2_score\nlregr = linear_model.LinearRegression()",
      "execution_count": null,
      "outputs": []
    },
    {
      "metadata": {
        "_uuid": "cf56bf2b1e40b8f40f2e0e66dd49226ab4a8a5e9",
        "_cell_guid": "465ce7ea-f8ea-4122-b1b7-c4b546bf4948",
        "trusted": false,
        "collapsed": true
      },
      "cell_type": "code",
      "source": "# Train the model using the training sets\nlregr.fit(X_train, Y_train)",
      "execution_count": null,
      "outputs": []
    },
    {
      "metadata": {
        "collapsed": true,
        "_uuid": "e0b5d736057857b0b03c07077ec62efdbe494382",
        "_cell_guid": "541996c9-cdb7-4e16-b6be-e9b91ec72d83",
        "trusted": false
      },
      "cell_type": "code",
      "source": "y_predl = lregr.predict(X_val)",
      "execution_count": null,
      "outputs": []
    },
    {
      "metadata": {
        "_uuid": "71ca7e26b2f284f441259a11af76b936865302a8",
        "_cell_guid": "97831853-1fd6-44a3-a603-25cf8b6d3cc0",
        "trusted": false,
        "collapsed": true
      },
      "cell_type": "code",
      "source": "# The mean squared error\nprint(\"Mean squared error: %.2f\" % mean_squared_error(Y_val, y_predl))\n# Explained variance score: 1 is perfect prediction\nprint('Variance score: %.2f' % r2_score(Y_val, y_predl))\n# Mean square error is high and same as RandomForest",
      "execution_count": null,
      "outputs": []
    },
    {
      "metadata": {
        "_uuid": "7f4ea96e7754ab40a0ca8b2e5fbd3f523893e394",
        "_cell_guid": "f57d786a-1ee8-4280-952f-4d56f4c51688",
        "trusted": false,
        "collapsed": true
      },
      "cell_type": "code",
      "source": "t0=time()\n#Apply stochastic gradient Descent Regression\n#Scale the data first as SGD is sensitive to scaling\nfrom sklearn.preprocessing import StandardScaler\nscaler = StandardScaler()\nscaler.fit(X_train)  # Don't cheat - fit only on training data\nX_train1 = scaler.transform(X_train)\n#Y_train1 = scaler.transform(Y_train)\nX_val1 = scaler.transform(X_val)  # apply same transformation to validation data\nprint(time()-t0)",
      "execution_count": null,
      "outputs": []
    },
    {
      "metadata": {
        "_uuid": "603b686b668718fa8b99f13c95383e77c43f860a",
        "_cell_guid": "64826262-2561-48c2-ad7f-c9faa33110f1",
        "trusted": false,
        "collapsed": true
      },
      "cell_type": "code",
      "source": "\nfrom sklearn import linear_model\nsgmodel = linear_model.SGDRegressor()\nsgmodel.fit(X_train1, Y_train)",
      "execution_count": null,
      "outputs": []
    },
    {
      "metadata": {
        "_uuid": "c7c4c6b08bdbe3e6a980ff71cbacb51e21380d18",
        "_cell_guid": "f2eb9b19-bd7b-4e38-82fc-c5217c287a2f",
        "trusted": false,
        "collapsed": true
      },
      "cell_type": "code",
      "source": "#from sklearn.metrics import score\n#print(score(X_train, Y_train))\ny_predsg = sgmodel.predict(X_val1)",
      "execution_count": null,
      "outputs": []
    },
    {
      "metadata": {
        "_uuid": "59a555763f8d60a7a71ebaf7cb4c8db483acf0d9",
        "_cell_guid": "f8d92c33-5a57-4aa5-8c2d-fa3a223b9258",
        "trusted": false,
        "collapsed": true
      },
      "cell_type": "code",
      "source": "# The mean squared error\nprint(\"Mean squared error: %.2f\" % mean_squared_error(Y_val, y_predsg))\n# Explained variance score: 1 is perfect prediction\nprint('Variance score: %.2f' % r2_score(Y_val, y_predsg))\n# Mean square error is high and same as RandomForest",
      "execution_count": null,
      "outputs": []
    },
    {
      "metadata": {
        "collapsed": true,
        "_uuid": "6638220d54ea2f67444220bb163b2db2a4bc9899",
        "_cell_guid": "6cbc5c7e-f4f1-47ad-822b-de5cba2ae3fd",
        "trusted": false
      },
      "cell_type": "code",
      "source": "# create Deep Learning model\ndmodel = Sequential()\ndmodel.add(Dense(45, input_dim=46, kernel_initializer='normal', activation='relu'))\ndmodel.add(Dense(32, kernel_initializer='normal', activation='relu'))\ndmodel.add(Dense(12, kernel_initializer='normal', activation='relu'))\ndmodel.add(Dense(1, kernel_initializer='normal'))",
      "execution_count": null,
      "outputs": []
    },
    {
      "metadata": {
        "_uuid": "c7c05a0e3b0a25c624fd132693e0f4c04e6f8583",
        "_cell_guid": "257a1e11-1223-4367-a8d5-a8acce66bfc5",
        "trusted": false,
        "collapsed": true
      },
      "cell_type": "code",
      "source": "dmodel.summary()\n#Deep Learning accuracy was very low (0.002) which is very bad",
      "execution_count": null,
      "outputs": []
    },
    {
      "metadata": {
        "collapsed": true,
        "_uuid": "1fa0f667bacfa812400c26c43a4f58a6425857ce",
        "_cell_guid": "ac1c31e6-253f-49a3-bef0-0d668329872e",
        "trusted": false
      },
      "cell_type": "code",
      "source": "# Compile model\ndmodel.compile(loss='mean_squared_error', optimizer='adam', metrics=['accuracy'])",
      "execution_count": null,
      "outputs": []
    },
    {
      "metadata": {
        "_uuid": "1f941ead03d9dc1a5117afb2a9e8258629e4e03f",
        "_cell_guid": "f5cd7054-3dbe-4f59-b0d6-ef9e5f0e22ec",
        "trusted": false,
        "collapsed": true
      },
      "cell_type": "code",
      "source": "t0=time()\n# Fit the model\ndmodel.fit(X_train, Y_train, epochs=10)\nprint(time()-t0)",
      "execution_count": null,
      "outputs": []
    },
    {
      "metadata": {
        "_uuid": "96183eb7cad038bd4af98be8cb793a71c66dab61",
        "_cell_guid": "e40b4e25-0163-4e2d-a731-d3bf6a52ce4a",
        "trusted": false,
        "collapsed": true
      },
      "cell_type": "code",
      "source": "# evaluate the model\nscores = dmodel.evaluate(X_train, Y_train)\nprint(\"\\n%s: %.2f%%\" % (dmodel.metrics_names[1], scores[1]*100))",
      "execution_count": null,
      "outputs": []
    },
    {
      "metadata": {
        "scrolled": true,
        "collapsed": true,
        "_uuid": "5ce0620743dbb8f8f6f8e9701ee6b99e7e8818f9",
        "_cell_guid": "cb8b5b6b-3952-45b6-8fa0-28d78086768d",
        "trusted": false
      },
      "cell_type": "code",
      "source": "# calculate predictions\n#predictions = dmodel.predict(X_val)\n# round predictions\n#rounded = [round(x[0]) for x in predictions]\n#print(rounded)",
      "execution_count": null,
      "outputs": []
    },
    {
      "metadata": {
        "_uuid": "1c634fb4827ab18cf33a950024dad6c46f179b7a",
        "_cell_guid": "d416b79f-670c-40d6-a73b-35d07594c5fa"
      },
      "cell_type": "markdown",
      "source": "**Apply model to test data**"
    },
    {
      "metadata": {
        "_uuid": "50c3371829187eba92d364b6fc6f40c2a46b957c",
        "_cell_guid": "56e7fc34-6811-4c9b-b43a-71202cc7ce2b",
        "trusted": false,
        "collapsed": true
      },
      "cell_type": "code",
      "source": "# Apply the Regressor we trained to the test data (which, remember, it has never seen before)\nypred_final = rmodel.predict(df_test_f)",
      "execution_count": null,
      "outputs": []
    },
    {
      "metadata": {
        "_uuid": "a21ae432844c007b792191355cacfaa961929f32",
        "_cell_guid": "51b46332-f630-41aa-8119-aac7bf89785b",
        "trusted": false,
        "collapsed": true
      },
      "cell_type": "code",
      "source": "yfinal = pd.DataFrame({'price': ypred_final })\nyfinal['test_id'] = df_test['test_id']\n\nyfinal.to_csv(\"sample_submission.csv\", index=False)\n#print(check_output([\"ls\", \"../input\"]).decode(\"utf8\"))",
      "execution_count": null,
      "outputs": []
    }
  ],
  "metadata": {
    "language_info": {
      "file_extension": ".py",
      "version": "3.6.4",
      "pygments_lexer": "ipython3",
      "nbconvert_exporter": "python",
      "codemirror_mode": {
        "version": 3,
        "name": "ipython"
      },
      "name": "python",
      "mimetype": "text/x-python"
    },
    "kernelspec": {
      "display_name": "Python 3",
      "language": "python",
      "name": "python3"
    }
  },
  "nbformat": 4,
  "nbformat_minor": 1
}