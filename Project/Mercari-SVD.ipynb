{
  "cells": [
    {
      "metadata": {
        "_cell_guid": "59479a7a-a9f4-4bee-bc14-00fd1a2815ba",
        "_uuid": "fc80d6474f9b682888550709484a03f147c3c5c4",
        "collapsed": true,
        "trusted": true
      },
      "cell_type": "code",
      "source": "# This Python 3 environment comes with many helpful analytics libraries installed\n# It is defined by the kaggle/python docker image: https://github.com/kaggle/docker-python\n# For example, here's several helpful packages to load in \n\nimport numpy as np # linear algebra\nimport pandas as pd # data processing, CSV file I/O (e.g. pd.read_csv)\nfrom matplotlib import pyplot as plt\nfrom sklearn.tree import DecisionTreeRegressor as dtr\nfrom sklearn import tree\nfrom sklearn.model_selection import GridSearchCV, train_test_split\nfrom sklearn.tree import DecisionTreeClassifier as dtc\nfrom math import floor\nimport random\nfrom math import sqrt\nfrom sklearn.metrics import mean_squared_error\nfrom sklearn.decomposition import TruncatedSVD\nfrom sklearn.ensemble import RandomForestRegressor\nfrom sklearn.metrics import mean_absolute_error\nfrom sklearn.metrics import mean_squared_error\nfrom sklearn.metrics import r2_score\nfrom sklearn.metrics import mean_squared_log_error\nfrom time import time",
      "execution_count": 1,
      "outputs": []
    },
    {
      "metadata": {
        "_cell_guid": "337a66d3-a970-4572-a68f-331e0102e58b",
        "_uuid": "024e928761bfed01191fc7f833fd4fd3faee67f1",
        "trusted": true
      },
      "cell_type": "code",
      "source": "# Input data files are available in the \"../input/\" directory.\n# For example, running this (by clicking run or pressing Shift+Enter) will list the files in the input directory\nimport pandas as pd\nfrom subprocess import check_output\n#print(check_output([\"ls\", \"../input\"]).decode(\"utf8\"))\n\n# Any results you write to the current directory are saved as output.\n\nprint(\"loading data\")\ntrain_data = pd.read_table(\"../input/train.tsv\")\ntest_data= pd.read_table(\"../input/test.tsv\")\nprint(train_data.shape)\ndf_tr = train_data[:100000]\ndf_te = test_data[:100000]\n\n#df_tr = pd.read_table(\"../input/train.tsv\")\n#df_te = pd.read_table(\"../input/test.tsv\")\n\n\nprint(df_tr.shape)\nprint(df_te.shape)\n",
      "execution_count": 2,
      "outputs": [
        {
          "name": "stdout",
          "output_type": "stream",
          "text": "loading data\n(1482535, 8)\n(100000, 8)\n(100000, 7)\n"
        }
      ]
    },
    {
      "metadata": {
        "_cell_guid": "22b71ea7-d5df-4e03-aa10-6db4cd4ae159",
        "_uuid": "f2bf17e9afffceb28f06b62779b1b0352d1ddf0b",
        "collapsed": true,
        "trusted": true
      },
      "cell_type": "code",
      "source": "df_tr = df_tr.reset_index(drop=True)\ndf_te = df_te.reset_index(drop=True)",
      "execution_count": null,
      "outputs": []
    },
    {
      "metadata": {
        "_cell_guid": "bdc5d391-c200-4f1a-aead-b674641ea497",
        "_uuid": "576b6ea6726585a8b71a203ef43fc7d7d87e0826",
        "collapsed": true,
        "trusted": true
      },
      "cell_type": "code",
      "source": "# check for nulls\ndf_tr.isnull().sum()\ndf_te.isnull().sum()",
      "execution_count": null,
      "outputs": []
    },
    {
      "metadata": {
        "_cell_guid": "45435d40-bbd7-4df3-9702-16df0ca362e4",
        "_uuid": "9583a76747b832dac341fa3026d0e399774d6f3c",
        "collapsed": true,
        "trusted": true
      },
      "cell_type": "code",
      "source": "#Impute values in place of missig values.\ndf_tr['category_name'] = df_tr['category_name'].fillna(\"Unknown\")\ndf_te['category_name'] = df_te['category_name'].fillna(\"Unknown\")\ndf_tr['brand_name'] = df_tr['brand_name'].fillna(\"Unknown\")\ndf_te['brand_name'] = df_te['brand_name'].fillna(\"Unknown\")\ndf_tr['item_description'] = df_tr['item_description'].fillna(\"Unknown\")\ndf_te['item_description'] = df_te['item_description'].fillna(\"Unknown\")",
      "execution_count": null,
      "outputs": []
    },
    {
      "metadata": {
        "_cell_guid": "ab666840-e3f6-476f-a1f8-cc4b41f81a45",
        "_uuid": "99493a9c9f8fec6aac4a515b9c29168d882b8655",
        "collapsed": true,
        "trusted": true
      },
      "cell_type": "code",
      "source": "df_tr.dtypes",
      "execution_count": null,
      "outputs": []
    },
    {
      "metadata": {
        "_cell_guid": "2428db71-43c9-4ed4-a8ef-eded167dd324",
        "_uuid": "912d77ea6184f959f346e75a50b321be3c466458",
        "collapsed": true,
        "trusted": true
      },
      "cell_type": "code",
      "source": "df_tr.price.describe()",
      "execution_count": null,
      "outputs": []
    },
    {
      "metadata": {
        "_cell_guid": "b8067f7b-8b86-4bda-a010-63649a5f1415",
        "_uuid": "7a07837a6fb5f41ab8d61c34bd927dbc77a1bbb1",
        "collapsed": true,
        "trusted": true
      },
      "cell_type": "code",
      "source": "df_tr.columns\ndf_tr.isnull().sum()",
      "execution_count": null,
      "outputs": []
    },
    {
      "metadata": {
        "_cell_guid": "157d1195-f62c-4271-bb12-c354a6ddb386",
        "_uuid": "60e33de0ae65cb369a1dc7071e854365f171ff31",
        "collapsed": true,
        "trusted": true
      },
      "cell_type": "code",
      "source": "df_te.isnull().sum()",
      "execution_count": null,
      "outputs": []
    },
    {
      "metadata": {
        "_cell_guid": "8c59b618-b13d-4b94-a922-f6797575ad3a",
        "_uuid": "98e70ca5691346813decaac540574c1c3ef5fbe8",
        "collapsed": true,
        "trusted": true
      },
      "cell_type": "code",
      "source": "df_tr.head()",
      "execution_count": null,
      "outputs": []
    },
    {
      "metadata": {
        "_cell_guid": "2ae4cb77-e9d7-40f0-98f0-77429a345b41",
        "_uuid": "adaf7a3e9db58ecc1fe8d3fd99d0ef218ddb8887"
      },
      "cell_type": "markdown",
      "source": "**Train Data Feature Engineering**"
    },
    {
      "metadata": {
        "_cell_guid": "46d33527-53e0-4f68-8215-4386b57fbfa9",
        "_uuid": "0751749eb979f0d5618f32ad298127af6fe05fcf",
        "collapsed": true,
        "trusted": true
      },
      "cell_type": "code",
      "source": "#converting categorical features to meaningful quantitative features",
      "execution_count": null,
      "outputs": []
    },
    {
      "metadata": {
        "_cell_guid": "7654c5e7-aa57-4fb5-9cb3-5e84785492e4",
        "_uuid": "8a48283ee2a37b8c1a30861f7223857f2c57c6e4",
        "collapsed": true,
        "scrolled": false,
        "trusted": true
      },
      "cell_type": "code",
      "source": "df_train = df_tr.join(df_tr['category_name'].str.split('/', expand=True).rename(columns={0:'category_1' , 1:'category_2', 2: 'category_3', 3: 'category_4'}))\ndf_train.shape\n#df_train.columns",
      "execution_count": null,
      "outputs": []
    },
    {
      "metadata": {
        "_cell_guid": "0d397639-32af-4f0b-8ac2-2f64a98f2586",
        "_uuid": "63be3c4c3fb08afbe29969d723989a84edeb851b",
        "collapsed": true,
        "trusted": true
      },
      "cell_type": "code",
      "source": "df_train['cat1_avg'] = df_train['price'].groupby(df_train['category_1']).transform('mean')\ndf_train.cat1_avg = df_train.cat1_avg.round(1)\n#df['cat1_rank'] = df['cat1_avg'].rank(ascending=1)\ndf_train['cat1_rank'] =  df_train.cat1_avg.rank(method='dense')\n#df1 = df[df['category_1']=='Vintage & Collectibles']\n#df1\ndf_train['cat2_avg'] = df_train['price'].groupby(df_train['category_2']).transform('mean')\ndf_train.cat2_avg = df_train.cat2_avg.round(1)\ndf_train['cat2_rank'] =  df_train.cat2_avg.rank(method='dense')\n\ndf_train['cat3_avg'] = df_train['price'].groupby(df_train['category_3']).transform('mean')\ndf_train.cat3_avg = df_train.cat3_avg.round(1)\ndf_train['cat3_rank'] =  df_train.cat3_avg.rank(method='dense')\n\ndf_train['cat4_avg'] = df_train['price'].groupby(df_train['category_4']).transform('mean')\ndf_train.cat4_avg = df_train.cat4_avg.round(1)\ndf_train['cat4_rank'] =  df_train.cat4_avg.rank(method='dense')\n\ndf_train['brand_avg'] = df_train['price'].groupby(df_train['brand_name']).transform('mean')\ndf_train.brand_avg = df_train.brand_avg.round(1)\ndf_train['brand_rank'] =  df_train.brand_avg.rank(method='dense')\n\ndf_train = df_train.drop([ 'category_1', 'category_2', 'category_3', 'category_4','cat1_avg', 'cat2_avg', 'cat3_avg', 'cat4_avg', 'brand_avg' ], axis=1)\ndf_train = df_train.drop([ 'brand_name', 'category_name',], axis=1)\ndf_train = df_train[['train_id','name', 'item_condition_id', 'price', 'shipping',  'item_description', 'cat1_rank',  'cat2_rank' ,  'cat3_rank' ,  'cat4_rank' ,  'brand_rank']]\ndf_train.head()",
      "execution_count": null,
      "outputs": []
    },
    {
      "metadata": {
        "_cell_guid": "f54cf4ab-7043-4313-9552-6e9d5f628424",
        "_uuid": "5991a440e16e7e0bef972f7330d5fad077fed8a6",
        "collapsed": true,
        "trusted": true
      },
      "cell_type": "code",
      "source": "df_train['cat1_rank'].fillna(0, inplace=True)\ndf_train['cat2_rank'].fillna(0, inplace=True)\ndf_train['cat3_rank'].fillna(0, inplace=True)\ndf_train['cat4_rank'].fillna(0, inplace=True)\ndf_train.head()\n\ndf_train.dtypes",
      "execution_count": null,
      "outputs": []
    },
    {
      "metadata": {
        "_cell_guid": "96adcd3f-d3ac-47c5-8ba3-76fd8bf32cb0",
        "_uuid": "321d1c52852f95a01929f7da50f406da3f2d316d",
        "collapsed": true,
        "trusted": true
      },
      "cell_type": "code",
      "source": "#STEMMING we have 1. porter, 2. snowball, 3. wordnetlemmatizer. Lets use wordNetLemmatizer which is not exactly as stemming, \n#the lemmatizer needs the POS(part of speech) of the word, ‘v’ (for verb), to work, and even though it is much slower than the others, \n#it returns an actual english word. \nimport nltk.stem\nfrom nltk.stem import WordNetLemmatizer\nfrom nltk.stem.porter import PorterStemmer\n\n#Tokenize\nimport re\ndef tokenize(text):\n    stemmer = PorterStemmer()\n    #lemmatizer = WordNetLemmatizer()\n    tokens = []\n    stems = []\n    for row in text:\n        rtext = re.sub(\"[^a-zA-Z]\",\" \", row)\n        token = nltk.word_tokenize(rtext.lower())\n        tokens.append(token)\n    #print(tokens)\n    for i in range(len(tokens)):\n        for j in range(len(tokens[i])):\n            stems.append(stemmer.stem(tokens[i][j]))\n            #stems.append(lemmatizer.lemmatize(tokens[i][j], pos=\"n\")\n    return stems  ",
      "execution_count": null,
      "outputs": []
    },
    {
      "metadata": {
        "_cell_guid": "40296f68-f606-44dc-9e79-f79189870a6c",
        "_uuid": "08402836acf8877ee34efb9de94084d1dd869bfc",
        "collapsed": true,
        "trusted": true
      },
      "cell_type": "code",
      "source": "t0=time()\ntrain_name = tokenize(df_train['name'])\ntrain_item_ds = tokenize(df_train['item_description'])\nprint(time()-t0)",
      "execution_count": null,
      "outputs": []
    },
    {
      "metadata": {
        "_cell_guid": "35bde350-9532-4e45-97eb-3bde5545b7b0",
        "_uuid": "b33773b2476342b3384a4811b8e9fe2cc22c522c",
        "collapsed": true,
        "trusted": true
      },
      "cell_type": "code",
      "source": "#vectorize tokens  with Tfidf, with max document frequency not higher than 10 and maximum features of 100K, using bi-gramm \nfrom sklearn.feature_extraction.text import TfidfVectorizer\nvectorizer_n = TfidfVectorizer(min_df=10,max_features=100000,ngram_range=(1, 2),  stop_words='english')",
      "execution_count": null,
      "outputs": []
    },
    {
      "metadata": {
        "_cell_guid": "08c0d70f-ec97-4dae-bfa0-40a7c19876ba",
        "_uuid": "781ee1dc3afca807499b39040ce3f537c9420f25",
        "collapsed": true,
        "trusted": true
      },
      "cell_type": "code",
      "source": "t0=time()\n# vectorized 'name'\n#X_tfidf_vectorized_n = vectorizer_n.fit_transform(df_train['name'])\nvectorizer_n.fit(train_name)\ntrain_vectorized_n = vectorizer_n.transform(df_train['name'])\nvocab_tr = vectorizer_n.get_feature_names()\nprint(len(vocab_tr))\ntrain_vect_n = pd.DataFrame(train_vectorized_n.toarray(), columns=vectorizer_n.get_feature_names())\n#train_vect_n.head()\nprint(time()-t0)",
      "execution_count": null,
      "outputs": []
    },
    {
      "metadata": {
        "_cell_guid": "9ff3a5af-23a7-4a91-a652-866adedce561",
        "_uuid": "f63acc20e809ec0f95d70e9f98e9372ea4df6e7f",
        "collapsed": true,
        "trusted": true
      },
      "cell_type": "code",
      "source": "t0=time()\nvectorizer_it = TfidfVectorizer(min_df=10,max_features=100000,ngram_range=(1, 2),  stop_words='english')\nvectorizer_it.fit(train_item_ds)\ntrain_vectorized_it = vectorizer_it.transform(df_train['item_description'])\nvocab_it = vectorizer_it.get_feature_names()\ntrain_vect_it = pd.DataFrame(train_vectorized_it.toarray(), columns=vectorizer_it.get_feature_names())\nprint(len(vocab_it))\nprint(time()-t0)",
      "execution_count": null,
      "outputs": []
    },
    {
      "metadata": {
        "_cell_guid": "1246c162-c528-4ce5-80a4-ca46c973f864",
        "_uuid": "504e5c86538fd5622c784311cb6fe875275b8062",
        "collapsed": true,
        "trusted": true
      },
      "cell_type": "code",
      "source": "t0=time()\nn_comp = 20\n\nsvd = TruncatedSVD(n_components=n_comp)\ns_train = svd.fit(train_vectorized_n.toarray())\ntrain_svd = svd.transform(train_vectorized_n.toarray())\ntrain_svd_n = pd.DataFrame(train_svd)\ntrain_svd_n.columns = ['svd_name_'+str(i) for i in range(n_comp)]\nprint(time()-t0)",
      "execution_count": null,
      "outputs": []
    },
    {
      "metadata": {
        "_cell_guid": "a1748251-637f-46d8-851f-0fdecbd2b8fd",
        "_uuid": "b6aa3b3a263e574c7a95ad42eadd5c6636f0aadc",
        "collapsed": true,
        "trusted": true
      },
      "cell_type": "code",
      "source": "print(\"original shape:   \", train_vect_n.shape)\nprint(\"transformed shape:\", train_svd_n.shape)",
      "execution_count": null,
      "outputs": []
    },
    {
      "metadata": {
        "_cell_guid": "7bb3c6f9-487c-469b-8380-04f7edf8584f",
        "_uuid": "73470cafc300282188792cde11ae994e5a83885e",
        "collapsed": true,
        "trusted": true
      },
      "cell_type": "code",
      "source": "df_train_final = pd.concat([df_train, train_svd_n], axis=1)\ndf_train_final.shape",
      "execution_count": null,
      "outputs": []
    },
    {
      "metadata": {
        "_cell_guid": "7b82b46d-23f1-47e3-aacb-9c2ac4d646a3",
        "_uuid": "ccd0726bd1bebacb275c8ff1e77ef424d0745811",
        "collapsed": true,
        "trusted": true
      },
      "cell_type": "code",
      "source": "t0=time()\nn_comp = 20\nsvd = TruncatedSVD(n_components=n_comp)\ns_train = svd.fit(train_vectorized_it.toarray())\ntrain_svd_i = svd.transform(train_vectorized_it.toarray())\ntrain_svd_it = pd.DataFrame(train_svd_i)\ntrain_svd_it.columns = ['svd_it_des_'+str(i) for i in range(n_comp)]\nprint(time()-t0)",
      "execution_count": null,
      "outputs": []
    },
    {
      "metadata": {
        "_cell_guid": "97fee4f2-bc54-4b29-be65-9434e0ba54f2",
        "_uuid": "bc86c9877f9459d4d22a0abe8790a595a5f70be7",
        "collapsed": true,
        "trusted": true
      },
      "cell_type": "code",
      "source": "print(\"original shape:   \", train_vect_it.shape)\nprint(\"transformed shape:\", train_svd_it.shape)",
      "execution_count": null,
      "outputs": []
    },
    {
      "metadata": {
        "_cell_guid": "09a732b3-c736-4366-9a06-8c4936e34120",
        "_uuid": "00d92edbfe9b2360bc7f88a7940d83383013cc19",
        "collapsed": true,
        "trusted": true
      },
      "cell_type": "code",
      "source": "df_train_final = pd.concat([df_train_final, train_svd_it], axis=1)\ndf_train_final.shape",
      "execution_count": null,
      "outputs": []
    },
    {
      "metadata": {
        "_cell_guid": "c081bd7d-e92e-45d9-8616-1149533fcab9",
        "_uuid": "693dd03898608d247f955486c117297bef5659f3",
        "collapsed": true,
        "trusted": true
      },
      "cell_type": "code",
      "source": "df_train_f = df_train_final.drop(['name', 'item_description', 'train_id'], axis=1)\ndf_train_f.head()",
      "execution_count": null,
      "outputs": []
    },
    {
      "metadata": {
        "_cell_guid": "5b576616-0e27-45b1-bcc5-e0f07d723ec4",
        "_uuid": "83c672a2a266ea682979dd105c71bcffbd5f8d9b"
      },
      "cell_type": "markdown",
      "source": "**Test data feature engineering**"
    },
    {
      "metadata": {
        "_cell_guid": "10a02bcb-3314-46f5-8758-9b5ed59a94d8",
        "_uuid": "23a3015ee4c3b2ca19e23c81c2d498634eff0743",
        "collapsed": true,
        "trusted": true
      },
      "cell_type": "code",
      "source": "df_test = df_te.join(df_te['category_name'].str.split('/', expand=True).rename(columns={0:'category_1' , 1:'category_2', 2: 'category_3', 3: 'category_4'}))\ndf_test.shape",
      "execution_count": null,
      "outputs": []
    },
    {
      "metadata": {
        "_cell_guid": "0d8d1c85-1504-491b-b181-0fb8aa5af0fe",
        "_uuid": "831451cb001b06deb0a16eb92ebd17fa133e14ba",
        "collapsed": true,
        "trusted": true
      },
      "cell_type": "code",
      "source": "df_train_te = df_tr.join(df_tr['category_name'].str.split('/', expand=True).rename(columns={0:'category_1' , 1:'category_2', 2: 'category_3', 3: 'category_4'}))\ndf_train_te.shape",
      "execution_count": null,
      "outputs": []
    },
    {
      "metadata": {
        "_cell_guid": "6c0ac219-8ca2-463a-bc7c-658d58058f6c",
        "_uuid": "4602719f7de6f91ae98ba2bf1748ce6293e78afc",
        "collapsed": true,
        "trusted": true
      },
      "cell_type": "code",
      "source": "df_test['cat1_avg'] = df_train_te['price'].groupby(df_train_te['category_1']).transform('mean')\ndf_test.cat1_avg = df_test.cat1_avg.round(1)\n#df['cat1_rank'] = df['cat1_avg'].rank(ascending=1)\ndf_test['cat1_rank'] =  df_test.cat1_avg.rank(method='dense')\n#df1 = df[df['category_1']=='Vintage & Collectibles']\n#df1\ndf_test['cat2_avg'] = df_train_te['price'].groupby(df_train_te['category_2']).transform('mean')\ndf_test.cat2_avg = df_test.cat2_avg.round(1)\ndf_test['cat2_rank'] =  df_test.cat2_avg.rank(method='dense')\n\ndf_test['cat3_avg'] = df_train_te['price'].groupby(df_train_te['category_3']).transform('mean')\ndf_test.cat3_avg = df_test.cat3_avg.round(1)\ndf_test['cat3_rank'] =  df_test.cat3_avg.rank(method='dense')\n\ndf_test['cat4_avg'] = df_train_te['price'].groupby(df_train_te['category_4']).transform('mean')\ndf_test.cat4_avg = df_test.cat4_avg.round(1)\ndf_test['cat4_rank'] =  df_test.cat4_avg.rank(method='dense')\n\ndf_test['brand_avg'] = df_train_te['price'].groupby(df_train_te['brand_name']).transform('mean')\ndf_test.brand_avg = df_test.brand_avg.round(1)\ndf_test['brand_rank'] =  df_test.brand_avg.rank(method='dense')\n\ndf_test = df_test.drop([ 'category_1', 'category_2', 'category_3', 'category_4','cat1_avg', 'cat2_avg', 'cat3_avg', 'cat4_avg', 'brand_avg' ], axis=1)\ndf_test = df_test.drop([ 'brand_name', 'category_name',], axis=1)\ndf_test = df_test[['test_id','name', 'item_condition_id', 'shipping',  'item_description', 'cat1_rank',  'cat2_rank' ,  'cat3_rank' ,  'cat4_rank' ,  'brand_rank']]\ndf_test.head()",
      "execution_count": null,
      "outputs": []
    },
    {
      "metadata": {
        "_cell_guid": "bb17af38-cf39-4885-b139-2f93d417492b",
        "_uuid": "76aba1d18e86f5e80e6653c593dfc3ce3bd2e933",
        "collapsed": true,
        "trusted": true
      },
      "cell_type": "code",
      "source": "df_test['cat1_rank'].fillna(0, inplace=True)\ndf_test['cat2_rank'].fillna(0, inplace=True)\ndf_test['cat3_rank'].fillna(0, inplace=True)\ndf_test['cat4_rank'].fillna(0, inplace=True)\ndf_test.head()\n\ndf_test.dtypes\ndf_test.shape",
      "execution_count": null,
      "outputs": []
    },
    {
      "metadata": {
        "_cell_guid": "7d67b9d5-02be-47bf-9dfc-d8f492904c78",
        "_uuid": "cb151d47b20462e96bcbb55f09711a2150b03566",
        "collapsed": true,
        "trusted": true
      },
      "cell_type": "code",
      "source": "t0=time()\ntest_name = tokenize(df_test['name'])\ntest_item_ds = tokenize(df_test['item_description'])\nprint(time()-t0)",
      "execution_count": null,
      "outputs": []
    },
    {
      "metadata": {
        "_cell_guid": "84d1482c-ab3d-41b9-9c89-44da24d51a80",
        "_uuid": "2200e6c01dbe735db80675e552b9ccf3c405de80",
        "collapsed": true,
        "trusted": true
      },
      "cell_type": "code",
      "source": "#vectorize tokens  with Tfidf, with max document frequency not higher than 10 and maximum features of 100K, using bi-gramm \nfrom sklearn.feature_extraction.text import TfidfVectorizer\nvectorizer_n = TfidfVectorizer(min_df=10,max_features=100000,ngram_range=(1, 2),  stop_words='english')",
      "execution_count": null,
      "outputs": []
    },
    {
      "metadata": {
        "_cell_guid": "e9e3c10c-2f61-45b1-9580-89d91f82b354",
        "_uuid": "4eb1b18555527a9b935c724ca14e0f8fe5b93c2f",
        "collapsed": true,
        "trusted": true
      },
      "cell_type": "code",
      "source": "t0=time()\n# vectorized 'name'\n#X_tfidf_vectorized_n = vectorizer_n.fit_transform(df_train['name'])\nvectorizer_n.fit(test_name)\ntest_vectorized_n = vectorizer_n.transform(df_test['name'])\nvocab_te = vectorizer_n.get_feature_names()\nprint(len(vocab_te))\ntest_vect_n = pd.DataFrame(test_vectorized_n.toarray(), columns=vectorizer_n.get_feature_names())\n#test_vect_n.head()\nprint(time()-t0)\n",
      "execution_count": null,
      "outputs": []
    },
    {
      "metadata": {
        "_cell_guid": "f68c804d-6194-47ea-bd64-03d1aa837722",
        "_uuid": "d04f05212b4c20a330e5fa42e5645acf55ceffb3",
        "collapsed": true,
        "trusted": true
      },
      "cell_type": "code",
      "source": "t0=time()\nvectorizer_it = TfidfVectorizer(min_df=10,max_features=100000,ngram_range=(1, 2),  stop_words='english')\nvectorizer_it.fit(test_item_ds)\ntest_vectorized_it = vectorizer_it.transform(df_test['item_description'])\nvocab_it = vectorizer_it.get_feature_names()\ntest_vect_it = pd.DataFrame(test_vectorized_it.toarray(), columns=vectorizer_it.get_feature_names())\nprint(len(vocab_it))\nprint(time()-t0)",
      "execution_count": null,
      "outputs": []
    },
    {
      "metadata": {
        "_cell_guid": "6abc6993-572a-447a-8320-568ac1d22feb",
        "_uuid": "43b4042aa2a9d70b98a689b679149aedc5e196b6",
        "collapsed": true,
        "trusted": true
      },
      "cell_type": "code",
      "source": "t0=time()\nn_comp = 20\nsvd = TruncatedSVD(n_components=n_comp)\ns_test = svd.fit(test_vectorized_n.toarray())\ntest_svd = svd.transform(test_vectorized_n.toarray())\ntest_svd_n = pd.DataFrame(test_svd)\ntest_svd_n.columns = ['svd_name_'+str(i) for i in range(n_comp)]\nprint(time()-t0)",
      "execution_count": null,
      "outputs": []
    },
    {
      "metadata": {
        "_cell_guid": "bfba6db9-0e90-4f45-9377-16a4b9b0b69c",
        "_uuid": "79ee5c4d057af5e9768f4639aee62a8af936070e",
        "collapsed": true,
        "trusted": true
      },
      "cell_type": "code",
      "source": "print(\"original shape:   \", test_vect_n.shape)\nprint(\"transformed shape:\", test_svd_n.shape)",
      "execution_count": null,
      "outputs": []
    },
    {
      "metadata": {
        "_cell_guid": "464a2542-567d-4b9d-933e-f5b29be94ec5",
        "_uuid": "e0c9c5125d36448c83163ac70465a03dda01ed3e",
        "collapsed": true,
        "trusted": true
      },
      "cell_type": "code",
      "source": "df_test_final = pd.concat([df_test, test_svd_n], axis=1)\ndf_test_final.shape",
      "execution_count": null,
      "outputs": []
    },
    {
      "metadata": {
        "_cell_guid": "b63ca2bf-4057-4f8a-ac58-1ef89dd16287",
        "_uuid": "ec8a76f617a262159fc9252e048f0c29f7dd5e88",
        "collapsed": true,
        "trusted": true
      },
      "cell_type": "code",
      "source": "\nt0=time()\nn_comp = 20\nsvd = TruncatedSVD(n_components=n_comp)\ns_test = svd.fit(test_vectorized_it.toarray())\ntest_svd_i = svd.transform(test_vectorized_it.toarray())\ntest_svd_it = pd.DataFrame(test_svd_i)\ntest_svd_it.columns = ['svd_it_des_'+str(i) for i in range(n_comp)]\nprint(time()-t0)",
      "execution_count": null,
      "outputs": []
    },
    {
      "metadata": {
        "_cell_guid": "a1d2ef50-1690-47f5-b9db-c5771518ef4a",
        "_uuid": "ca0514e8fc9c083fcba462145173d1d12ea982e5",
        "collapsed": true,
        "trusted": true
      },
      "cell_type": "code",
      "source": "print(\"original shape:   \", test_vect_it.shape)\nprint(\"transformed shape:\", test_svd_it.shape)",
      "execution_count": null,
      "outputs": []
    },
    {
      "metadata": {
        "_cell_guid": "89168bd6-83fb-4e2e-bda2-a8df2307a1bc",
        "_uuid": "1a3f00f8ebee9c9782cbacb30bc3bc1de6b1c279",
        "collapsed": true,
        "trusted": true
      },
      "cell_type": "code",
      "source": "df_test_final = pd.concat([df_test_final, test_svd_it], axis=1)\ndf_test_final.shape",
      "execution_count": null,
      "outputs": []
    },
    {
      "metadata": {
        "_cell_guid": "9af99085-9495-44ec-9f8b-c03c9e7478e2",
        "_uuid": "5d5e43a0e746815b84dce214b1c8e881bad3cf26",
        "collapsed": true,
        "trusted": true
      },
      "cell_type": "code",
      "source": "df_test_f = df_test_final.drop(['name', 'item_description', 'test_id'], axis=1)\ndf_test_f.head()",
      "execution_count": null,
      "outputs": []
    },
    {
      "metadata": {
        "_cell_guid": "6aa6af23-74ee-4ac6-8efc-34dfefe407d6",
        "_uuid": "cdaacc5906b2d2d0dd169610c740f1b6d4541795"
      },
      "cell_type": "markdown",
      "source": "**Train and validation data split**"
    },
    {
      "metadata": {
        "_cell_guid": "0ae7dd39-308b-40f6-b5cd-8b9777086bcb",
        "_uuid": "1534f89f60c154204454bce16dd34779a93b345f",
        "collapsed": true,
        "trusted": true
      },
      "cell_type": "code",
      "source": "X= df_train_f.drop(['price'], axis = 1)\nX_train,X_val,Y_train,Y_val = train_test_split(X,df_train_f['price'],test_size = 0.2)\n\nX_train.shape",
      "execution_count": null,
      "outputs": []
    },
    {
      "metadata": {
        "_cell_guid": "274a7fcc-a30a-450f-ba8a-886dcb80217b",
        "_uuid": "e35427a792620750d2ba746250c1491fcc55c91f"
      },
      "cell_type": "markdown",
      "source": "**Train a model**"
    },
    {
      "metadata": {
        "_cell_guid": "8b066f24-52c5-48b5-bb1e-b7596d3ba27c",
        "_uuid": "22680aff2c08aa4e3e33608b3a22de03e2955de7",
        "collapsed": true,
        "trusted": true
      },
      "cell_type": "code",
      "source": "#Apply Desicion Trees\nfrom sklearn.tree import DecisionTreeRegressor as dtr\nregressor = dtr(random_state=0)\ny_pred = regressor.fit(X_train,Y_train)\ny_pred",
      "execution_count": null,
      "outputs": []
    },
    {
      "metadata": {
        "_cell_guid": "ac1c31e6-253f-49a3-bef0-0d668329872e",
        "_uuid": "1fa0f667bacfa812400c26c43a4f58a6425857ce",
        "collapsed": true,
        "trusted": true
      },
      "cell_type": "code",
      "source": "predictions = y_pred.predict(X_val)\nfrom sklearn.metrics import mean_squared_error\nfrom math import sqrt\nrmse = sqrt(mean_squared_error(Y_val, predictions))\nprint(\"RMSE for training data:\", rmse)",
      "execution_count": null,
      "outputs": []
    },
    {
      "metadata": {
        "_cell_guid": "f5cd7054-3dbe-4f59-b0d6-ef9e5f0e22ec",
        "_uuid": "1f941ead03d9dc1a5117afb2a9e8258629e4e03f",
        "collapsed": true,
        "trusted": true
      },
      "cell_type": "code",
      "source": "t0=time()\n#Apply Random forest regressor\nfrom sklearn.ensemble import RandomForestRegressor\nfrom sklearn.metrics import mean_absolute_error\nmodel = RandomForestRegressor(n_estimators=1000, n_jobs=-1)\nmodel.fit(X_train,Y_train)\nprint(time()-t0)",
      "execution_count": null,
      "outputs": []
    },
    {
      "metadata": {
        "_cell_guid": "e40b4e25-0163-4e2d-a731-d3bf6a52ce4a",
        "_uuid": "96183eb7cad038bd4af98be8cb793a71c66dab61",
        "collapsed": true,
        "trusted": true
      },
      "cell_type": "code",
      "source": "print( model.feature_importances_)",
      "execution_count": null,
      "outputs": []
    },
    {
      "metadata": {
        "_cell_guid": "cb8b5b6b-3952-45b6-8fa0-28d78086768d",
        "_uuid": "5ce0620743dbb8f8f6f8e9701ee6b99e7e8818f9",
        "collapsed": true,
        "scrolled": true,
        "trusted": true
      },
      "cell_type": "code",
      "source": "# Apply the Regressor we trained to the valuation data\nypred = model.predict(X_val)\nprint('MAE', mean_absolute_error(Y_val, ypred))\nprint('MSE', mean_squared_error(Y_val, ypred))\nprint('R2', r2_score(Y_val, ypred, multioutput='variance_weighted'))\nprint('M_log_error', mean_squared_log_error(Y_val, ypred))",
      "execution_count": null,
      "outputs": []
    },
    {
      "metadata": {
        "_cell_guid": "d416b79f-670c-40d6-a73b-35d07594c5fa",
        "_uuid": "1c634fb4827ab18cf33a950024dad6c46f179b7a"
      },
      "cell_type": "markdown",
      "source": "**Apply model to test data**"
    },
    {
      "metadata": {
        "_cell_guid": "56e7fc34-6811-4c9b-b43a-71202cc7ce2b",
        "_uuid": "50c3371829187eba92d364b6fc6f40c2a46b957c",
        "collapsed": true,
        "trusted": true
      },
      "cell_type": "code",
      "source": "# Apply the Regressor we trained to the test data (which, remember, it has never seen before)\nypred_final = model.predict(df_test_f)",
      "execution_count": null,
      "outputs": []
    },
    {
      "metadata": {
        "_cell_guid": "23f2aa0a-415a-427e-9787-6799aeea35da",
        "_uuid": "bea5ca95435a17e3677479e618d9b9d78acb85c9",
        "collapsed": true,
        "trusted": true
      },
      "cell_type": "code",
      "source": "print(df_test_final['test_id'], ypred_final)",
      "execution_count": null,
      "outputs": []
    },
    {
      "metadata": {
        "_cell_guid": "51b46332-f630-41aa-8119-aac7bf89785b",
        "_uuid": "a21ae432844c007b792191355cacfaa961929f32",
        "collapsed": true,
        "trusted": true
      },
      "cell_type": "code",
      "source": "yfinal = pd.DataFrame({'price': ypred_final })\nyfinal['test_id'] = df_test_final['test_id']\n\nyfinal.to_csv(\"sample_submission.csv\", encoding='utf-8', index=False)",
      "execution_count": null,
      "outputs": []
    }
  ],
  "metadata": {
    "kernelspec": {
      "display_name": "Python 3",
      "language": "python",
      "name": "python3"
    },
    "language_info": {
      "name": "python",
      "version": "3.6.4",
      "mimetype": "text/x-python",
      "codemirror_mode": {
        "name": "ipython",
        "version": 3
      },
      "pygments_lexer": "ipython3",
      "nbconvert_exporter": "python",
      "file_extension": ".py"
    }
  },
  "nbformat": 4,
  "nbformat_minor": 1
}