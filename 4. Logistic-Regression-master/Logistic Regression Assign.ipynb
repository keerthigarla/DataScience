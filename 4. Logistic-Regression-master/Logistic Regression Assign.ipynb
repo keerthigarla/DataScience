{
 "metadata": {
  "kernelspec": {
   "display_name": "Python 3",
   "language": "python",
   "name": "python3"
  },
  "language_info": {
   "codemirror_mode": {
    "name": "ipython",
    "version": 3
   },
   "file_extension": ".py",
   "mimetype": "text/x-python",
   "name": "python",
   "nbconvert_exporter": "python",
   "pygments_lexer": "ipython3",
   "version": "3.6.1"
  },
  "name": "",
  "signature": "sha256:43199055f9cd01bdafdbfd0b1b7776b3b30bd973b088ae16cb5bd7da54d00892"
 },
 "nbformat": 3,
 "nbformat_minor": 0,
 "worksheets": [
  {
   "cells": [
    {
     "cell_type": "heading",
     "level": 1,
     "metadata": {},
     "source": [
      "Logistic Regression - Defaulters Dataset"
     ]
    },
    {
     "cell_type": "heading",
     "level": 1,
     "metadata": {},
     "source": [
      "In this problem you have data for the istanbul stock exchange as your target and 8 other stock exchanges as predictors.Use ISE as your target(there are two ise columns , one is in lira the other in dollars, choose USB based)\n",
      "\n",
      "This can either be run as a linear regression or a classification problem. In classification, the target neess to be mapped to price goes down (-1) or price goes up (1). You sre free to choose either but on Monday you must be able to justify why either option is better."
     ]
    },
    {
     "cell_type": "code",
     "collapsed": true,
     "input": [
      "import pandas as pd\n",
      "from sklearn.linear_model import LogisticRegression\n",
      "import matplotlib.pyplot as plt \n",
      "%matplotlib inline\n",
      "import numpy as np\n",
      "import seaborn as sb\n",
      "from sklearn.model_selection import train_test_split\n",
      "from sklearn.metrics import roc_curve, auc"
     ],
     "language": "python",
     "metadata": {},
     "outputs": [],
     "prompt_number": 33
    },
    {
     "cell_type": "code",
     "collapsed": false,
     "input": [
      "df = pd.read_excel(\"Default.xlsx\")\n",
      "print(\"Rows,Columns:\",df.shape)\n"
     ],
     "language": "python",
     "metadata": {},
     "outputs": [
      {
       "output_type": "stream",
       "stream": "stdout",
       "text": [
        "Rows,Columns: (10000, 4)\n"
       ]
      }
     ],
     "prompt_number": 126
    },
    {
     "cell_type": "code",
     "collapsed": false,
     "input": [
      "print(list(df.columns))\n",
      "df.head()"
     ],
     "language": "python",
     "metadata": {},
     "outputs": [
      {
       "output_type": "stream",
       "stream": "stdout",
       "text": [
        "['default', 'student', 'balance', 'income']\n"
       ]
      },
      {
       "html": [
        "<div style=\"max-width:1500px;overflow:auto;\">\n",
        "<style scoped>\n",
        "    .dataframe tbody tr th:only-of-type {\n",
        "        vertical-align: middle;\n",
        "    }\n",
        "\n",
        "    .dataframe tbody tr th {\n",
        "        vertical-align: top;\n",
        "    }\n",
        "\n",
        "    .dataframe thead th {\n",
        "        text-align: right;\n",
        "    }\n",
        "</style>\n",
        "<table border=\"1\" class=\"dataframe\">\n",
        "  <thead>\n",
        "    <tr style=\"text-align: right;\">\n",
        "      <th></th>\n",
        "      <th>default</th>\n",
        "      <th>student</th>\n",
        "      <th>balance</th>\n",
        "      <th>income</th>\n",
        "    </tr>\n",
        "  </thead>\n",
        "  <tbody>\n",
        "    <tr>\n",
        "      <th>1</th>\n",
        "      <td>No</td>\n",
        "      <td>No</td>\n",
        "      <td>729.526495</td>\n",
        "      <td>44361.625074</td>\n",
        "    </tr>\n",
        "    <tr>\n",
        "      <th>2</th>\n",
        "      <td>No</td>\n",
        "      <td>Yes</td>\n",
        "      <td>817.180407</td>\n",
        "      <td>12106.134700</td>\n",
        "    </tr>\n",
        "    <tr>\n",
        "      <th>3</th>\n",
        "      <td>No</td>\n",
        "      <td>No</td>\n",
        "      <td>1073.549164</td>\n",
        "      <td>31767.138947</td>\n",
        "    </tr>\n",
        "    <tr>\n",
        "      <th>4</th>\n",
        "      <td>No</td>\n",
        "      <td>No</td>\n",
        "      <td>529.250605</td>\n",
        "      <td>35704.493935</td>\n",
        "    </tr>\n",
        "    <tr>\n",
        "      <th>5</th>\n",
        "      <td>No</td>\n",
        "      <td>No</td>\n",
        "      <td>785.655883</td>\n",
        "      <td>38463.495879</td>\n",
        "    </tr>\n",
        "  </tbody>\n",
        "</table>\n",
        "</div>"
       ],
       "metadata": {},
       "output_type": "pyout",
       "prompt_number": 127,
       "text": [
        "  default student      balance        income\n",
        "1      No      No   729.526495  44361.625074\n",
        "2      No     Yes   817.180407  12106.134700\n",
        "3      No      No  1073.549164  31767.138947\n",
        "4      No      No   529.250605  35704.493935\n",
        "5      No      No   785.655883  38463.495879"
       ]
      }
     ],
     "prompt_number": 127
    },
    {
     "cell_type": "code",
     "collapsed": false,
     "input": [
      "df.isnull().sum()"
     ],
     "language": "python",
     "metadata": {},
     "outputs": [
      {
       "metadata": {},
       "output_type": "pyout",
       "prompt_number": 128,
       "text": [
        "default    0\n",
        "student    0\n",
        "balance    0\n",
        "income     0\n",
        "dtype: int64"
       ]
      }
     ],
     "prompt_number": 128
    },
    {
     "cell_type": "code",
     "collapsed": false,
     "input": [
      "df = df[['default', 'student', 'balance', 'income']]\n",
      "\n"
     ],
     "language": "python",
     "metadata": {},
     "outputs": [],
     "prompt_number": 129
    },
    {
     "cell_type": "markdown",
     "metadata": {},
     "source": [
      "# Data Visualization\n",
      "\n",
      "It is always good practice to visualize your data to understand the data in order to fit the model using the best predictors. "
     ]
    },
    {
     "cell_type": "code",
     "collapsed": false,
     "input": [
      "plt.scatter('default', 'balance', data = df)\n",
      "plt.show()"
     ],
     "language": "python",
     "metadata": {},
     "outputs": [
      {
       "metadata": {},
       "output_type": "display_data",
       "png": "[encoded data removed]",
       "text": [
        "<matplotlib.figure.Figure at 0x7f0604f5aeb8>"
       ]
      }
     ],
     "prompt_number": 130
    },
    {
     "cell_type": "code",
     "collapsed": false,
     "input": [
      "sb.countplot(y=\"student\",data = df)\n",
      "#sb.show()"
     ],
     "language": "python",
     "metadata": {
      "scrolled": true
     },
     "outputs": [
      {
       "metadata": {},
       "output_type": "pyout",
       "prompt_number": 131,
       "text": [
        "<matplotlib.axes._subplots.AxesSubplot at 0x7f0604f5a6a0>"
       ]
      },
      {
       "metadata": {},
       "output_type": "display_data",
       "png": "[encoded data removed]",
       "text": [
        "<matplotlib.figure.Figure at 0x7f0602e49630>"
       ]
      }
     ],
     "prompt_number": 131
    },
    {
     "cell_type": "code",
     "collapsed": false,
     "input": [
      "plt.scatter('default', 'income', data = df)\n",
      "plt.show()"
     ],
     "language": "python",
     "metadata": {},
     "outputs": [
      {
       "metadata": {},
       "output_type": "display_data",
       "png": "[encoded data removed]",
       "text": [
        "<matplotlib.figure.Figure at 0x7f06051ec128>"
       ]
      }
     ],
     "prompt_number": 132
    },
    {
     "cell_type": "code",
     "collapsed": false,
     "input": [
      "sb.heatmap(df.corr())\n",
      "plt.show()"
     ],
     "language": "python",
     "metadata": {},
     "outputs": [
      {
       "metadata": {},
       "output_type": "display_data",
       "png": "[encoded data removed]",
       "text": [
        "<matplotlib.figure.Figure at 0x7f0604fa17f0>"
       ]
      }
     ],
     "prompt_number": 133
    },
    {
     "cell_type": "heading",
     "level": 1,
     "metadata": {},
     "source": [
      "Data Selection "
     ]
    },
    {
     "cell_type": "code",
     "collapsed": false,
     "input": [
      "#df['default'] = df['default'].map({'Yes':1,'No':0 })\n",
      "#df['student'] = df['student'].map({'Yes':1,'No':0 })\n",
      "df.head()"
     ],
     "language": "python",
     "metadata": {},
     "outputs": [
      {
       "html": [
        "<div style=\"max-width:1500px;overflow:auto;\">\n",
        "<style scoped>\n",
        "    .dataframe tbody tr th:only-of-type {\n",
        "        vertical-align: middle;\n",
        "    }\n",
        "\n",
        "    .dataframe tbody tr th {\n",
        "        vertical-align: top;\n",
        "    }\n",
        "\n",
        "    .dataframe thead th {\n",
        "        text-align: right;\n",
        "    }\n",
        "</style>\n",
        "<table border=\"1\" class=\"dataframe\">\n",
        "  <thead>\n",
        "    <tr style=\"text-align: right;\">\n",
        "      <th></th>\n",
        "      <th>default</th>\n",
        "      <th>student</th>\n",
        "      <th>balance</th>\n",
        "      <th>income</th>\n",
        "    </tr>\n",
        "  </thead>\n",
        "  <tbody>\n",
        "    <tr>\n",
        "      <th>1</th>\n",
        "      <td>0</td>\n",
        "      <td>0</td>\n",
        "      <td>729.526495</td>\n",
        "      <td>44361.625074</td>\n",
        "    </tr>\n",
        "    <tr>\n",
        "      <th>2</th>\n",
        "      <td>0</td>\n",
        "      <td>1</td>\n",
        "      <td>817.180407</td>\n",
        "      <td>12106.134700</td>\n",
        "    </tr>\n",
        "    <tr>\n",
        "      <th>3</th>\n",
        "      <td>0</td>\n",
        "      <td>0</td>\n",
        "      <td>1073.549164</td>\n",
        "      <td>31767.138947</td>\n",
        "    </tr>\n",
        "    <tr>\n",
        "      <th>4</th>\n",
        "      <td>0</td>\n",
        "      <td>0</td>\n",
        "      <td>529.250605</td>\n",
        "      <td>35704.493935</td>\n",
        "    </tr>\n",
        "    <tr>\n",
        "      <th>5</th>\n",
        "      <td>0</td>\n",
        "      <td>0</td>\n",
        "      <td>785.655883</td>\n",
        "      <td>38463.495879</td>\n",
        "    </tr>\n",
        "  </tbody>\n",
        "</table>\n",
        "</div>"
       ],
       "metadata": {},
       "output_type": "pyout",
       "prompt_number": 134,
       "text": [
        "   default  student      balance        income\n",
        "1        0        0   729.526495  44361.625074\n",
        "2        0        1   817.180407  12106.134700\n",
        "3        0        0  1073.549164  31767.138947\n",
        "4        0        0   529.250605  35704.493935\n",
        "5        0        0   785.655883  38463.495879"
       ]
      }
     ],
     "prompt_number": 134
    },
    {
     "cell_type": "code",
     "collapsed": true,
     "input": [
      "y = df[[\"default\"]]\n",
      "x = df.drop([\"default\"], axis = 1)"
     ],
     "language": "python",
     "metadata": {},
     "outputs": [],
     "prompt_number": 135
    },
    {
     "cell_type": "code",
     "collapsed": true,
     "input": [
      "x_train,x_test,y_train,y_test = train_test_split(inputd,y,test_size = 0.3)"
     ],
     "language": "python",
     "metadata": {},
     "outputs": [],
     "prompt_number": 136
    },
    {
     "cell_type": "heading",
     "level": 1,
     "metadata": {},
     "source": [
      "Model Fitting"
     ]
    },
    {
     "cell_type": "code",
     "collapsed": false,
     "input": [
      "classifier = LogisticRegression()\n",
      "classifier.fit(x_train,y_train) # try solver= sgd,multi_class =  ovo"
     ],
     "language": "python",
     "metadata": {},
     "outputs": [
      {
       "output_type": "stream",
       "stream": "stderr",
       "text": [
        "/usr/local/lib/python3.5/dist-packages/sklearn/utils/validation.py:578: DataConversionWarning: A column-vector y was passed when a 1d array was expected. Please change the shape of y to (n_samples, ), for example using ravel().\n",
        "  y = column_or_1d(y, warn=True)\n"
       ]
      },
      {
       "metadata": {},
       "output_type": "pyout",
       "prompt_number": 137,
       "text": [
        "LogisticRegression(C=1.0, class_weight=None, dual=False, fit_intercept=True,\n",
        "          intercept_scaling=1, max_iter=100, multi_class='ovr', n_jobs=1,\n",
        "          penalty='l2', random_state=None, solver='liblinear', tol=0.0001,\n",
        "          verbose=0, warm_start=False)"
       ]
      }
     ],
     "prompt_number": 137
    },
    {
     "cell_type": "code",
     "collapsed": true,
     "input": [
      "y_pred = classifier.predict(x_test)\n",
      "\n",
      "# Remember: Logistic Regression predicts probability of class, not actual class\n",
      "y_pred_prob = classifier.predict_proba(x_test)\n"
     ],
     "language": "python",
     "metadata": {},
     "outputs": [],
     "prompt_number": 138
    },
    {
     "cell_type": "code",
     "collapsed": false,
     "input": [
      "print(y_pred_prob[:5])"
     ],
     "language": "python",
     "metadata": {},
     "outputs": [
      {
       "output_type": "stream",
       "stream": "stdout",
       "text": [
        "[[ 0.98948651  0.01051349]\n",
        " [ 0.98730235  0.01269765]\n",
        " [ 0.89187832  0.10812168]\n",
        " [ 0.91363169  0.08636831]\n",
        " [ 0.98937036  0.01062964]]\n"
       ]
      }
     ],
     "prompt_number": 139
    },
    {
     "cell_type": "code",
     "collapsed": false,
     "input": [
      "print(y_pred[:5])"
     ],
     "language": "python",
     "metadata": {},
     "outputs": [
      {
       "output_type": "stream",
       "stream": "stdout",
       "text": [
        "[0 0 0 0 0]\n"
       ]
      }
     ],
     "prompt_number": 140
    },
    {
     "cell_type": "markdown",
     "metadata": {},
     "source": [
      "# Confusion Matrix\n",
      "\n",
      "A confusion matrix is an effective method to measure the accuracy of a classification problem. Below the upper left corner number to True Negatives (no. of non-defaulters correctly predicted), the upper right number refers to False Negative (predicted non-default but actuall default), the lower left corner is False Positive (predicted default, actualy non-default) and the lower right corner is True Positive (predicted default, actually default)"
     ]
    },
    {
     "cell_type": "code",
     "collapsed": false,
     "input": [
      "from sklearn.metrics import confusion_matrix \n",
      "confuse = confusion_matrix(y_test,y_pred)\n",
      "print(confuse)\n",
      "\n",
      "print(\"\\nTN =\",confuse[0][0])\n",
      "print(\"FN =\",confuse[0][1])\n",
      "print(\"FP =\",confuse[1][0])\n",
      "print(\"TP =\",confuse[1][1])"
     ],
     "language": "python",
     "metadata": {},
     "outputs": [
      {
       "output_type": "stream",
       "stream": "stdout",
       "text": [
        "[[2901    4]\n",
        " [  95    0]]\n",
        "\n",
        "TN = 2901\n",
        "FN = 4\n",
        "FP = 95\n",
        "TP = 0\n"
       ]
      }
     ],
     "prompt_number": 141
    },
    {
     "cell_type": "code",
     "collapsed": false,
     "input": [
      "#overall accuracy\n",
      "accuracy = (confuse[0][0] + confuse[1][1])/ len(y_test)\n",
      "print(\"accuracy of classifier is:\",accuracy)\n",
      "#precision is a measure of positive predictions negative or ratio of tp/overal p\n",
      "precision =  confuse[1][1]/(confuse[1][1]+confuse[0][1])\n",
      "print(\"precision:\",precision)\n",
      "#recall is proportion all true positive samples.\n",
      "recall = confuse[1][1]/(confuse[1][1]+confuse[1][0])\n",
      "print(\"recall:\",recall)"
     ],
     "language": "python",
     "metadata": {
      "scrolled": true
     },
     "outputs": [
      {
       "output_type": "stream",
       "stream": "stdout",
       "text": [
        "accuracy of classifier is: 0.967\n",
        "precision: 0.0\n",
        "recall: 0.0\n"
       ]
      }
     ],
     "prompt_number": 142
    },
    {
     "cell_type": "markdown",
     "metadata": {},
     "source": [
      "# Precision vs. Recall\n",
      "In simple terms, high precision means that an algorithm returned substantially more relevant results than irrelevant ones, while high recall means that an algorithm returned most of the relevant results."
     ]
    },
    {
     "cell_type": "code",
     "collapsed": false,
     "input": [
      "from sklearn.metrics import classification_report\n",
      "print(classification_report(y_test,y_pred))"
     ],
     "language": "python",
     "metadata": {},
     "outputs": [
      {
       "output_type": "stream",
       "stream": "stdout",
       "text": [
        "             precision    recall  f1-score   support\n",
        "\n",
        "          0       0.97      1.00      0.98      2905\n",
        "          1       0.00      0.00      0.00        95\n",
        "\n",
        "avg / total       0.94      0.97      0.95      3000\n",
        "\n"
       ]
      }
     ],
     "prompt_number": 143
    },
    {
     "cell_type": "code",
     "collapsed": true,
     "input": [
      "# Add prediction to dataframe\n",
      "#data['pred'] = result.predict(data[train_cols])\n",
      "y_pred = classifier.predict(x_test)\n",
      "\n",
      "#print(y_pred)\n",
      "#print(y_test)\n",
      "fpr, tpr, thresholds =roc_curve(y_test, y_pred)\n",
      "roc_auc = auc(fpr, tpr)\n",
      "print(\"Area under the ROC curve : %f\" % roc_auc)"
     ],
     "language": "python",
     "metadata": {},
     "outputs": [
      {
       "output_type": "stream",
       "stream": "stdout",
       "text": [
        "Area under the ROC curve : 0.499312\n"
       ]
      }
     ],
     "prompt_number": 144
    },
    {
     "cell_type": "code",
     "collapsed": false,
     "input": [
      "i = np.arange(len(tpr)) # index for df\n",
      "roc = pd.DataFrame({'fpr' : pd.Series(fpr, index=i),'tpr' : pd.Series(tpr, index = i), '1-fpr' : pd.Series(1-fpr, index = i), 'tf' : pd.Series(tpr - (1-fpr), index = i), 'thresholds' : pd.Series(thresholds, index = i)})\n",
      "roc.ix[(roc.tf-0).abs().argsort()[:1]]"
     ],
     "language": "python",
     "metadata": {},
     "outputs": [
      {
       "html": [
        "<div style=\"max-width:1500px;overflow:auto;\">\n",
        "<style scoped>\n",
        "    .dataframe tbody tr th:only-of-type {\n",
        "        vertical-align: middle;\n",
        "    }\n",
        "\n",
        "    .dataframe tbody tr th {\n",
        "        vertical-align: top;\n",
        "    }\n",
        "\n",
        "    .dataframe thead th {\n",
        "        text-align: right;\n",
        "    }\n",
        "</style>\n",
        "<table border=\"1\" class=\"dataframe\">\n",
        "  <thead>\n",
        "    <tr style=\"text-align: right;\">\n",
        "      <th></th>\n",
        "      <th>1-fpr</th>\n",
        "      <th>fpr</th>\n",
        "      <th>tf</th>\n",
        "      <th>thresholds</th>\n",
        "      <th>tpr</th>\n",
        "    </tr>\n",
        "  </thead>\n",
        "  <tbody>\n",
        "    <tr>\n",
        "      <th>1</th>\n",
        "      <td>0.998623</td>\n",
        "      <td>0.001377</td>\n",
        "      <td>-0.998623</td>\n",
        "      <td>1</td>\n",
        "      <td>0.0</td>\n",
        "    </tr>\n",
        "  </tbody>\n",
        "</table>\n",
        "</div>"
       ],
       "metadata": {},
       "output_type": "pyout",
       "prompt_number": 145,
       "text": [
        "      1-fpr       fpr        tf  thresholds  tpr\n",
        "1  0.998623  0.001377 -0.998623           1  0.0"
       ]
      }
     ],
     "prompt_number": 145
    },
    {
     "cell_type": "code",
     "collapsed": false,
     "input": [
      "# Plot tpr vs 1-fpr\n",
      "fig, ax = plt.subplots()\n",
      "plt.plot(roc['tpr'])\n",
      "plt.plot(roc['1-fpr'], color = 'red')\n",
      "plt.xlabel('1-False Positive Rate')\n",
      "plt.ylabel('True Positive Rate')\n",
      "plt.title('Receiver operating characteristic')\n",
      "ax.set_xticklabels([])"
     ],
     "language": "python",
     "metadata": {},
     "outputs": [
      {
       "metadata": {},
       "output_type": "pyout",
       "prompt_number": 146,
       "text": [
        "[]"
       ]
      },
      {
       "metadata": {},
       "output_type": "display_data",
       "png": "[encoded data removed]",
       "text": [
        "<matplotlib.figure.Figure at 0x7f060511a908>"
       ]
      }
     ],
     "prompt_number": 146
    },
    {
     "cell_type": "code",
     "collapsed": false,
     "input": [
      "####################################\n",
      "# The optimal cut off would be where tpr is high and fpr is low\n",
      "# tpr - (1-fpr) is zero or near to zero is the optimal cut off point\n",
      "####################################"
     ],
     "language": "python",
     "metadata": {},
     "outputs": [],
     "prompt_number": 147
    },
    {
     "cell_type": "code",
     "collapsed": false,
     "input": [
      "def Find_Optimal_Cutoff(target, predicted):\n",
      "    \"\"\" Find the optimal probability cutoff point for a classification model related to event rate\n",
      "    Parameters\n",
      "    ----------\n",
      "    target : Matrix with dependent or target data, where rows are observations\n",
      "\n",
      "    predicted : Matrix with predicted data, where rows are observations\n",
      "\n",
      "    Returns\n",
      "    -------     \n",
      "    list type, with optimal cutoff value\n",
      "\n",
      "    \"\"\"\n",
      "    fpr, tpr, threshold = roc_curve(target, predicted)\n",
      "    i = np.arange(len(tpr)) \n",
      "    roc = pd.DataFrame({'tf' : pd.Series(tpr-(1-fpr), index=i), 'threshold' : pd.Series(threshold, index=i)})\n",
      "    roc_t = roc.ix[(roc.tf-0).abs().argsort()[:1]]\n",
      "    print(roc)\n",
      "    return list(roc_t['threshold']) "
     ],
     "language": "python",
     "metadata": {},
     "outputs": [],
     "prompt_number": 148
    },
    {
     "cell_type": "code",
     "collapsed": false,
     "input": [
      "threshold = Find_Optimal_Cutoff(y_test, y_pred)\n",
      "print(threshold)"
     ],
     "language": "python",
     "metadata": {},
     "outputs": [
      {
       "output_type": "stream",
       "stream": "stdout",
       "text": [
        "         tf  threshold\n",
        "0 -1.000000          2\n",
        "1 -0.998623          1\n",
        "2  1.000000          0\n",
        "[1]\n"
       ]
      }
     ],
     "prompt_number": 149
    },
    {
     "cell_type": "code",
     "collapsed": false,
     "input": [
      "positive_class = classifier.predict_proba(x_test)[:,1]\n",
      "results = []\n",
      "for i in positive_class:\n",
      "    if i > 1:\n",
      "        i=1\n",
      "        results.append(i)\n",
      "    else:\n",
      "        i=0\n",
      "        results.append(i)\n",
      "#print(results)  "
     ],
     "language": "python",
     "metadata": {},
     "outputs": [],
     "prompt_number": 180
    },
    {
     "cell_type": "code",
     "collapsed": false,
     "input": [
      "confuse = confusion_matrix(y_test, results)\n",
      "print(confuse)\n",
      "\n",
      "print(\"\\nTN =\",confuse[0][0])\n",
      "print(\"FN =\",confuse[0][1])\n",
      "print(\"FP =\",confuse[1][0])\n",
      "print(\"TP =\",confuse[1][1])"
     ],
     "language": "python",
     "metadata": {},
     "outputs": [
      {
       "output_type": "stream",
       "stream": "stdout",
       "text": [
        "[[2905    0]\n",
        " [  95    0]]\n",
        "\n",
        "TN = 2905\n",
        "FN = 0\n",
        "FP = 95\n",
        "TP = 0\n"
       ]
      }
     ],
     "prompt_number": 181
    },
    {
     "cell_type": "code",
     "collapsed": false,
     "input": [],
     "language": "python",
     "metadata": {},
     "outputs": []
    }
   ],
   "metadata": {}
  }
 ]
}