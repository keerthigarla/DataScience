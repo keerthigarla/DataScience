{
 "metadata": {
  "name": "",
  "signature": "sha256:33cc20bd69b6df939a68faa4708abd373c6754a68ba54b24796257e0a7fc81fd"
 },
 "nbformat": 3,
 "nbformat_minor": 0,
 "worksheets": [
  {
   "cells": [
    {
     "cell_type": "code",
     "collapsed": false,
     "input": [
      "import matplotlib.pyplot as plt\n",
      "import numpy as np\n",
      "%matplotlib inline \n",
      "# keeps plots within notebook\n",
      "\n",
      "score = np.array([0.9, 0.8, 0.7, 0.6, 0.55, 0.54, 0.53, 0.52, 0.51, 0.505, 0.4, 0.39, 0.38, 0.37, 0.36, 0.35, 0.34, 0.33, 0.30, 0.1])\n",
      "y = np.array([1,1,0, 1, 1, 1, 0, 0, 1, 0, 1,0, 1, 0, 0, 0, 1 , 0, 1, 0])\n",
      "\n",
      "roc_x = []\n",
      "roc_y = []\n",
      "min_score = min(score)\n",
      "max_score = max(score)\n",
      "thr = np.linspace(min_score, max_score, 60)\n",
      "FP=0\n",
      "TP=0\n",
      "N = sum(y)\n",
      "P = len(y) - N\n",
      "\n",
      "for (i, T) in enumerate(thr):\n",
      "   for i in range(0, len(score)):\n",
      "       if (score[i] > T):\n",
      "           if (y[i]==1):\n",
      "               TP = TP + 1\n",
      "           if (y[i]==0):\n",
      "               FP = FP + 1\n",
      "   roc_x.append(FP/float(N))\n",
      "   roc_y.append(TP/float(P))\n",
      "   FP=0\n",
      "   TP=0\n",
      "\n",
      "plt.scatter(roc_x, roc_y)\n",
      "plt.show()"
     ],
     "language": "python",
     "metadata": {},
     "outputs": [
      {
       "metadata": {},
       "output_type": "display_data",
       "png": "[encoded data removed]",
       "text": [
        "<matplotlib.figure.Figure at 0x7fb602517b00>"
       ]
      }
     ],
     "prompt_number": 2
    },
    {
     "cell_type": "code",
     "collapsed": false,
     "input": [],
     "language": "python",
     "metadata": {},
     "outputs": []
    }
   ],
   "metadata": {}
  }
 ]
}