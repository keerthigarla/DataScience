{
 "metadata": {
  "kernelspec": {
   "display_name": "Python 3",
   "language": "python",
   "name": "python3"
  },
  "language_info": {
   "codemirror_mode": {
    "name": "ipython",
    "version": 3
   },
   "file_extension": ".py",
   "mimetype": "text/x-python",
   "name": "python",
   "nbconvert_exporter": "python",
   "pygments_lexer": "ipython3",
   "version": "3.6.1"
  },
  "name": "",
  "signature": "sha256:482acb830fdbed31835c2d4a0a52c788896847569b7382bdeea0d2e6a76c2a70"
 },
 "nbformat": 3,
 "nbformat_minor": 0,
 "worksheets": [
  {
   "cells": [
    {
     "cell_type": "markdown",
     "metadata": {},
     "source": [
      "## Setup\n",
      "\n",
      "This guide was written in Python 3.5.\n",
      "\n",
      "\n",
      "### Libraries\n",
      "\n",
      "We'll be working with the `re` library for regular expressions and nltk for natural language processing techniques, so make sure to install them! To install these libraries, enter the following commands into your terminal: \n",
      "\n",
      "``` \n",
      "pip3 install re\n",
      "pip3 install nltk\n",
      "```\n",
      "\n",
      "### Other\n",
      "\n",
      "Since we'll be working on textual analysis, we'll be using datasets that are already well established and widely used. To gain access to these datasets, enter the following command into your command line: (Note that this might take a few minutes!)\n",
      "\n",
      "```\n",
      "sudo python3 -m nltk.downloader all\n",
      "```\n",
      "\n",
      "Lastly, download the data we'll be working with in this example. You can find this in your folder as `negative_tweets` and `positive_tweets`.\n",
      "\n",
      "Now you're all set to begin!"
     ]
    },
    {
     "cell_type": "markdown",
     "metadata": {},
     "source": [
      "## Background\n",
      "\n",
      "\n",
      "### What is NLP? \n",
      "\n",
      "Natural Language Processing, or NLP, is an area of computer science that focuses on developing techniques to produce machine-driven analyses of text.\n",
      "\n",
      "### Why is Natural Language Processing Important? \n",
      "\n",
      "NLP expands the sheer amount of data that can be used for insight. Since so much of the data we have available is in the form of text, this is extremely important to data science!\n",
      "\n",
      "A specific common application of NLP is each time you use a language conversion tool. The techniques used to accurately convert text from one language to another very much falls under the umbrella of \"natural language processing.\"\n",
      "\n",
      "### Why is NLP a \"hard\" problem? \n",
      "\n",
      "Language is inherently ambiguous. Once person's interpretation of a sentence may very well differ from another person's interpretation. Because of this inability to consistently be clear, it's hard to have an NLP technique that works perfectly. \n",
      "\n",
      "### Glossary\n",
      "\n",
      "Here is some common terminology that we'll encounter throughout the workshop:\n",
      "\n",
      "<b>Corpus: </b> (Plural: Corpora) a collection of written texts that serve as our datasets.\n",
      "\n",
      "<b>nltk: </b> (Natural Language Toolkit) the python module we'll be using repeatedly; it has a lot of useful built-in NLP techniques.\n",
      "\n",
      "<b>Token: </b> a string of contiguous characters between two spaces, or between a space and punctuation marks. A token can also be an integer, real, or a number with a colon."
     ]
    },
    {
     "cell_type": "markdown",
     "metadata": {},
     "source": [
      "## Sentiment Analysis  \n",
      "\n",
      "So you might be asking, what exactly is \"sentiment analysis\"? \n",
      "\n",
      "Well, sentiment analysis involves building a system to collect and determine the emotional tone behind words. This is important because it allows you to gain an understanding of the attitudes, opinions and emotions of the people in your data. \n",
      "\n",
      "At a high level, sentiment analysis involves Natural language processing and artificial intelligence by taking the actual text element, transforming it into a format that a machine can read, and using statistics to determine the actual sentiment.\n",
      "\n",
      "### Preparing the Data \n",
      "\n",
      "To accomplish sentiment analysis computationally, we have to use techniques that will allow us to learn from data that's already been labeled. \n",
      "\n",
      "So what's the first step? Formatting the data so that we can actually apply NLP techniques. \n"
     ]
    },
    {
     "cell_type": "code",
     "collapsed": true,
     "input": [
      "import nltk\n",
      "\n",
      "def format_sentence(sent):\n",
      "    return({word: True for word in nltk.word_tokenize(sent)})"
     ],
     "language": "python",
     "metadata": {},
     "outputs": [],
     "prompt_number": 1
    },
    {
     "cell_type": "markdown",
     "metadata": {},
     "source": [
      "Here, `format_sentence` changes a piece of text, in this case a tweet, into a dictionary of words mapped to True booleans. Though not obvious from this function alone, this will eventually allow us to train  our prediction model by splitting the text into its tokens, i.e. <i>tokenizing</i> the text.\n",
      "\n",
      "{'!': True, 'animals': True, 'are': True, 'the': True, 'ever': True, 'Dogs': True, 'best': True}"
     ]
    },
    {
     "cell_type": "markdown",
     "metadata": {},
     "source": [
      "You'll learn about why this format is important is section 2.2.\n",
      "\n",
      "Using the data on the github repo, we'll actually format the positively and negatively labeled data."
     ]
    },
    {
     "cell_type": "code",
     "collapsed": true,
     "input": [
      "pos = []\n",
      "with open(\"./pos_tweets.txt\") as f:\n",
      "    for i in f: \n",
      "        pos.append([format_sentence(i), 'pos'])"
     ],
     "language": "python",
     "metadata": {},
     "outputs": [],
     "prompt_number": 3
    },
    {
     "cell_type": "code",
     "collapsed": true,
     "input": [
      "neg = []\n",
      "with open(\"./neg_tweets.txt\") as f:\n",
      "    for i in f: \n",
      "        neg.append([format_sentence(i), 'neg'])"
     ],
     "language": "python",
     "metadata": {},
     "outputs": [],
     "prompt_number": 4
    },
    {
     "cell_type": "markdown",
     "metadata": {},
     "source": [
      "#### Training Data\n",
      "\n",
      "Next, we'll split the labeled data we have into two pieces, one that can \"train\" data and the other to give us insight on how well our model is performing. The training data will inform our model on which features are most important."
     ]
    },
    {
     "cell_type": "code",
     "collapsed": true,
     "input": [
      "training = pos[:int((.9)*len(pos))] + neg[:int((.9)*len(neg))]"
     ],
     "language": "python",
     "metadata": {},
     "outputs": [],
     "prompt_number": 5
    },
    {
     "cell_type": "markdown",
     "metadata": {},
     "source": [
      "#### Test Data\n",
      "\n",
      "We won't use the test data until the very end of this section, but nevertheless, we save the last 10% of the data to check the accuracy of our model. "
     ]
    },
    {
     "cell_type": "code",
     "collapsed": true,
     "input": [
      "test = pos[int((.1)*len(pos)):] + neg[int((.1)*len(neg)):]"
     ],
     "language": "python",
     "metadata": {},
     "outputs": [],
     "prompt_number": 6
    },
    {
     "cell_type": "markdown",
     "metadata": {},
     "source": [
      "### Building a Classifier\n",
      "\n",
      "All NLTK classifiers work with feature structures, which can be simple dictionaries mapping a feature name to a feature value. In this example, we\u2019ve used a simple bag of words model where every word is a feature name with a value of True."
     ]
    },
    {
     "cell_type": "code",
     "collapsed": true,
     "input": [
      "from nltk.classify import NaiveBayesClassifier\n",
      "\n",
      "classifier = NaiveBayesClassifier.train(training)"
     ],
     "language": "python",
     "metadata": {},
     "outputs": [],
     "prompt_number": 7
    },
    {
     "cell_type": "markdown",
     "metadata": {
      "collapsed": true
     },
     "source": [
      "To see which features informed our model the most, we can run this line of code:"
     ]
    },
    {
     "cell_type": "code",
     "collapsed": false,
     "input": [
      "classifier.show_most_informative_features()"
     ],
     "language": "python",
     "metadata": {},
     "outputs": [
      {
       "output_type": "stream",
       "stream": "stdout",
       "text": [
        "Most Informative Features\n",
        "                      no = True              neg : pos    =     20.6 : 1.0"
       ]
      },
      {
       "output_type": "stream",
       "stream": "stdout",
       "text": [
        "\n",
        "                 awesome = True              pos : neg    =     18.7 : 1.0\n",
        "                headache = True              neg : pos    =     18.0 : 1.0\n",
        "               beautiful = True              pos : neg    =     14.2 : 1.0\n",
        "                    love = True              pos : neg    =     14.2 : 1.0\n",
        "                      Hi = True              pos : neg    =     12.7 : 1.0\n",
        "                     fan = True              pos : neg    =      9.7 : 1.0\n",
        "                   Thank = True              pos : neg    =      9.7 : 1.0\n",
        "                    glad = True              pos : neg    =      9.7 : 1.0\n",
        "                    lost = True              neg : pos    =      9.3 : 1.0\n"
       ]
      }
     ],
     "prompt_number": 8
    },
    {
     "cell_type": "markdown",
     "metadata": {},
     "source": [
      "### Classification\n",
      "\n",
      "Just to see that our model works, let's try the classifier out with a positive example: "
     ]
    },
    {
     "cell_type": "code",
     "collapsed": false,
     "input": [
      "example1 = \"this workshop is awesome.\"\n",
      "\n",
      "print(classifier.classify(format_sentence(example1)))"
     ],
     "language": "python",
     "metadata": {},
     "outputs": [
      {
       "output_type": "stream",
       "stream": "stdout",
       "text": [
        "pos\n"
       ]
      }
     ],
     "prompt_number": 9
    },
    {
     "cell_type": "markdown",
     "metadata": {},
     "source": [
      "Now for a negative example:"
     ]
    },
    {
     "cell_type": "code",
     "collapsed": false,
     "input": [
      "example2 = \"this workshop is awful.\"\n",
      "\n",
      "print(classifier.classify(format_sentence(example2)))"
     ],
     "language": "python",
     "metadata": {},
     "outputs": [
      {
       "output_type": "stream",
       "stream": "stdout",
       "text": [
        "neg\n"
       ]
      }
     ],
     "prompt_number": 10
    },
    {
     "cell_type": "markdown",
     "metadata": {},
     "source": [
      "### Accuracy\n",
      "\n",
      "Now, there's no point in building a model if it doesn't work well. Luckily, once again, nltk comes to the rescue with a built in feature that allows us find the accuracy of our model."
     ]
    },
    {
     "cell_type": "code",
     "collapsed": false,
     "input": [
      "from nltk.classify.util import accuracy\n",
      "print(accuracy(classifier, test))"
     ],
     "language": "python",
     "metadata": {},
     "outputs": [
      {
       "output_type": "stream",
       "stream": "stdout",
       "text": [
        "0.9562326869806094\n"
       ]
      }
     ],
     "prompt_number": 11
    },
    {
     "cell_type": "markdown",
     "metadata": {},
     "source": [
      "Turns out it works decently well!\n",
      "\n",
      "But it could be better! I think we can agree that the data is kind of messy - there are typos, abbreviations, grammatical errors of all sorts... So how do we handle that? Can we handle that? "
     ]
    },
    {
     "cell_type": "markdown",
     "metadata": {},
     "source": [
      "## Regular Expressions\n",
      "\n",
      "A regular expression is a sequence of characters that define a string.\n",
      "\n",
      "### Simplest Form\n",
      "\n",
      "The simplest form of a regular expression is a sequence of characters contained within <b>two backslashes</b>. For example, <i>python</i> would be  \n",
      "\n",
      "``` \n",
      "\\python\n",
      "```"
     ]
    },
    {
     "cell_type": "markdown",
     "metadata": {},
     "source": [
      "### Case Sensitivity\n",
      "\n",
      "Regular Expressions are <b>case sensitive</b>, which means \n",
      "\n",
      "``` \n",
      "\\p and \\P\n",
      "```\n",
      "are distinguishable from eachother. This means <i>python</i> and <i>Python</i> would have to be represented differently, as follows: \n",
      "\n",
      "``` \n",
      "\\python and \\Python\n",
      "```\n",
      "\n",
      "We can check these are different by running:"
     ]
    },
    {
     "cell_type": "code",
     "collapsed": false,
     "input": [
      "import re\n",
      "re1 = re.compile('python')\n",
      "print(bool(re1.match('Python')))"
     ],
     "language": "python",
     "metadata": {},
     "outputs": [
      {
       "output_type": "stream",
       "stream": "stdout",
       "text": [
        "False\n"
       ]
      }
     ],
     "prompt_number": 12
    },
    {
     "cell_type": "markdown",
     "metadata": {},
     "source": [
      "### Disjunctions\n",
      "\n",
      "If you want a regular expression to represent both <i>python</i> and <i>Python</i>, however, you can use <b>brackets</b> or the <b>pipe</b> symbol as the disjunction of the two forms. For example, \n",
      "\n",
      "``` \n",
      "[Pp]ython or \\Python|python\n",
      "```\n",
      "\n",
      "could represent either <i>python</i> or <i>Python</i>. Likewise, \n",
      "\n",
      "``` \n",
      "[0123456789]\n",
      "```\n",
      "\n",
      "would represent a single integer digit. The pipe symbols are typically used for interchangable strings, such as in the following example:\n",
      "\n",
      "```\n",
      "\\dog|cat\n",
      "```"
     ]
    },
    {
     "cell_type": "markdown",
     "metadata": {},
     "source": [
      "### Ranges\n",
      "\n",
      "If we want a regular expression to express the disjunction of a range of characters, we can use a <b>dash</b>. For example, instead of the previous example, we can write \n",
      "\n",
      "``` \n",
      "[0-9]\n",
      "```\n",
      "Similarly, we can represent all characters of the alphabet with \n",
      "\n",
      "``` \n",
      "[a-z]\n",
      "```"
     ]
    },
    {
     "cell_type": "markdown",
     "metadata": {},
     "source": [
      "### Exclusions\n",
      "\n",
      "Brackets can also be used to represent what an expression <b>cannot</b> be if you combine it with the <b>caret</b> sign. For example, the expression \n",
      "\n",
      "``` \n",
      "[^p]\n",
      "```\n",
      "represents any character, special characters included, but p.\n"
     ]
    },
    {
     "cell_type": "markdown",
     "metadata": {
      "collapsed": true
     },
     "source": [
      "### Question Marks \n",
      "\n",
      "Question marks can be used to represent the expressions containing zero or one instances of the previous character. For example, \n",
      "\n",
      "``` \n",
      "<i>\\colou?r\n",
      "```\n",
      "represents either <i>color</i> or <i>colour</i>. Question marks are often used in cases of plurality. For example, \n",
      "\n",
      "``` \n",
      "<i>\\computers?\n",
      "```\n",
      "can be either <i>computers</i> or <i>computer</i>. If you want to extend this to more than one character, you can put the simple sequence within parenthesis, like this:\n",
      "\n",
      "```\n",
      "\\Feb(ruary)?\n",
      "```\n",
      "This would evaluate to either <i>February</i> or <i>Feb</i>.\n"
     ]
    },
    {
     "cell_type": "markdown",
     "metadata": {},
     "source": [
      "### Kleene Star\n",
      "\n",
      "To represent the expressions containing zero or <b>more</b> instances of the previous character, we use an <b>asterisk</b> as the kleene star. To represent the set of strings containing <i>a, ab, abb, abbb, ...</i>, the following regular expression would be used:  \n",
      "```\n",
      "\\ab*\n",
      "```\n",
      "\n",
      "###  Wildcards\n",
      "\n",
      "Wildcards are used to represent the possibility of any character and symbolized with a <b>period</b>. For example, \n",
      "\n",
      "```\n",
      "\\beg.n\n",
      "```\n",
      "From this regular expression, the strings <i>begun, begin, began,</i> etc., can be generated. \n",
      "\n",
      "### Kleene+\n",
      "\n",
      "To represent the expressions containing at <b>least</b> one or more instances of the previous character, we use a <b>plus</b> sign. To represent the set of strings containing <i>ab, abb, abbb, ...</i>, the following regular expression would be used:  \n",
      "\n",
      "```\n",
      "\\ab+\n",
      "```"
     ]
    },
    {
     "cell_type": "markdown",
     "metadata": {},
     "source": [
      "## Word Tagging and Models\n",
      "\n",
      "Given any sentence, you can classify each word as a noun, verb, conjunction, or any other class of words. When there are hundreds of thousands of sentences, even millions, this is obviously a large and tedious task. But it's not one that can't be solved computationally. \n",
      "\n",
      "\n",
      "### NLTK Parts of Speech Tagger\n",
      "\n",
      "NLTK is a package in python that provides libraries for different text processing techniques, such as classification, tokenization, stemming, parsing, but important to this example, tagging. "
     ]
    },
    {
     "cell_type": "code",
     "collapsed": false,
     "input": [
      "import nltk \n",
      "\n",
      "text = nltk.word_tokenize(\"Python is an awesome language!\")\n",
      "nltk.pos_tag(text)"
     ],
     "language": "python",
     "metadata": {},
     "outputs": [
      {
       "metadata": {},
       "output_type": "pyout",
       "prompt_number": 13,
       "text": [
        "[('Python', 'NNP'),\n",
        " ('is', 'VBZ'),\n",
        " ('an', 'DT'),\n",
        " ('awesome', 'JJ'),\n",
        " ('language', 'NN'),\n",
        " ('!', '.')]"
       ]
      }
     ],
     "prompt_number": 13
    },
    {
     "cell_type": "markdown",
     "metadata": {},
     "source": [
      "Not sure what DT, JJ, or any other tag is? Just try this in your python shell: \n"
     ]
    },
    {
     "cell_type": "code",
     "collapsed": false,
     "input": [
      "nltk.help.upenn_tagset('JJ')\n"
     ],
     "language": "python",
     "metadata": {},
     "outputs": [
      {
       "output_type": "stream",
       "stream": "stdout",
       "text": [
        "JJ: adjective or numeral, ordinal\n",
        "    third ill-mannered pre-war regrettable oiled calamitous first separable\n",
        "    ectoplasmic battery-powered participatory fourth still-to-be-named\n",
        "    multilingual multi-disciplinary ...\n"
       ]
      }
     ],
     "prompt_number": 14
    },
    {
     "cell_type": "markdown",
     "metadata": {},
     "source": [
      "#### Ambiguity\n",
      "\n",
      "But what if a word can be tagged as more than one part of speech? For example, the word \"sink.\" Depending on the content of the sentence, it could either be a noun or a verb.\n",
      "\n",
      "Furthermore, what if a piece of text demonstrates a rhetorical device like sarcasm or irony? Clearly this can mislead the sentiment analyzer to misclassify a regular expression. "
     ]
    },
    {
     "cell_type": "markdown",
     "metadata": {},
     "source": [
      "### Unigram Models\n",
      "\n",
      "Remember our bag of words model from earlier? One of its characteristics was that it didn't take the ordering of the words into account - that's why we were able to use dictionaries to map each words to True values. \n",
      "\n",
      "With that said, unigram models are models where the order doesn't make a difference in our model. You might be wondering why we care about unigram models since they seem to be so simple, but don't let their simplicity fool you - they're a foundational block for a lot of more advanced techniques in NLP. "
     ]
    },
    {
     "cell_type": "code",
     "collapsed": false,
     "input": [
      "from nltk.corpus import brown\n",
      "\n",
      "brown_tagged_sents = brown.tagged_sents(categories='news')\n",
      "brown_sents = brown.sents(categories='news')\n",
      "unigram_tagger = nltk.UnigramTagger(brown_tagged_sents)\n",
      "unigram_tagger.tag(brown_sents[2007])"
     ],
     "language": "python",
     "metadata": {},
     "outputs": [
      {
       "metadata": {},
       "output_type": "pyout",
       "prompt_number": 15,
       "text": [
        "[('Various', 'JJ'),\n",
        " ('of', 'IN'),\n",
        " ('the', 'AT'),\n",
        " ('apartments', 'NNS'),\n",
        " ('are', 'BER'),\n",
        " ('of', 'IN'),\n",
        " ('the', 'AT'),\n",
        " ('terrace', 'NN'),\n",
        " ('type', 'NN'),\n",
        " (',', ','),\n",
        " ('being', 'BEG'),\n",
        " ('on', 'IN'),\n",
        " ('the', 'AT'),\n",
        " ('ground', 'NN'),\n",
        " ('floor', 'NN'),\n",
        " ('so', 'QL'),\n",
        " ('that', 'CS'),\n",
        " ('entrance', 'NN'),\n",
        " ('is', 'BEZ'),\n",
        " ('direct', 'JJ'),\n",
        " ('.', '.')]"
       ]
      }
     ],
     "prompt_number": 15
    },
    {
     "cell_type": "markdown",
     "metadata": {},
     "source": [
      "### Bigram Models\n",
      "\n",
      "Here, ordering does matter. \n"
     ]
    },
    {
     "cell_type": "markdown",
     "metadata": {},
     "source": []
    },
    {
     "cell_type": "code",
     "collapsed": false,
     "input": [
      "bigram_tagger = nltk.BigramTagger(brown_tagged_sents)\n",
      "bigram_tagger.tag(brown_sents[2007])"
     ],
     "language": "python",
     "metadata": {},
     "outputs": [
      {
       "metadata": {},
       "output_type": "pyout",
       "prompt_number": 16,
       "text": [
        "[('Various', 'JJ'),\n",
        " ('of', 'IN'),\n",
        " ('the', 'AT'),\n",
        " ('apartments', 'NNS'),\n",
        " ('are', 'BER'),\n",
        " ('of', 'IN'),\n",
        " ('the', 'AT'),\n",
        " ('terrace', 'NN'),\n",
        " ('type', 'NN'),\n",
        " (',', ','),\n",
        " ('being', 'BEG'),\n",
        " ('on', 'IN'),\n",
        " ('the', 'AT'),\n",
        " ('ground', 'NN'),\n",
        " ('floor', 'NN'),\n",
        " ('so', 'CS'),\n",
        " ('that', 'CS'),\n",
        " ('entrance', 'NN'),\n",
        " ('is', 'BEZ'),\n",
        " ('direct', 'JJ'),\n",
        " ('.', '.')]"
       ]
      }
     ],
     "prompt_number": 16
    },
    {
     "cell_type": "markdown",
     "metadata": {},
     "source": [
      "Notice the changes from the last time we tagged the words of this same sentence."
     ]
    },
    {
     "cell_type": "markdown",
     "metadata": {},
     "source": [
      "## Normalizing Text\n",
      "\n",
      "The best data is data that's consistent - textual data usually isn't. But we can make it that way by normalizing it. To do this, we can do a number of things. \n",
      "\n",
      "At the very least, we can make all the text so that it's all in lowercase. You may have already done this before: \n",
      "\n",
      "Given a piece of text, \n"
     ]
    },
    {
     "cell_type": "code",
     "collapsed": false,
     "input": [
      "raw = \"OMG, Natural Language Processing is SO cool and I'm really enjoying this workshop!\"\n",
      "tokens = nltk.word_tokenize(raw)\n",
      "tokens = [i.lower() for i in tokens]\n",
      "print(tokens)"
     ],
     "language": "python",
     "metadata": {},
     "outputs": [
      {
       "output_type": "stream",
       "stream": "stdout",
       "text": [
        "['omg', ',', 'natural', 'language', 'processing', 'is', 'so', 'cool', 'and', 'i', \"'m\", 'really', 'enjoying', 'this', 'workshop', '!']\n"
       ]
      }
     ],
     "prompt_number": 17
    },
    {
     "cell_type": "markdown",
     "metadata": {},
     "source": [
      "### Stemming\n",
      "\n",
      "But we can do more! \n",
      "\n",
      "#### What is Stemming?\n",
      "\n",
      "Stemming is the process of converting the words of a sentence to its non-changing portions. In the example of amusing, amusement, and amused above, the stem would be amus.\n",
      "\n",
      "#### Types of Stemmers\n",
      "\n",
      "You're probably wondering how do I convert a series of words to its stems. Luckily, NLTK has a few built-in and established stemmers available for you to use! They work slightly differently since they follow different rules - which you use depends on whatever you happen to be working on. \n",
      "\n",
      "First, let's try the Lancaster Stemmer: "
     ]
    },
    {
     "cell_type": "code",
     "collapsed": true,
     "input": [
      "lancaster = nltk.LancasterStemmer()\n",
      "stems = [lancaster.stem(i) for i in tokens]"
     ],
     "language": "python",
     "metadata": {},
     "outputs": [],
     "prompt_number": 18
    },
    {
     "cell_type": "markdown",
     "metadata": {},
     "source": [
      "This should have the output: "
     ]
    },
    {
     "cell_type": "code",
     "collapsed": false,
     "input": [
      "print(stems)"
     ],
     "language": "python",
     "metadata": {},
     "outputs": [
      {
       "output_type": "stream",
       "stream": "stdout",
       "text": [
        "['omg', ',', 'nat', 'langu', 'process', 'is', 'so', 'cool', 'and', 'i', \"'m\", 'real', 'enjoy', 'thi', 'workshop', '!']\n"
       ]
      }
     ],
     "prompt_number": 19
    },
    {
     "cell_type": "markdown",
     "metadata": {},
     "source": [
      "Secondly, we try the Porter Stemmer:\n"
     ]
    },
    {
     "cell_type": "code",
     "collapsed": true,
     "input": [
      "porter = nltk.PorterStemmer()\n",
      "stem = [porter.stem(i) for i in tokens]"
     ],
     "language": "python",
     "metadata": {},
     "outputs": [],
     "prompt_number": 20
    },
    {
     "cell_type": "markdown",
     "metadata": {},
     "source": [
      "Notice how \"natural\" maps to \"natur\" instead of \"nat\" and \"really\" maps to \"realli\" instead of \"real\" in the last stemmer. \n"
     ]
    },
    {
     "cell_type": "code",
     "collapsed": false,
     "input": [
      "print(stem)"
     ],
     "language": "python",
     "metadata": {},
     "outputs": [
      {
       "output_type": "stream",
       "stream": "stdout",
       "text": [
        "['omg', ',', 'natur', 'languag', 'process', 'is', 'so', 'cool', 'and', 'i', \"'m\", 'realli', 'enjoy', 'thi', 'workshop', '!']\n"
       ]
      }
     ],
     "prompt_number": 21
    },
    {
     "cell_type": "markdown",
     "metadata": {},
     "source": [
      "### Lemmatization\n",
      "\n",
      "#### What is Lemmatization?\n",
      "\n",
      "Lemmatization is the process of converting the words of a sentence to its dictionary form. For example, given the words amusement, amusing, and amused, the lemma for each and all would be amuse.\n",
      "\n",
      "#### WordNetLemmatizer\n",
      "\n",
      "Once again, NLTK is awesome and has a built in lemmatizer for us to use: \n"
     ]
    },
    {
     "cell_type": "markdown",
     "metadata": {},
     "source": []
    },
    {
     "cell_type": "code",
     "collapsed": true,
     "input": [
      "from nltk import WordNetLemmatizer\n",
      "\n",
      "lemma = nltk.WordNetLemmatizer()\n",
      "text = \"Women in technology are amazing at coding\"\n",
      "ex = [i.lower() for i in text.split()]\n",
      "\n",
      "lemmas = [lemma.lemmatize(i) for i in ex]"
     ],
     "language": "python",
     "metadata": {},
     "outputs": [],
     "prompt_number": 26
    },
    {
     "cell_type": "markdown",
     "metadata": {},
     "source": [
      "Notice that women is changed to \"woman\""
     ]
    },
    {
     "cell_type": "markdown",
     "metadata": {},
     "source": [
      "## Final Words \n",
      "\n",
      "Going back to our original sentiment analysis, we could have improved our model in a lot of ways by applying some of techniques we just went through. The twitter data is seemingly messy and inconsistent, so if we really wanted to get a highly accurate model, we could have done some preprocessing on the tweets to clean it up.\n",
      "\n",
      "Secondly, the way in which we built our classifier could have been improved. Our feature extraction was relatively simple and could have been improved by using a bigram model rather than the bag of words model. We could have also fixed our Bayes Classifier so that it only took the most frequent words into considerations. \n",
      "\n",
      "### Resources\n",
      "\n",
      "[Natural Language Processing With Python](http://bit.ly/nlp-w-python) <br>\n",
      "[Regular Expressions Cookbook](http://bit.ly/regular-expressions-cb)\n"
     ]
    },
    {
     "cell_type": "code",
     "collapsed": true,
     "input": [],
     "language": "python",
     "metadata": {},
     "outputs": [],
     "prompt_number": null
    }
   ],
   "metadata": {}
  }
 ]
}