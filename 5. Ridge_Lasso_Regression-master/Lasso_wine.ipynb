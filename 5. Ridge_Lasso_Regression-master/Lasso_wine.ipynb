{
 "metadata": {
  "name": "",
  "signature": "sha256:50f8e5031ea19fb607a7cfaba610fd5facb1de8a640566a2d966961e8e8d4572"
 },
 "nbformat": 3,
 "nbformat_minor": 0,
 "worksheets": [
  {
   "cells": [
    {
     "cell_type": "heading",
     "level": 1,
     "metadata": {},
     "source": [
      "Ridge_Lasso_Regression\n",
      "\n",
      "Please read chapters 3 and 4 of Machine Learning in Python and ONLY AFTER READING:\n",
      "\n",
      "    Fit a Lasso Regression on the same Wine dataset\n",
      "    Compare it to the regular Logistic regression and Ridge\n",
      "    Write a small paragarph comparing the results on the ridge and lasso and your understanding as to why one was better than the other\n"
     ]
    },
    {
     "cell_type": "heading",
     "level": 1,
     "metadata": {},
     "source": [
      "LASSO REGREESSION"
     ]
    },
    {
     "cell_type": "code",
     "collapsed": false,
     "input": [
      "#import libraries\n",
      "from sklearn.datasets import load_boston # dataset\n",
      "import pandas as pd\n",
      "import numpy as np\n",
      "import matplotlib.pyplot as plt\n",
      "import logging\n",
      "from sklearn.linear_model import Lasso\n",
      "from sklearn import preprocessing\n",
      "import seaborn as sb\n",
      "\n",
      "%matplotlib inline"
     ],
     "language": "python",
     "metadata": {},
     "outputs": [],
     "prompt_number": 96
    },
    {
     "cell_type": "code",
     "collapsed": false,
     "input": [
      "df = pd.read_csv('Wine_student.csv')\n",
      "df.describe()"
     ],
     "language": "python",
     "metadata": {},
     "outputs": [
      {
       "html": [
        "<div style=\"max-width:1500px;overflow:auto;\">\n",
        "<style scoped>\n",
        "    .dataframe tbody tr th:only-of-type {\n",
        "        vertical-align: middle;\n",
        "    }\n",
        "\n",
        "    .dataframe tbody tr th {\n",
        "        vertical-align: top;\n",
        "    }\n",
        "\n",
        "    .dataframe thead th {\n",
        "        text-align: right;\n",
        "    }\n",
        "</style>\n",
        "<table border=\"1\" class=\"dataframe\">\n",
        "  <thead>\n",
        "    <tr style=\"text-align: right;\">\n",
        "      <th></th>\n",
        "      <th>fixed acidity</th>\n",
        "      <th>volatile acidity</th>\n",
        "      <th>citric acid</th>\n",
        "      <th>residual sugar</th>\n",
        "      <th>chlorides</th>\n",
        "      <th>free sulfur dioxide</th>\n",
        "      <th>total sulfur dioxide</th>\n",
        "      <th>density</th>\n",
        "      <th>pH</th>\n",
        "      <th>sulphates</th>\n",
        "      <th>alcohol</th>\n",
        "      <th>quality</th>\n",
        "    </tr>\n",
        "  </thead>\n",
        "  <tbody>\n",
        "    <tr>\n",
        "      <th>count</th>\n",
        "      <td>1.6e+03</td>\n",
        "      <td>1.6e+03</td>\n",
        "      <td>1.6e+03</td>\n",
        "      <td>1.6e+03</td>\n",
        "      <td>1.6e+03</td>\n",
        "      <td>1.6e+03</td>\n",
        "      <td>1.6e+03</td>\n",
        "      <td>1.6e+03</td>\n",
        "      <td>1.6e+03</td>\n",
        "      <td>1.6e+03</td>\n",
        "      <td>1.6e+03</td>\n",
        "      <td>1.6e+03</td>\n",
        "    </tr>\n",
        "    <tr>\n",
        "      <th>mean</th>\n",
        "      <td>8.3</td>\n",
        "      <td>0.53</td>\n",
        "      <td>0.27</td>\n",
        "      <td>2.5</td>\n",
        "      <td>0.087</td>\n",
        "      <td>16</td>\n",
        "      <td>46</td>\n",
        "      <td>1</td>\n",
        "      <td>3.3</td>\n",
        "      <td>0.66</td>\n",
        "      <td>10</td>\n",
        "      <td>5.6</td>\n",
        "    </tr>\n",
        "    <tr>\n",
        "      <th>std</th>\n",
        "      <td>1.7</td>\n",
        "      <td>0.18</td>\n",
        "      <td>0.19</td>\n",
        "      <td>1.4</td>\n",
        "      <td>0.047</td>\n",
        "      <td>10</td>\n",
        "      <td>33</td>\n",
        "      <td>0.0019</td>\n",
        "      <td>0.15</td>\n",
        "      <td>0.17</td>\n",
        "      <td>1.1</td>\n",
        "      <td>0.81</td>\n",
        "    </tr>\n",
        "    <tr>\n",
        "      <th>min</th>\n",
        "      <td>4.6</td>\n",
        "      <td>0.12</td>\n",
        "      <td>0</td>\n",
        "      <td>0.9</td>\n",
        "      <td>0.012</td>\n",
        "      <td>1</td>\n",
        "      <td>6</td>\n",
        "      <td>0.99</td>\n",
        "      <td>2.7</td>\n",
        "      <td>0.33</td>\n",
        "      <td>8.4</td>\n",
        "      <td>3</td>\n",
        "    </tr>\n",
        "    <tr>\n",
        "      <th>25%</th>\n",
        "      <td>7.1</td>\n",
        "      <td>0.39</td>\n",
        "      <td>0.09</td>\n",
        "      <td>1.9</td>\n",
        "      <td>0.07</td>\n",
        "      <td>7</td>\n",
        "      <td>22</td>\n",
        "      <td>1</td>\n",
        "      <td>3.2</td>\n",
        "      <td>0.55</td>\n",
        "      <td>9.5</td>\n",
        "      <td>5</td>\n",
        "    </tr>\n",
        "    <tr>\n",
        "      <th>50%</th>\n",
        "      <td>7.9</td>\n",
        "      <td>0.52</td>\n",
        "      <td>0.26</td>\n",
        "      <td>2.2</td>\n",
        "      <td>0.079</td>\n",
        "      <td>14</td>\n",
        "      <td>38</td>\n",
        "      <td>1</td>\n",
        "      <td>3.3</td>\n",
        "      <td>0.62</td>\n",
        "      <td>10</td>\n",
        "      <td>6</td>\n",
        "    </tr>\n",
        "    <tr>\n",
        "      <th>75%</th>\n",
        "      <td>9.2</td>\n",
        "      <td>0.64</td>\n",
        "      <td>0.42</td>\n",
        "      <td>2.6</td>\n",
        "      <td>0.09</td>\n",
        "      <td>21</td>\n",
        "      <td>62</td>\n",
        "      <td>1</td>\n",
        "      <td>3.4</td>\n",
        "      <td>0.73</td>\n",
        "      <td>11</td>\n",
        "      <td>6</td>\n",
        "    </tr>\n",
        "    <tr>\n",
        "      <th>max</th>\n",
        "      <td>16</td>\n",
        "      <td>1.6</td>\n",
        "      <td>1</td>\n",
        "      <td>16</td>\n",
        "      <td>0.61</td>\n",
        "      <td>72</td>\n",
        "      <td>2.9e+02</td>\n",
        "      <td>1</td>\n",
        "      <td>4</td>\n",
        "      <td>2</td>\n",
        "      <td>15</td>\n",
        "      <td>8</td>\n",
        "    </tr>\n",
        "  </tbody>\n",
        "</table>\n",
        "</div>"
       ],
       "metadata": {},
       "output_type": "pyout",
       "prompt_number": 84,
       "text": [
        "       fixed acidity  volatile acidity  citric acid  residual sugar  \\\n",
        "count        1.6e+03           1.6e+03      1.6e+03         1.6e+03   \n",
        "mean             8.3              0.53         0.27             2.5   \n",
        "std              1.7              0.18         0.19             1.4   \n",
        "min              4.6              0.12            0             0.9   \n",
        "25%              7.1              0.39         0.09             1.9   \n",
        "50%              7.9              0.52         0.26             2.2   \n",
        "75%              9.2              0.64         0.42             2.6   \n",
        "max               16               1.6            1              16   \n",
        "\n",
        "       chlorides  free sulfur dioxide  total sulfur dioxide  density      pH  \\\n",
        "count    1.6e+03              1.6e+03               1.6e+03  1.6e+03 1.6e+03   \n",
        "mean       0.087                   16                    46        1     3.3   \n",
        "std        0.047                   10                    33   0.0019    0.15   \n",
        "min        0.012                    1                     6     0.99     2.7   \n",
        "25%         0.07                    7                    22        1     3.2   \n",
        "50%        0.079                   14                    38        1     3.3   \n",
        "75%         0.09                   21                    62        1     3.4   \n",
        "max         0.61                   72               2.9e+02        1       4   \n",
        "\n",
        "       sulphates  alcohol  quality  \n",
        "count    1.6e+03  1.6e+03  1.6e+03  \n",
        "mean        0.66       10      5.6  \n",
        "std         0.17      1.1     0.81  \n",
        "min         0.33      8.4        3  \n",
        "25%         0.55      9.5        5  \n",
        "50%         0.62       10        6  \n",
        "75%         0.73       11        6  \n",
        "max            2       15        8  "
       ]
      }
     ],
     "prompt_number": 84
    },
    {
     "cell_type": "code",
     "collapsed": false,
     "input": [
      "\n",
      "# check from desribe if thee are 0 values in Min row. Citric Acid has 0s. convert 0s to NaN and then delete them.\n",
      "#df[[3]].replace(0, numpy.NaN)\n",
      "\n",
      "#checking for missing vaues and dropping them \n",
      "df.isnull().sum()\n",
      "df.dropna(inplace = True)\n",
      "df.isnull().sum()\n",
      "\n"
     ],
     "language": "python",
     "metadata": {},
     "outputs": [
      {
       "metadata": {},
       "output_type": "pyout",
       "prompt_number": 85,
       "text": [
        "fixed acidity           0\n",
        "volatile acidity        0\n",
        "citric acid             0\n",
        "residual sugar          0\n",
        "chlorides               0\n",
        "free sulfur dioxide     0\n",
        "total sulfur dioxide    0\n",
        "density                 0\n",
        "pH                      0\n",
        "sulphates               0\n",
        "alcohol                 0\n",
        "quality                 0\n",
        "dtype: int64"
       ]
      }
     ],
     "prompt_number": 85
    },
    {
     "cell_type": "code",
     "collapsed": false,
     "input": [
      "#df"
     ],
     "language": "python",
     "metadata": {},
     "outputs": [],
     "prompt_number": 86
    },
    {
     "cell_type": "code",
     "collapsed": false,
     "input": [
      "x = df.drop(['quality'], axis =1)\n",
      "y = df['quality']\n",
      "x.isnull().sum()"
     ],
     "language": "python",
     "metadata": {},
     "outputs": [
      {
       "metadata": {},
       "output_type": "pyout",
       "prompt_number": 87,
       "text": [
        "fixed acidity           0\n",
        "volatile acidity        0\n",
        "citric acid             0\n",
        "residual sugar          0\n",
        "chlorides               0\n",
        "free sulfur dioxide     0\n",
        "total sulfur dioxide    0\n",
        "density                 0\n",
        "pH                      0\n",
        "sulphates               0\n",
        "alcohol                 0\n",
        "dtype: int64"
       ]
      }
     ],
     "prompt_number": 87
    },
    {
     "cell_type": "code",
     "collapsed": false,
     "input": [
      "#df_n= preprocessing.normalize(df, norm='l2')\n",
      "#X_proc = preprocessing.scale(df_n)\n",
      "scaler = preprocessing.StandardScaler().fit(df)\n",
      "df_t = scaler.transform(df_n)\n",
      "df_norm = pd.DataFrame(df_t,  columns = df.columns)\n",
      "df_norm.head()\n",
      "\n",
      "\n",
      "#df.head()\n"
     ],
     "language": "python",
     "metadata": {},
     "outputs": [
      {
       "html": [
        "<div style=\"max-width:1500px;overflow:auto;\">\n",
        "<style scoped>\n",
        "    .dataframe tbody tr th:only-of-type {\n",
        "        vertical-align: middle;\n",
        "    }\n",
        "\n",
        "    .dataframe tbody tr th {\n",
        "        vertical-align: top;\n",
        "    }\n",
        "\n",
        "    .dataframe thead th {\n",
        "        text-align: right;\n",
        "    }\n",
        "</style>\n",
        "<table border=\"1\" class=\"dataframe\">\n",
        "  <thead>\n",
        "    <tr style=\"text-align: right;\">\n",
        "      <th></th>\n",
        "      <th>fixed acidity</th>\n",
        "      <th>volatile acidity</th>\n",
        "      <th>citric acid</th>\n",
        "      <th>residual sugar</th>\n",
        "      <th>chlorides</th>\n",
        "      <th>free sulfur dioxide</th>\n",
        "      <th>total sulfur dioxide</th>\n",
        "      <th>density</th>\n",
        "      <th>pH</th>\n",
        "      <th>sulphates</th>\n",
        "      <th>alcohol</th>\n",
        "      <th>quality</th>\n",
        "    </tr>\n",
        "  </thead>\n",
        "  <tbody>\n",
        "    <tr>\n",
        "      <th>0</th>\n",
        "      <td>-4.8</td>\n",
        "      <td>-1.1</td>\n",
        "      <td>-5.5</td>\n",
        "      <td>-1.8</td>\n",
        "      <td>-12</td>\n",
        "      <td>-1.5</td>\n",
        "      <td>-1.4</td>\n",
        "      <td>-5.2e+02</td>\n",
        "      <td>-21</td>\n",
        "      <td>-4.9</td>\n",
        "      <td>-9.8</td>\n",
        "      <td>-7</td>\n",
        "    </tr>\n",
        "    <tr>\n",
        "      <th>1</th>\n",
        "      <td>-4.8</td>\n",
        "      <td>-3.2</td>\n",
        "      <td>-3.3</td>\n",
        "      <td>-1.8</td>\n",
        "      <td>-20</td>\n",
        "      <td>-1.5</td>\n",
        "      <td>-1.4</td>\n",
        "      <td>-6.2e+02</td>\n",
        "      <td>-22</td>\n",
        "      <td>-5.4</td>\n",
        "      <td>-9.8</td>\n",
        "      <td>-7</td>\n",
        "    </tr>\n",
        "    <tr>\n",
        "      <th>2</th>\n",
        "      <td>-4.8</td>\n",
        "      <td>-3.1</td>\n",
        "      <td>-3.7</td>\n",
        "      <td>-1.8</td>\n",
        "      <td>-20</td>\n",
        "      <td>-1.5</td>\n",
        "      <td>-1.4</td>\n",
        "      <td>-6.2e+02</td>\n",
        "      <td>-22</td>\n",
        "      <td>-5.4</td>\n",
        "      <td>-9.8</td>\n",
        "      <td>-7</td>\n",
        "    </tr>\n",
        "    <tr>\n",
        "      <th>3</th>\n",
        "      <td>-4.8</td>\n",
        "      <td>-4.4</td>\n",
        "      <td>-1</td>\n",
        "      <td>-1.8</td>\n",
        "      <td>-22</td>\n",
        "      <td>-1.5</td>\n",
        "      <td>-1.4</td>\n",
        "      <td>-6e+02</td>\n",
        "      <td>-22</td>\n",
        "      <td>-5.3</td>\n",
        "      <td>-9.8</td>\n",
        "      <td>-7</td>\n",
        "    </tr>\n",
        "    <tr>\n",
        "      <th>4</th>\n",
        "      <td>-4.8</td>\n",
        "      <td>-1.1</td>\n",
        "      <td>-5.5</td>\n",
        "      <td>-1.8</td>\n",
        "      <td>-12</td>\n",
        "      <td>-1.5</td>\n",
        "      <td>-1.4</td>\n",
        "      <td>-5.2e+02</td>\n",
        "      <td>-21</td>\n",
        "      <td>-4.9</td>\n",
        "      <td>-9.8</td>\n",
        "      <td>-7</td>\n",
        "    </tr>\n",
        "  </tbody>\n",
        "</table>\n",
        "</div>"
       ],
       "metadata": {},
       "output_type": "pyout",
       "prompt_number": 88,
       "text": [
        "   fixed acidity  volatile acidity  citric acid  residual sugar  chlorides  \\\n",
        "0           -4.8              -1.1         -5.5            -1.8        -12   \n",
        "1           -4.8              -3.2         -3.3            -1.8        -20   \n",
        "2           -4.8              -3.1         -3.7            -1.8        -20   \n",
        "3           -4.8              -4.4           -1            -1.8        -22   \n",
        "4           -4.8              -1.1         -5.5            -1.8        -12   \n",
        "\n",
        "   free sulfur dioxide  total sulfur dioxide  density  pH  sulphates  alcohol  \\\n",
        "0                 -1.5                  -1.4 -5.2e+02 -21       -4.9     -9.8   \n",
        "1                 -1.5                  -1.4 -6.2e+02 -22       -5.4     -9.8   \n",
        "2                 -1.5                  -1.4 -6.2e+02 -22       -5.4     -9.8   \n",
        "3                 -1.5                  -1.4   -6e+02 -22       -5.3     -9.8   \n",
        "4                 -1.5                  -1.4 -5.2e+02 -21       -4.9     -9.8   \n",
        "\n",
        "   quality  \n",
        "0       -7  \n",
        "1       -7  \n",
        "2       -7  \n",
        "3       -7  \n",
        "4       -7  "
       ]
      }
     ],
     "prompt_number": 88
    },
    {
     "cell_type": "code",
     "collapsed": false,
     "input": [
      "#x = df_norm.drop(['quality'], axis =1)\n",
      "#y = df_norm['quality']\n",
      "#x.isnull().sum()"
     ],
     "language": "python",
     "metadata": {},
     "outputs": [],
     "prompt_number": 89
    },
    {
     "cell_type": "code",
     "collapsed": false,
     "input": [
      "plt.figure(figsize=(20, 5))\n",
      "for i, col in enumerate(x.columns):\n",
      "    # 5 plots here hence 1, 5\n",
      "    plt.subplot(5, 6, i+1)\n",
      "    x1 = df[col]\n",
      "    y1 = y\n",
      "    plt.plot(y1,x1,'.')\n",
      "    plt.xlim(0,)\n",
      "    plt.title(col)\n",
      "    plt.ylabel(col)\n",
      "    plt.xlabel(\"quality\")\n"
     ],
     "language": "python",
     "metadata": {},
     "outputs": [
      {
       "metadata": {},
       "output_type": "display_data",
       "png": "[encoded data removed]",
       "text": [
        "<matplotlib.figure.Figure at 0x7f18d9910f28>"
       ]
      }
     ],
     "prompt_number": 95
    },
    {
     "cell_type": "code",
     "collapsed": false,
     "input": [
      "sb.countplot(x=\"quality\",data = df)\n"
     ],
     "language": "python",
     "metadata": {},
     "outputs": [
      {
       "metadata": {},
       "output_type": "pyout",
       "prompt_number": 97,
       "text": [
        "<matplotlib.axes._subplots.AxesSubplot at 0x7f18d85b3f60>"
       ]
      },
      {
       "metadata": {},
       "output_type": "display_data",
       "png": "[encoded data removed]",
       "text": [
        "<matplotlib.figure.Figure at 0x7f18d94b6f98>"
       ]
      }
     ],
     "prompt_number": 97
    },
    {
     "cell_type": "code",
     "collapsed": false,
     "input": [
      "\n",
      "def lasso_regression(df, predictors, alpha, models_to_plot={}):\n",
      "    #Fit the model\n",
      "    y = df['quality']\n",
      "    lassoreg = Lasso(alpha=alpha,normalize=True, max_iter=1e5)\n",
      "    lassoreg.fit(predictors,y)\n",
      "    y_pred = lassoreg.predict(predictors)\n",
      "    #set plot size\n",
      "    plt.figure(figsize=(15, 5))\n",
      "    for i, col in enumerate(predictors.columns):\n",
      "    # 5 plots here hence 1, 5\n",
      "        plt.subplot(10, 6, i+1)\n",
      "        #Check if a plot is to be made for the entered alpha\n",
      "        if alpha in models_to_plot:\n",
      "            #plt.subplot(models_to_plot[alpha])\n",
      "            #plt.tight_layout()\n",
      "            plt.scatter(df[col],y_pred, color='orange')\n",
      "            plt.plot(df[col],y,'.')\n",
      "            plt.title('Plot for alpha: %.3g'%alpha)\n",
      "            #plt.title(col)\n",
      "            plt.xlabel(col)\n",
      "            plt.ylabel(\"quality\")\n",
      "    \n",
      "        #Return the result in pre-defined format\n",
      "            rss = sum((y_pred- y)**2)\n",
      "            ret = [rss]\n",
      "            ret.extend([lassoreg.intercept_])\n",
      "            ret.extend(lassoreg.coef_)\n",
      "            print(ret)\n",
      "            return ret"
     ],
     "language": "python",
     "metadata": {},
     "outputs": [],
     "prompt_number": 92
    },
    {
     "cell_type": "code",
     "collapsed": false,
     "input": [
      "#set multiple predcitors\n",
      "predictors = x\n",
      "#Set the different values of alpha to be tested\n",
      "alpha_ridge = [1e-15,  1e-10,  1e-8, 1e-4, 1e-3,1e-2, 1, 5, 10, 20]\n",
      "\n",
      "#Initialize the dataframe for storing coefficients.\n",
      "col = ['rss','intercept'] + [col for col in predictors.columns]\n",
      "ind = ['alpha_%.2g'%alpha_ridge[i] for i in range(0,10)]\n",
      "coef_matrix_lasso = pd.DataFrame(index=ind, columns=col)\n",
      "\n",
      "models_to_plot = {1e-15:231, 1e-10:232, 1e-4:233, 1e-3:234, 1e-2:235, 5:236}\n",
      "\n",
      "for i in range(0,10):\n",
      "    coef_matrix_lasso.iloc[i,] = lasso_regression(df, predictors, alpha_ridge[i], models_to_plot)\n",
      "\n"
     ],
     "language": "python",
     "metadata": {},
     "outputs": [
      {
       "output_type": "stream",
       "stream": "stdout",
       "text": [
        "[657.3106165464702, 22.848324565253456, 0.024773255719197109, -1.0528278240798659, -0.16251972061073955, 0.014858176322080367, -2.0229623066442821, 0.0045097456990601933, -0.0032689376732671629, -18.710675148859305, -0.43743901407851826, 0.97002485770322033, 0.27458444006046129]\n",
        "[657.3106165464711, 22.848310086924322, 0.024773236406589114, -1.0528277922195384, -0.16251961436955975, 0.014858166660949954, -2.0229622589590388, 0.0045097449156738193, -0.0032689374481940214, -18.710660484742721, -0.437439033253683, 0.97002480376605071, 0.27458444949696181]"
       ]
      },
      {
       "output_type": "stream",
       "stream": "stdout",
       "text": [
        "\n",
        "[658.02590431791, 8.0801604875688238, 0.0050707853026607987, -1.0210023869139988, -0.056216159144207162, 0.0050582138301573081, -1.976874945572509, 0.0037326298550369444, -0.003046294352538139, -3.7464335534301187, -0.45913120363057519, 0.91583519532643554, 0.28430271184995237]"
       ]
      },
      {
       "output_type": "stream",
       "stream": "stdout",
       "text": [
        "\n",
        "[675.1079419493487, 3.3904595519454386, 0.0020307492777601531, -1.0096970658119391, 0.0, 0.0, -0.71611863991264435, 0.0, -0.0012172408187044923, -0.0, -0.098875797323072001, 0.62423499859400744, 0.26856737751544063]"
       ]
      },
      {
       "output_type": "stream",
       "stream": "stdout",
       "text": [
        "\n",
        "[1029.2317541613138, 5.6414852752880922, 0.0, -0.0, 0.0, 0.0, -0.0, -0.0, -0.0, -0.0, -0.0, 0.0, 0.0]"
       ]
      },
      {
       "output_type": "stream",
       "stream": "stdout",
       "text": [
        "\n",
        "[1029.2317541613138, 5.6414852752880922, 0.0, -0.0, 0.0, 0.0, -0.0, -0.0, -0.0, -0.0, -0.0, 0.0, 0.0]"
       ]
      },
      {
       "output_type": "stream",
       "stream": "stdout",
       "text": [
        "\n"
       ]
      },
      {
       "metadata": {},
       "output_type": "display_data",
       "png": "[encoded data removed]",
       "text": [
        "<matplotlib.figure.Figure at 0x7f18d981cef0>"
       ]
      },
      {
       "metadata": {},
       "output_type": "display_data",
       "png": "[encoded data removed]",
       "text": [
        "<matplotlib.figure.Figure at 0x7f18d9708b00>"
       ]
      },
      {
       "metadata": {},
       "output_type": "display_data",
       "png": "[encoded data removed]",
       "text": [
        "<matplotlib.figure.Figure at 0x7f18d94b6e80>"
       ]
      },
      {
       "metadata": {},
       "output_type": "display_data",
       "png": "[encoded data removed]",
       "text": [
        "<matplotlib.figure.Figure at 0x7f18d9910630>"
       ]
      },
      {
       "metadata": {},
       "output_type": "display_data",
       "png": "[encoded data removed]",
       "text": [
        "<matplotlib.figure.Figure at 0x7f18d9ad2cc0>"
       ]
      },
      {
       "metadata": {},
       "output_type": "display_data",
       "png": "[encoded data removed]",
       "text": [
        "<matplotlib.figure.Figure at 0x7f18d95b3668>"
       ]
      },
      {
       "metadata": {},
       "output_type": "display_data",
       "png": "[encoded data removed]",
       "text": [
        "<matplotlib.figure.Figure at 0x7f18d97700b8>"
       ]
      },
      {
       "metadata": {},
       "output_type": "display_data",
       "png": "[encoded data removed]",
       "text": [
        "<matplotlib.figure.Figure at 0x7f18d9705f28>"
       ]
      },
      {
       "metadata": {},
       "output_type": "display_data",
       "png": "[encoded data removed]",
       "text": [
        "<matplotlib.figure.Figure at 0x7f18d92a0470>"
       ]
      },
      {
       "metadata": {},
       "output_type": "display_data",
       "png": "[encoded data removed]",
       "text": [
        "<matplotlib.figure.Figure at 0x7f18d9687c18>"
       ]
      }
     ],
     "prompt_number": 93
    },
    {
     "cell_type": "code",
     "collapsed": false,
     "input": [
      "#Set the display format to be scientific for ease of analysis\n",
      "pd.options.display.float_format = '{:,.2g}'.format\n",
      "coef_matrix_lasso"
     ],
     "language": "python",
     "metadata": {},
     "outputs": [
      {
       "html": [
        "<div style=\"max-width:1500px;overflow:auto;\">\n",
        "<style scoped>\n",
        "    .dataframe tbody tr th:only-of-type {\n",
        "        vertical-align: middle;\n",
        "    }\n",
        "\n",
        "    .dataframe tbody tr th {\n",
        "        vertical-align: top;\n",
        "    }\n",
        "\n",
        "    .dataframe thead th {\n",
        "        text-align: right;\n",
        "    }\n",
        "</style>\n",
        "<table border=\"1\" class=\"dataframe\">\n",
        "  <thead>\n",
        "    <tr style=\"text-align: right;\">\n",
        "      <th></th>\n",
        "      <th>rss</th>\n",
        "      <th>intercept</th>\n",
        "      <th>fixed acidity</th>\n",
        "      <th>volatile acidity</th>\n",
        "      <th>citric acid</th>\n",
        "      <th>residual sugar</th>\n",
        "      <th>chlorides</th>\n",
        "      <th>free sulfur dioxide</th>\n",
        "      <th>total sulfur dioxide</th>\n",
        "      <th>density</th>\n",
        "      <th>pH</th>\n",
        "      <th>sulphates</th>\n",
        "      <th>alcohol</th>\n",
        "    </tr>\n",
        "  </thead>\n",
        "  <tbody>\n",
        "    <tr>\n",
        "      <th>alpha_1e-15</th>\n",
        "      <td>6.6e+02</td>\n",
        "      <td>23</td>\n",
        "      <td>0.025</td>\n",
        "      <td>-1.1</td>\n",
        "      <td>-0.16</td>\n",
        "      <td>0.015</td>\n",
        "      <td>-2</td>\n",
        "      <td>0.0045</td>\n",
        "      <td>-0.0033</td>\n",
        "      <td>-19</td>\n",
        "      <td>-0.44</td>\n",
        "      <td>0.97</td>\n",
        "      <td>0.27</td>\n",
        "    </tr>\n",
        "    <tr>\n",
        "      <th>alpha_1e-10</th>\n",
        "      <td>6.6e+02</td>\n",
        "      <td>23</td>\n",
        "      <td>0.025</td>\n",
        "      <td>-1.1</td>\n",
        "      <td>-0.16</td>\n",
        "      <td>0.015</td>\n",
        "      <td>-2</td>\n",
        "      <td>0.0045</td>\n",
        "      <td>-0.0033</td>\n",
        "      <td>-19</td>\n",
        "      <td>-0.44</td>\n",
        "      <td>0.97</td>\n",
        "      <td>0.27</td>\n",
        "    </tr>\n",
        "    <tr>\n",
        "      <th>alpha_1e-08</th>\n",
        "      <td>None</td>\n",
        "      <td>None</td>\n",
        "      <td>None</td>\n",
        "      <td>None</td>\n",
        "      <td>None</td>\n",
        "      <td>None</td>\n",
        "      <td>None</td>\n",
        "      <td>None</td>\n",
        "      <td>None</td>\n",
        "      <td>None</td>\n",
        "      <td>None</td>\n",
        "      <td>None</td>\n",
        "      <td>None</td>\n",
        "    </tr>\n",
        "    <tr>\n",
        "      <th>alpha_0.0001</th>\n",
        "      <td>6.6e+02</td>\n",
        "      <td>8.1</td>\n",
        "      <td>0.0051</td>\n",
        "      <td>-1</td>\n",
        "      <td>-0.056</td>\n",
        "      <td>0.0051</td>\n",
        "      <td>-2</td>\n",
        "      <td>0.0037</td>\n",
        "      <td>-0.003</td>\n",
        "      <td>-3.7</td>\n",
        "      <td>-0.46</td>\n",
        "      <td>0.92</td>\n",
        "      <td>0.28</td>\n",
        "    </tr>\n",
        "    <tr>\n",
        "      <th>alpha_0.001</th>\n",
        "      <td>6.8e+02</td>\n",
        "      <td>3.4</td>\n",
        "      <td>0.002</td>\n",
        "      <td>-1</td>\n",
        "      <td>0</td>\n",
        "      <td>0</td>\n",
        "      <td>-0.72</td>\n",
        "      <td>0</td>\n",
        "      <td>-0.0012</td>\n",
        "      <td>-0</td>\n",
        "      <td>-0.099</td>\n",
        "      <td>0.62</td>\n",
        "      <td>0.27</td>\n",
        "    </tr>\n",
        "    <tr>\n",
        "      <th>alpha_0.01</th>\n",
        "      <td>1e+03</td>\n",
        "      <td>5.6</td>\n",
        "      <td>0</td>\n",
        "      <td>-0</td>\n",
        "      <td>0</td>\n",
        "      <td>0</td>\n",
        "      <td>-0</td>\n",
        "      <td>-0</td>\n",
        "      <td>-0</td>\n",
        "      <td>-0</td>\n",
        "      <td>-0</td>\n",
        "      <td>0</td>\n",
        "      <td>0</td>\n",
        "    </tr>\n",
        "    <tr>\n",
        "      <th>alpha_1</th>\n",
        "      <td>None</td>\n",
        "      <td>None</td>\n",
        "      <td>None</td>\n",
        "      <td>None</td>\n",
        "      <td>None</td>\n",
        "      <td>None</td>\n",
        "      <td>None</td>\n",
        "      <td>None</td>\n",
        "      <td>None</td>\n",
        "      <td>None</td>\n",
        "      <td>None</td>\n",
        "      <td>None</td>\n",
        "      <td>None</td>\n",
        "    </tr>\n",
        "    <tr>\n",
        "      <th>alpha_5</th>\n",
        "      <td>1e+03</td>\n",
        "      <td>5.6</td>\n",
        "      <td>0</td>\n",
        "      <td>-0</td>\n",
        "      <td>0</td>\n",
        "      <td>0</td>\n",
        "      <td>-0</td>\n",
        "      <td>-0</td>\n",
        "      <td>-0</td>\n",
        "      <td>-0</td>\n",
        "      <td>-0</td>\n",
        "      <td>0</td>\n",
        "      <td>0</td>\n",
        "    </tr>\n",
        "    <tr>\n",
        "      <th>alpha_10</th>\n",
        "      <td>None</td>\n",
        "      <td>None</td>\n",
        "      <td>None</td>\n",
        "      <td>None</td>\n",
        "      <td>None</td>\n",
        "      <td>None</td>\n",
        "      <td>None</td>\n",
        "      <td>None</td>\n",
        "      <td>None</td>\n",
        "      <td>None</td>\n",
        "      <td>None</td>\n",
        "      <td>None</td>\n",
        "      <td>None</td>\n",
        "    </tr>\n",
        "    <tr>\n",
        "      <th>alpha_20</th>\n",
        "      <td>None</td>\n",
        "      <td>None</td>\n",
        "      <td>None</td>\n",
        "      <td>None</td>\n",
        "      <td>None</td>\n",
        "      <td>None</td>\n",
        "      <td>None</td>\n",
        "      <td>None</td>\n",
        "      <td>None</td>\n",
        "      <td>None</td>\n",
        "      <td>None</td>\n",
        "      <td>None</td>\n",
        "      <td>None</td>\n",
        "    </tr>\n",
        "  </tbody>\n",
        "</table>\n",
        "</div>"
       ],
       "metadata": {},
       "output_type": "pyout",
       "prompt_number": 94,
       "text": [
        "                 rss intercept fixed acidity volatile acidity citric acid  \\\n",
        "alpha_1e-15  6.6e+02        23         0.025             -1.1       -0.16   \n",
        "alpha_1e-10  6.6e+02        23         0.025             -1.1       -0.16   \n",
        "alpha_1e-08     None      None          None             None        None   \n",
        "alpha_0.0001 6.6e+02       8.1        0.0051               -1      -0.056   \n",
        "alpha_0.001  6.8e+02       3.4         0.002               -1           0   \n",
        "alpha_0.01     1e+03       5.6             0               -0           0   \n",
        "alpha_1         None      None          None             None        None   \n",
        "alpha_5        1e+03       5.6             0               -0           0   \n",
        "alpha_10        None      None          None             None        None   \n",
        "alpha_20        None      None          None             None        None   \n",
        "\n",
        "             residual sugar chlorides free sulfur dioxide  \\\n",
        "alpha_1e-15           0.015        -2              0.0045   \n",
        "alpha_1e-10           0.015        -2              0.0045   \n",
        "alpha_1e-08            None      None                None   \n",
        "alpha_0.0001         0.0051        -2              0.0037   \n",
        "alpha_0.001               0     -0.72                   0   \n",
        "alpha_0.01                0        -0                  -0   \n",
        "alpha_1                None      None                None   \n",
        "alpha_5                   0        -0                  -0   \n",
        "alpha_10               None      None                None   \n",
        "alpha_20               None      None                None   \n",
        "\n",
        "             total sulfur dioxide density     pH sulphates alcohol  \n",
        "alpha_1e-15               -0.0033     -19  -0.44      0.97    0.27  \n",
        "alpha_1e-10               -0.0033     -19  -0.44      0.97    0.27  \n",
        "alpha_1e-08                  None    None   None      None    None  \n",
        "alpha_0.0001               -0.003    -3.7  -0.46      0.92    0.28  \n",
        "alpha_0.001               -0.0012      -0 -0.099      0.62    0.27  \n",
        "alpha_0.01                     -0      -0     -0         0       0  \n",
        "alpha_1                      None    None   None      None    None  \n",
        "alpha_5                        -0      -0     -0         0       0  \n",
        "alpha_10                     None    None   None      None    None  \n",
        "alpha_20                     None    None   None      None    None  "
       ]
      }
     ],
     "prompt_number": 94
    },
    {
     "cell_type": "code",
     "collapsed": false,
     "input": [
      "y = df['quality']\n",
      "predictors = x\n",
      "lassoreg = Lasso(alpha=1e-15,normalize=True, max_iter=1e5)\n",
      "lassoreg.fit(predictors,y)\n",
      "y_pr = lassoreg.predict(predictors)\n",
      "y_pred = pd.DataFrame(y_pr)\n",
      "y_pred['quality'] = y_pred[0]\n",
      "y_pred.quality = y_pred.quality.round()\n",
      "y_pred.head()"
     ],
     "language": "python",
     "metadata": {},
     "outputs": [
      {
       "html": [
        "<div style=\"max-width:1500px;overflow:auto;\">\n",
        "<style scoped>\n",
        "    .dataframe tbody tr th:only-of-type {\n",
        "        vertical-align: middle;\n",
        "    }\n",
        "\n",
        "    .dataframe tbody tr th {\n",
        "        vertical-align: top;\n",
        "    }\n",
        "\n",
        "    .dataframe thead th {\n",
        "        text-align: right;\n",
        "    }\n",
        "</style>\n",
        "<table border=\"1\" class=\"dataframe\">\n",
        "  <thead>\n",
        "    <tr style=\"text-align: right;\">\n",
        "      <th></th>\n",
        "      <th>0</th>\n",
        "      <th>quality</th>\n",
        "    </tr>\n",
        "  </thead>\n",
        "  <tbody>\n",
        "    <tr>\n",
        "      <th>0</th>\n",
        "      <td>5</td>\n",
        "      <td>5</td>\n",
        "    </tr>\n",
        "    <tr>\n",
        "      <th>1</th>\n",
        "      <td>5.1</td>\n",
        "      <td>5</td>\n",
        "    </tr>\n",
        "    <tr>\n",
        "      <th>2</th>\n",
        "      <td>5.2</td>\n",
        "      <td>5</td>\n",
        "    </tr>\n",
        "    <tr>\n",
        "      <th>3</th>\n",
        "      <td>5.7</td>\n",
        "      <td>6</td>\n",
        "    </tr>\n",
        "    <tr>\n",
        "      <th>4</th>\n",
        "      <td>5</td>\n",
        "      <td>5</td>\n",
        "    </tr>\n",
        "  </tbody>\n",
        "</table>\n",
        "</div>"
       ],
       "metadata": {},
       "output_type": "pyout",
       "prompt_number": 147,
       "text": [
        "    0  quality\n",
        "0   5        5\n",
        "1 5.1        5\n",
        "2 5.2        5\n",
        "3 5.7        6\n",
        "4   5        5"
       ]
      }
     ],
     "prompt_number": 147
    },
    {
     "cell_type": "code",
     "collapsed": false,
     "input": [
      "sb.countplot(x=\"quality\", data = y_pred)\n"
     ],
     "language": "python",
     "metadata": {},
     "outputs": [
      {
       "metadata": {},
       "output_type": "pyout",
       "prompt_number": 148,
       "text": [
        "<matplotlib.axes._subplots.AxesSubplot at 0x7f18d408eb38>"
       ]
      },
      {
       "metadata": {},
       "output_type": "display_data",
       "png": "[encoded data removed]",
       "text": [
        "<matplotlib.figure.Figure at 0x7f18d5f29cf8>"
       ]
      }
     ],
     "prompt_number": 148
    },
    {
     "cell_type": "code",
     "collapsed": false,
     "input": [
      "coef_matrix_lasso.apply(lambda x: sum(x.values==0),axis=1)"
     ],
     "language": "python",
     "metadata": {},
     "outputs": [
      {
       "metadata": {},
       "output_type": "pyout",
       "prompt_number": 18,
       "text": [
        "alpha_1e-15      0\n",
        "alpha_1e-10      0\n",
        "alpha_1e-08      0\n",
        "alpha_0.0001     0\n",
        "alpha_0.001      4\n",
        "alpha_0.01      11\n",
        "alpha_1          0\n",
        "alpha_5         11\n",
        "alpha_10         0\n",
        "alpha_20         0\n",
        "dtype: int64"
       ]
      }
     ],
     "prompt_number": 18
    },
    {
     "cell_type": "code",
     "collapsed": false,
     "input": [
      "clf.predict(x)"
     ],
     "language": "python",
     "metadata": {},
     "outputs": [
      {
       "metadata": {},
       "output_type": "pyout",
       "prompt_number": 131,
       "text": [
        "array([ 5.03844995,  5.14483161,  5.21631501, ...,  5.95368505,\n",
        "        5.46307658,  6.00254544])"
       ]
      }
     ],
     "prompt_number": 131
    },
    {
     "cell_type": "code",
     "collapsed": false,
     "input": [
      "clf.get_params(deep=True)"
     ],
     "language": "python",
     "metadata": {},
     "outputs": [
      {
       "metadata": {},
       "output_type": "pyout",
       "prompt_number": 115,
       "text": [
        "{'alpha': 1.0,\n",
        " 'solver': 'auto',\n",
        " 'normalize': False,\n",
        " 'fit_intercept': True,\n",
        " 'tol': 0.001,\n",
        " 'max_iter': None,\n",
        " 'copy_X': True,\n",
        " 'random_state': None}"
       ]
      }
     ],
     "prompt_number": 115
    },
    {
     "cell_type": "code",
     "collapsed": false,
     "input": [
      "clf.score(x, y, sample_weight=None)"
     ],
     "language": "python",
     "metadata": {},
     "outputs": [
      {
       "metadata": {},
       "output_type": "pyout",
       "prompt_number": 116,
       "text": [
        "0.36010591212573428"
       ]
      }
     ],
     "prompt_number": 116
    },
    {
     "cell_type": "heading",
     "level": 1,
     "metadata": {},
     "source": [
      "LASSO REGRESSION"
     ]
    },
    {
     "cell_type": "heading",
     "level": 1,
     "metadata": {},
     "source": [
      "RSS increases as the Alpha value increases.\n",
      "Not all predictor variables were retained in the selected models. Citric acid, fixed acidity, and free sulfur dioxide variables received zero coefficients, and therefore do not participate in the prediction. The results of the training indicate the alcohol, volatile acidity, and sulphates variables as the most strongly associated with the quality of wine and, therefore, the most influential for the prediction. \n",
      "\n",
      "Ridge will work the best with highly corelated predictors \n",
      "\n",
      "The sulphates and alcohol variables are positively associated with the quality variable. "
     ]
    }
   ],
   "metadata": {}
  }
 ]
}