{
 "metadata": {
  "name": "",
  "signature": "sha256:b1d3a9a9bb6fb27631a498462929c093254e01a29e94f2eb86eb7fad2338803f"
 },
 "nbformat": 3,
 "nbformat_minor": 0,
 "worksheets": [
  {
   "cells": [
    {
     "cell_type": "code",
     "collapsed": false,
     "input": [
      "import pandas as pd\n",
      "from sklearn.linear_model import LogisticRegression\n",
      "import matplotlib.pyplot as plt \n",
      "%matplotlib inline\n",
      "import numpy as np\n",
      "import seaborn as sb\n",
      "from sklearn.model_selection import train_test_split\n",
      "from sklearn.linear_model import LogisticRegression\n",
      "\n",
      "%matplotlib inline"
     ],
     "language": "python",
     "metadata": {},
     "outputs": [],
     "prompt_number": 253
    },
    {
     "cell_type": "code",
     "collapsed": false,
     "input": [
      "df = pd.read_csv('Wine_student.csv')\n",
      "df.describe()"
     ],
     "language": "python",
     "metadata": {},
     "outputs": [
      {
       "html": [
        "<div style=\"max-width:1500px;overflow:auto;\">\n",
        "<style scoped>\n",
        "    .dataframe tbody tr th:only-of-type {\n",
        "        vertical-align: middle;\n",
        "    }\n",
        "\n",
        "    .dataframe tbody tr th {\n",
        "        vertical-align: top;\n",
        "    }\n",
        "\n",
        "    .dataframe thead th {\n",
        "        text-align: right;\n",
        "    }\n",
        "</style>\n",
        "<table border=\"1\" class=\"dataframe\">\n",
        "  <thead>\n",
        "    <tr style=\"text-align: right;\">\n",
        "      <th></th>\n",
        "      <th>fixed acidity</th>\n",
        "      <th>volatile acidity</th>\n",
        "      <th>citric acid</th>\n",
        "      <th>residual sugar</th>\n",
        "      <th>chlorides</th>\n",
        "      <th>free sulfur dioxide</th>\n",
        "      <th>total sulfur dioxide</th>\n",
        "      <th>density</th>\n",
        "      <th>pH</th>\n",
        "      <th>sulphates</th>\n",
        "      <th>alcohol</th>\n",
        "      <th>quality</th>\n",
        "    </tr>\n",
        "  </thead>\n",
        "  <tbody>\n",
        "    <tr>\n",
        "      <th>count</th>\n",
        "      <td>1.6e+03</td>\n",
        "      <td>1.6e+03</td>\n",
        "      <td>1.6e+03</td>\n",
        "      <td>1.6e+03</td>\n",
        "      <td>1.6e+03</td>\n",
        "      <td>1.6e+03</td>\n",
        "      <td>1.6e+03</td>\n",
        "      <td>1.6e+03</td>\n",
        "      <td>1.6e+03</td>\n",
        "      <td>1.6e+03</td>\n",
        "      <td>1.6e+03</td>\n",
        "      <td>1.6e+03</td>\n",
        "    </tr>\n",
        "    <tr>\n",
        "      <th>mean</th>\n",
        "      <td>8.3</td>\n",
        "      <td>0.53</td>\n",
        "      <td>0.27</td>\n",
        "      <td>2.5</td>\n",
        "      <td>0.087</td>\n",
        "      <td>16</td>\n",
        "      <td>46</td>\n",
        "      <td>1</td>\n",
        "      <td>3.3</td>\n",
        "      <td>0.66</td>\n",
        "      <td>10</td>\n",
        "      <td>5.6</td>\n",
        "    </tr>\n",
        "    <tr>\n",
        "      <th>std</th>\n",
        "      <td>1.7</td>\n",
        "      <td>0.18</td>\n",
        "      <td>0.19</td>\n",
        "      <td>1.4</td>\n",
        "      <td>0.047</td>\n",
        "      <td>10</td>\n",
        "      <td>33</td>\n",
        "      <td>0.0019</td>\n",
        "      <td>0.15</td>\n",
        "      <td>0.17</td>\n",
        "      <td>1.1</td>\n",
        "      <td>0.81</td>\n",
        "    </tr>\n",
        "    <tr>\n",
        "      <th>min</th>\n",
        "      <td>4.6</td>\n",
        "      <td>0.12</td>\n",
        "      <td>0</td>\n",
        "      <td>0.9</td>\n",
        "      <td>0.012</td>\n",
        "      <td>1</td>\n",
        "      <td>6</td>\n",
        "      <td>0.99</td>\n",
        "      <td>2.7</td>\n",
        "      <td>0.33</td>\n",
        "      <td>8.4</td>\n",
        "      <td>3</td>\n",
        "    </tr>\n",
        "    <tr>\n",
        "      <th>25%</th>\n",
        "      <td>7.1</td>\n",
        "      <td>0.39</td>\n",
        "      <td>0.09</td>\n",
        "      <td>1.9</td>\n",
        "      <td>0.07</td>\n",
        "      <td>7</td>\n",
        "      <td>22</td>\n",
        "      <td>1</td>\n",
        "      <td>3.2</td>\n",
        "      <td>0.55</td>\n",
        "      <td>9.5</td>\n",
        "      <td>5</td>\n",
        "    </tr>\n",
        "    <tr>\n",
        "      <th>50%</th>\n",
        "      <td>7.9</td>\n",
        "      <td>0.52</td>\n",
        "      <td>0.26</td>\n",
        "      <td>2.2</td>\n",
        "      <td>0.079</td>\n",
        "      <td>14</td>\n",
        "      <td>38</td>\n",
        "      <td>1</td>\n",
        "      <td>3.3</td>\n",
        "      <td>0.62</td>\n",
        "      <td>10</td>\n",
        "      <td>6</td>\n",
        "    </tr>\n",
        "    <tr>\n",
        "      <th>75%</th>\n",
        "      <td>9.2</td>\n",
        "      <td>0.64</td>\n",
        "      <td>0.42</td>\n",
        "      <td>2.6</td>\n",
        "      <td>0.09</td>\n",
        "      <td>21</td>\n",
        "      <td>62</td>\n",
        "      <td>1</td>\n",
        "      <td>3.4</td>\n",
        "      <td>0.73</td>\n",
        "      <td>11</td>\n",
        "      <td>6</td>\n",
        "    </tr>\n",
        "    <tr>\n",
        "      <th>max</th>\n",
        "      <td>16</td>\n",
        "      <td>1.6</td>\n",
        "      <td>1</td>\n",
        "      <td>16</td>\n",
        "      <td>0.61</td>\n",
        "      <td>72</td>\n",
        "      <td>2.9e+02</td>\n",
        "      <td>1</td>\n",
        "      <td>4</td>\n",
        "      <td>2</td>\n",
        "      <td>15</td>\n",
        "      <td>8</td>\n",
        "    </tr>\n",
        "  </tbody>\n",
        "</table>\n",
        "</div>"
       ],
       "metadata": {},
       "output_type": "pyout",
       "prompt_number": 254,
       "text": [
        "       fixed acidity  volatile acidity  citric acid  residual sugar  \\\n",
        "count        1.6e+03           1.6e+03      1.6e+03         1.6e+03   \n",
        "mean             8.3              0.53         0.27             2.5   \n",
        "std              1.7              0.18         0.19             1.4   \n",
        "min              4.6              0.12            0             0.9   \n",
        "25%              7.1              0.39         0.09             1.9   \n",
        "50%              7.9              0.52         0.26             2.2   \n",
        "75%              9.2              0.64         0.42             2.6   \n",
        "max               16               1.6            1              16   \n",
        "\n",
        "       chlorides  free sulfur dioxide  total sulfur dioxide  density      pH  \\\n",
        "count    1.6e+03              1.6e+03               1.6e+03  1.6e+03 1.6e+03   \n",
        "mean       0.087                   16                    46        1     3.3   \n",
        "std        0.047                   10                    33   0.0019    0.15   \n",
        "min        0.012                    1                     6     0.99     2.7   \n",
        "25%         0.07                    7                    22        1     3.2   \n",
        "50%        0.079                   14                    38        1     3.3   \n",
        "75%         0.09                   21                    62        1     3.4   \n",
        "max         0.61                   72               2.9e+02        1       4   \n",
        "\n",
        "       sulphates  alcohol  quality  \n",
        "count    1.6e+03  1.6e+03  1.6e+03  \n",
        "mean        0.66       10      5.6  \n",
        "std         0.17      1.1     0.81  \n",
        "min         0.33      8.4        3  \n",
        "25%         0.55      9.5        5  \n",
        "50%         0.62       10        6  \n",
        "75%         0.73       11        6  \n",
        "max            2       15        8  "
       ]
      }
     ],
     "prompt_number": 254
    },
    {
     "cell_type": "code",
     "collapsed": false,
     "input": [
      "\n",
      "# check from desribe if thee are 0 values in Min row. Citric Acid has 0s. convert 0s to NaN and then delete them.\n",
      "#df[[3]].replace(0, numpy.NaN)\n",
      "\n",
      "#checking for missing vaues and dropping them \n",
      "df.isnull().sum()\n",
      "df.dropna(inplace = True)\n",
      "df.isnull().sum()\n",
      "print(\"Rows,Columns:\",df.shape)"
     ],
     "language": "python",
     "metadata": {},
     "outputs": [
      {
       "output_type": "stream",
       "stream": "stdout",
       "text": [
        "Rows,Columns: (1562, 12)\n"
       ]
      }
     ],
     "prompt_number": 255
    },
    {
     "cell_type": "code",
     "collapsed": false,
     "input": [
      "x = df.drop(['quality'], axis =1)\n",
      "y = df['quality']\n",
      "x.isnull().sum()"
     ],
     "language": "python",
     "metadata": {},
     "outputs": [
      {
       "metadata": {},
       "output_type": "pyout",
       "prompt_number": 256,
       "text": [
        "fixed acidity           0\n",
        "volatile acidity        0\n",
        "citric acid             0\n",
        "residual sugar          0\n",
        "chlorides               0\n",
        "free sulfur dioxide     0\n",
        "total sulfur dioxide    0\n",
        "density                 0\n",
        "pH                      0\n",
        "sulphates               0\n",
        "alcohol                 0\n",
        "dtype: int64"
       ]
      }
     ],
     "prompt_number": 256
    },
    {
     "cell_type": "code",
     "collapsed": false,
     "input": [
      "sb.countplot(x=\"quality\",data = df)\n"
     ],
     "language": "python",
     "metadata": {},
     "outputs": [
      {
       "metadata": {},
       "output_type": "pyout",
       "prompt_number": 257,
       "text": [
        "<matplotlib.axes._subplots.AxesSubplot at 0x7f6c9bfb2860>"
       ]
      },
      {
       "metadata": {},
       "output_type": "display_data",
       "png": "[encoded data removed]",
       "text": [
        "<matplotlib.figure.Figure at 0x7f6c9bf07048>"
       ]
      }
     ],
     "prompt_number": 257
    },
    {
     "cell_type": "code",
     "collapsed": false,
     "input": [
      "plt.scatter('quality', 'alcohol', data = df)\n",
      "plt.show()"
     ],
     "language": "python",
     "metadata": {},
     "outputs": [
      {
       "metadata": {},
       "output_type": "display_data",
       "png": "[encoded data removed]",
       "text": [
        "<matplotlib.figure.Figure at 0x7f6c9bf1b588>"
       ]
      }
     ],
     "prompt_number": 258
    },
    {
     "cell_type": "code",
     "collapsed": false,
     "input": [
      "sb.heatmap(df.corr())\n",
      "plt.show()"
     ],
     "language": "python",
     "metadata": {},
     "outputs": [
      {
       "metadata": {},
       "output_type": "display_data",
       "png": "[encoded data removed]",
       "text": [
        "<matplotlib.figure.Figure at 0x7f6c99e7b048>"
       ]
      }
     ],
     "prompt_number": 259
    },
    {
     "cell_type": "code",
     "collapsed": false,
     "input": [
      "x = df.drop(['quality'], axis =1)\n",
      "df['quality'] = df['quality'].map( {3:0, 4:0, 5:0, 6:1, 7:1, 8:1} )\n",
      "\n",
      "y = df['quality']\n",
      "x.isnull().sum()\n",
      "#print(y)"
     ],
     "language": "python",
     "metadata": {},
     "outputs": [
      {
       "metadata": {},
       "output_type": "pyout",
       "prompt_number": 260,
       "text": [
        "fixed acidity           0\n",
        "volatile acidity        0\n",
        "citric acid             0\n",
        "residual sugar          0\n",
        "chlorides               0\n",
        "free sulfur dioxide     0\n",
        "total sulfur dioxide    0\n",
        "density                 0\n",
        "pH                      0\n",
        "sulphates               0\n",
        "alcohol                 0\n",
        "dtype: int64"
       ]
      }
     ],
     "prompt_number": 260
    },
    {
     "cell_type": "code",
     "collapsed": false,
     "input": [
      "x_train,x_test,y_train,y_test = train_test_split(x,y,test_size = 0.3)"
     ],
     "language": "python",
     "metadata": {},
     "outputs": [],
     "prompt_number": 261
    },
    {
     "cell_type": "code",
     "collapsed": false,
     "input": [
      "classifier = LogisticRegression()\n",
      "classifier.fit(x_train,y_train) # try solver= sgd,multi_class =  ovo"
     ],
     "language": "python",
     "metadata": {},
     "outputs": [
      {
       "metadata": {},
       "output_type": "pyout",
       "prompt_number": 262,
       "text": [
        "LogisticRegression(C=1.0, class_weight=None, dual=False, fit_intercept=True,\n",
        "          intercept_scaling=1, max_iter=100, multi_class='ovr', n_jobs=1,\n",
        "          penalty='l2', random_state=None, solver='liblinear', tol=0.0001,\n",
        "          verbose=0, warm_start=False)"
       ]
      }
     ],
     "prompt_number": 262
    },
    {
     "cell_type": "code",
     "collapsed": false,
     "input": [
      "y_pred = classifier.predict(x_test)\n",
      "\n",
      "# Remember: Logistic Regression predicts probability of class, not actual class\n",
      "y_pred_prob = classifier.predict_proba(x_test)"
     ],
     "language": "python",
     "metadata": {},
     "outputs": [],
     "prompt_number": 263
    },
    {
     "cell_type": "code",
     "collapsed": false,
     "input": [
      "print(y_pred_prob[:5])"
     ],
     "language": "python",
     "metadata": {},
     "outputs": [
      {
       "output_type": "stream",
       "stream": "stdout",
       "text": [
        "[[ 0.21859105  0.78140895]\n",
        " [ 0.74222229  0.25777771]\n",
        " [ 0.60587719  0.39412281]\n",
        " [ 0.09750192  0.90249808]\n",
        " [ 0.22049163  0.77950837]]\n"
       ]
      }
     ],
     "prompt_number": 264
    },
    {
     "cell_type": "code",
     "collapsed": false,
     "input": [
      "print(y_pred[:5])"
     ],
     "language": "python",
     "metadata": {},
     "outputs": [
      {
       "output_type": "stream",
       "stream": "stdout",
       "text": [
        "[1 0 0 1 1]\n"
       ]
      }
     ],
     "prompt_number": 265
    },
    {
     "cell_type": "code",
     "collapsed": false,
     "input": [
      "from sklearn.metrics import confusion_matrix \n",
      "confuse = confusion_matrix(y_test,y_pred)\n",
      "print(confuse)\n",
      "\n",
      "print(\"\\nTN =\",confuse[0][0])\n",
      "print(\"FN =\",confuse[0][1])\n",
      "print(\"FP =\",confuse[1][0])\n",
      "print(\"TP =\",confuse[1][1])"
     ],
     "language": "python",
     "metadata": {},
     "outputs": [
      {
       "output_type": "stream",
       "stream": "stdout",
       "text": [
        "[[160  58]\n",
        " [ 58 193]]\n",
        "\n",
        "TN = 160\n",
        "FN = 58\n",
        "FP = 58\n",
        "TP = 193\n"
       ]
      }
     ],
     "prompt_number": 266
    },
    {
     "cell_type": "code",
     "collapsed": false,
     "input": [
      "#overall accuracy\n",
      "accuracy = (confuse[0][0] + confuse[1][1])/ len(y_test)\n",
      "print(\"accuracy of classifier is:\",accuracy)\n",
      "#precision is a measure of positive predictions negative or ratio of tp/overal p\n",
      "precision =  confuse[1][1]/(confuse[1][1]+confuse[0][1])\n",
      "print(\"precision:\",precision)\n",
      "#recall is proportion all true positive samples.\n",
      "recall = confuse[1][1]/(confuse[1][1]+confuse[1][0])\n",
      "print(\"recall:\",recall)"
     ],
     "language": "python",
     "metadata": {},
     "outputs": [
      {
       "output_type": "stream",
       "stream": "stdout",
       "text": [
        "accuracy of classifier is: 0.752665245203\n",
        "precision: 0.768924302789\n",
        "recall: 0.768924302789\n"
       ]
      }
     ],
     "prompt_number": 267
    },
    {
     "cell_type": "code",
     "collapsed": false,
     "input": [
      "from sklearn.metrics import classification_report\n",
      "print(classification_report(y_test,y_pred))"
     ],
     "language": "python",
     "metadata": {},
     "outputs": [
      {
       "output_type": "stream",
       "stream": "stdout",
       "text": [
        "             precision    recall  f1-score   support\n",
        "\n",
        "          0       0.73      0.73      0.73       218\n",
        "          1       0.77      0.77      0.77       251\n",
        "\n",
        "avg / total       0.75      0.75      0.75       469\n",
        "\n"
       ]
      }
     ],
     "prompt_number": 268
    },
    {
     "cell_type": "code",
     "collapsed": false,
     "input": [],
     "language": "python",
     "metadata": {},
     "outputs": []
    },
    {
     "cell_type": "code",
     "collapsed": false,
     "input": [],
     "language": "python",
     "metadata": {},
     "outputs": []
    },
    {
     "cell_type": "heading",
     "level": 1,
     "metadata": {},
     "source": [
      "Reasons for not choosing Logistic Regression: \n",
      "1. As the value of the quality increases the quality of wine is better.\n",
      "2. With logistic model ...we should either predict a binary classification where quality (1 to 5) as 0 and (6 to 8) as 1; or multi class classification which will be a complicated model.\n",
      "3. Also few variables are highly corelated Strong correlations mean that these correlated variables should be handled carefully in a learning model. Possibly, some of them can be dropped out depending on which ones carry the highest importance.\n",
      "\n",
      "Conclusion:\n",
      "Have choosed regression over logistic, After regressing, we round up the scores to the closest digits. \n"
     ]
    }
   ],
   "metadata": {}
  }
 ]
}