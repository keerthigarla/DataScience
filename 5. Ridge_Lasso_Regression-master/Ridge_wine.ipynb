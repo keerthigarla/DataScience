{
 "metadata": {
  "name": "",
  "signature": "sha256:ebdb89e7731af4cb221b86987c9ece5394c80d9d09630fde9bac3705941164ea"
 },
 "nbformat": 3,
 "nbformat_minor": 0,
 "worksheets": [
  {
   "cells": [
    {
     "cell_type": "heading",
     "level": 1,
     "metadata": {},
     "source": [
      "Ridge_Lasso_Regression\n",
      "\n",
      "Please read chapters 3 and 4 of Machine Learning in Python and ONLY AFTER READING:\n",
      "\n",
      "    Fit a Lasso Regression on the same Wine dataset\n",
      "    Compare it to the regular Logistic regression and Ridge\n",
      "    Write a small paragarph comparing the results on the ridge and lasso and your understanding as to why one was better than the other\n"
     ]
    },
    {
     "cell_type": "heading",
     "level": 1,
     "metadata": {},
     "source": [
      "RIDGE REGREESSION"
     ]
    },
    {
     "cell_type": "code",
     "collapsed": false,
     "input": [
      "#import libraries\n",
      "from sklearn.datasets import load_boston # dataset\n",
      "import pandas as pd\n",
      "import numpy as np\n",
      "import matplotlib.pyplot as plt\n",
      "#from statsmodels.stats.outliers_influence import variance_inflation_factor\n",
      "#from statsmodels.compat import lzip\n",
      "#import statsmodels.stats.api as sm\n",
      "#from sklearn.metrics import mean_squared_error\n",
      "#from math import sqrt\n",
      "#from sklearn.model_selection import train_test_split\n",
      "#import statsmodels as sm\n",
      "#import statsmodels.formula.api as smf\n",
      "#from sklearn import linear_model\n",
      "import logging\n",
      "#from ridge import ridge, ridge_corr, bootstrap_ridge\n",
      "from sklearn.linear_model import Ridge\n",
      "import seaborn as sb\n",
      "\n",
      "%matplotlib inline"
     ],
     "language": "python",
     "metadata": {},
     "outputs": [],
     "prompt_number": 14
    },
    {
     "cell_type": "code",
     "collapsed": false,
     "input": [
      "df = pd.read_csv('Wine_student.csv')\n",
      "df.describe()"
     ],
     "language": "python",
     "metadata": {},
     "outputs": [
      {
       "html": [
        "<div style=\"max-width:1500px;overflow:auto;\">\n",
        "<style scoped>\n",
        "    .dataframe tbody tr th:only-of-type {\n",
        "        vertical-align: middle;\n",
        "    }\n",
        "\n",
        "    .dataframe tbody tr th {\n",
        "        vertical-align: top;\n",
        "    }\n",
        "\n",
        "    .dataframe thead th {\n",
        "        text-align: right;\n",
        "    }\n",
        "</style>\n",
        "<table border=\"1\" class=\"dataframe\">\n",
        "  <thead>\n",
        "    <tr style=\"text-align: right;\">\n",
        "      <th></th>\n",
        "      <th>fixed acidity</th>\n",
        "      <th>volatile acidity</th>\n",
        "      <th>citric acid</th>\n",
        "      <th>residual sugar</th>\n",
        "      <th>chlorides</th>\n",
        "      <th>free sulfur dioxide</th>\n",
        "      <th>total sulfur dioxide</th>\n",
        "      <th>density</th>\n",
        "      <th>pH</th>\n",
        "      <th>sulphates</th>\n",
        "      <th>alcohol</th>\n",
        "      <th>quality</th>\n",
        "    </tr>\n",
        "  </thead>\n",
        "  <tbody>\n",
        "    <tr>\n",
        "      <th>count</th>\n",
        "      <td>1594.000000</td>\n",
        "      <td>1594.000000</td>\n",
        "      <td>1596.00000</td>\n",
        "      <td>1596.000000</td>\n",
        "      <td>1597.000000</td>\n",
        "      <td>1596.000000</td>\n",
        "      <td>1595.000000</td>\n",
        "      <td>1592.000000</td>\n",
        "      <td>1598.000000</td>\n",
        "      <td>1595.000000</td>\n",
        "      <td>1597.000000</td>\n",
        "      <td>1599.000000</td>\n",
        "    </tr>\n",
        "    <tr>\n",
        "      <th>mean</th>\n",
        "      <td>8.321518</td>\n",
        "      <td>0.527723</td>\n",
        "      <td>0.27131</td>\n",
        "      <td>2.540069</td>\n",
        "      <td>0.087314</td>\n",
        "      <td>15.856830</td>\n",
        "      <td>46.436364</td>\n",
        "      <td>0.996745</td>\n",
        "      <td>3.311108</td>\n",
        "      <td>0.658056</td>\n",
        "      <td>10.423513</td>\n",
        "      <td>5.636023</td>\n",
        "    </tr>\n",
        "    <tr>\n",
        "      <th>std</th>\n",
        "      <td>1.742971</td>\n",
        "      <td>0.179186</td>\n",
        "      <td>0.19479</td>\n",
        "      <td>1.410950</td>\n",
        "      <td>0.046695</td>\n",
        "      <td>10.446671</td>\n",
        "      <td>32.894224</td>\n",
        "      <td>0.001890</td>\n",
        "      <td>0.154435</td>\n",
        "      <td>0.169701</td>\n",
        "      <td>1.065942</td>\n",
        "      <td>0.807569</td>\n",
        "    </tr>\n",
        "    <tr>\n",
        "      <th>min</th>\n",
        "      <td>4.600000</td>\n",
        "      <td>0.120000</td>\n",
        "      <td>0.00000</td>\n",
        "      <td>0.900000</td>\n",
        "      <td>0.012000</td>\n",
        "      <td>1.000000</td>\n",
        "      <td>6.000000</td>\n",
        "      <td>0.990070</td>\n",
        "      <td>2.740000</td>\n",
        "      <td>0.330000</td>\n",
        "      <td>8.400000</td>\n",
        "      <td>3.000000</td>\n",
        "    </tr>\n",
        "    <tr>\n",
        "      <th>25%</th>\n",
        "      <td>7.100000</td>\n",
        "      <td>0.390000</td>\n",
        "      <td>0.09000</td>\n",
        "      <td>1.900000</td>\n",
        "      <td>0.070000</td>\n",
        "      <td>7.000000</td>\n",
        "      <td>22.000000</td>\n",
        "      <td>0.995600</td>\n",
        "      <td>3.210000</td>\n",
        "      <td>0.550000</td>\n",
        "      <td>9.500000</td>\n",
        "      <td>5.000000</td>\n",
        "    </tr>\n",
        "    <tr>\n",
        "      <th>50%</th>\n",
        "      <td>7.900000</td>\n",
        "      <td>0.520000</td>\n",
        "      <td>0.26000</td>\n",
        "      <td>2.200000</td>\n",
        "      <td>0.079000</td>\n",
        "      <td>14.000000</td>\n",
        "      <td>38.000000</td>\n",
        "      <td>0.996745</td>\n",
        "      <td>3.310000</td>\n",
        "      <td>0.620000</td>\n",
        "      <td>10.200000</td>\n",
        "      <td>6.000000</td>\n",
        "    </tr>\n",
        "    <tr>\n",
        "      <th>75%</th>\n",
        "      <td>9.200000</td>\n",
        "      <td>0.640000</td>\n",
        "      <td>0.42000</td>\n",
        "      <td>2.600000</td>\n",
        "      <td>0.090000</td>\n",
        "      <td>21.000000</td>\n",
        "      <td>62.000000</td>\n",
        "      <td>0.997842</td>\n",
        "      <td>3.400000</td>\n",
        "      <td>0.730000</td>\n",
        "      <td>11.100000</td>\n",
        "      <td>6.000000</td>\n",
        "    </tr>\n",
        "    <tr>\n",
        "      <th>max</th>\n",
        "      <td>15.900000</td>\n",
        "      <td>1.580000</td>\n",
        "      <td>1.00000</td>\n",
        "      <td>15.500000</td>\n",
        "      <td>0.611000</td>\n",
        "      <td>72.000000</td>\n",
        "      <td>289.000000</td>\n",
        "      <td>1.003690</td>\n",
        "      <td>4.010000</td>\n",
        "      <td>2.000000</td>\n",
        "      <td>14.900000</td>\n",
        "      <td>8.000000</td>\n",
        "    </tr>\n",
        "  </tbody>\n",
        "</table>\n",
        "</div>"
       ],
       "metadata": {},
       "output_type": "pyout",
       "prompt_number": 3,
       "text": [
        "       fixed acidity  volatile acidity  citric acid  residual sugar  \\\n",
        "count    1594.000000       1594.000000   1596.00000     1596.000000   \n",
        "mean        8.321518          0.527723      0.27131        2.540069   \n",
        "std         1.742971          0.179186      0.19479        1.410950   \n",
        "min         4.600000          0.120000      0.00000        0.900000   \n",
        "25%         7.100000          0.390000      0.09000        1.900000   \n",
        "50%         7.900000          0.520000      0.26000        2.200000   \n",
        "75%         9.200000          0.640000      0.42000        2.600000   \n",
        "max        15.900000          1.580000      1.00000       15.500000   \n",
        "\n",
        "         chlorides  free sulfur dioxide  total sulfur dioxide      density  \\\n",
        "count  1597.000000          1596.000000           1595.000000  1592.000000   \n",
        "mean      0.087314            15.856830             46.436364     0.996745   \n",
        "std       0.046695            10.446671             32.894224     0.001890   \n",
        "min       0.012000             1.000000              6.000000     0.990070   \n",
        "25%       0.070000             7.000000             22.000000     0.995600   \n",
        "50%       0.079000            14.000000             38.000000     0.996745   \n",
        "75%       0.090000            21.000000             62.000000     0.997842   \n",
        "max       0.611000            72.000000            289.000000     1.003690   \n",
        "\n",
        "                pH    sulphates      alcohol      quality  \n",
        "count  1598.000000  1595.000000  1597.000000  1599.000000  \n",
        "mean      3.311108     0.658056    10.423513     5.636023  \n",
        "std       0.154435     0.169701     1.065942     0.807569  \n",
        "min       2.740000     0.330000     8.400000     3.000000  \n",
        "25%       3.210000     0.550000     9.500000     5.000000  \n",
        "50%       3.310000     0.620000    10.200000     6.000000  \n",
        "75%       3.400000     0.730000    11.100000     6.000000  \n",
        "max       4.010000     2.000000    14.900000     8.000000  "
       ]
      }
     ],
     "prompt_number": 3
    },
    {
     "cell_type": "code",
     "collapsed": false,
     "input": [
      "\n",
      "# check from desribe if thee are 0 values in Min row. Citric Acid has 0s. convert 0s to NaN and then delete them.\n",
      "#df[[3]].replace(0, numpy.NaN)\n",
      "\n",
      "#checking for missing vaues and dropping them \n",
      "df.isnull().sum()\n",
      "df.dropna(inplace = True)\n",
      "df.isnull().sum()\n",
      "\n"
     ],
     "language": "python",
     "metadata": {},
     "outputs": [
      {
       "metadata": {},
       "output_type": "pyout",
       "prompt_number": 5,
       "text": [
        "fixed acidity           0\n",
        "volatile acidity        0\n",
        "citric acid             0\n",
        "residual sugar          0\n",
        "chlorides               0\n",
        "free sulfur dioxide     0\n",
        "total sulfur dioxide    0\n",
        "density                 0\n",
        "pH                      0\n",
        "sulphates               0\n",
        "alcohol                 0\n",
        "quality                 0\n",
        "dtype: int64"
       ]
      }
     ],
     "prompt_number": 5
    },
    {
     "cell_type": "code",
     "collapsed": false,
     "input": [
      "x = df.drop(['quality'], axis =1)\n",
      "y = df['quality']\n",
      "x.isnull().sum()"
     ],
     "language": "python",
     "metadata": {},
     "outputs": [
      {
       "metadata": {},
       "output_type": "pyout",
       "prompt_number": 6,
       "text": [
        "fixed acidity           0\n",
        "volatile acidity        0\n",
        "citric acid             0\n",
        "residual sugar          0\n",
        "chlorides               0\n",
        "free sulfur dioxide     0\n",
        "total sulfur dioxide    0\n",
        "density                 0\n",
        "pH                      0\n",
        "sulphates               0\n",
        "alcohol                 0\n",
        "dtype: int64"
       ]
      }
     ],
     "prompt_number": 6
    },
    {
     "cell_type": "code",
     "collapsed": false,
     "input": [
      "plt.figure(figsize=(20, 5))\n",
      "for i, col in enumerate(x.columns):\n",
      "    # 5 plots here hence 1, 5\n",
      "    plt.subplot(5, 6, i+1)\n",
      "    x1 = df[col]\n",
      "    y1 = y\n",
      "    plt.plot(y1,x1,'.')\n",
      "    plt.xlim(0,)\n",
      "    plt.title(col)\n",
      "    plt.ylabel(col)\n",
      "    plt.xlabel(\"quality\")\n"
     ],
     "language": "python",
     "metadata": {},
     "outputs": [
      {
       "metadata": {},
       "output_type": "display_data",
       "png": "[encoded data removed]",
       "text": [
        "<matplotlib.figure.Figure at 0x7f82915c8390>"
       ]
      }
     ],
     "prompt_number": 7
    },
    {
     "cell_type": "code",
     "collapsed": false,
     "input": [
      "sb.countplot(x=\"quality\",data = df)"
     ],
     "language": "python",
     "metadata": {},
     "outputs": [
      {
       "metadata": {},
       "output_type": "pyout",
       "prompt_number": 15,
       "text": [
        "<matplotlib.axes._subplots.AxesSubplot at 0x7f828e1489e8>"
       ]
      },
      {
       "metadata": {},
       "output_type": "display_data",
       "png": "[encoded data removed]",
       "text": [
        "<matplotlib.figure.Figure at 0x7f828ec7b400>"
       ]
      }
     ],
     "prompt_number": 15
    },
    {
     "cell_type": "code",
     "collapsed": false,
     "input": [
      "ridger = Ridge(alpha=1.0)\n",
      "ridger.fit(x, y) "
     ],
     "language": "python",
     "metadata": {},
     "outputs": [
      {
       "metadata": {},
       "output_type": "pyout",
       "prompt_number": 8,
       "text": [
        "Ridge(alpha=1.0, copy_X=True, fit_intercept=True, max_iter=None,\n",
        "   normalize=False, random_state=None, solver='auto', tol=0.001)"
       ]
      }
     ],
     "prompt_number": 8
    },
    {
     "cell_type": "code",
     "collapsed": false,
     "input": [
      "def ridge_regression(df, predictors, alpha, models_to_plot={}):\n",
      "    #Fit the model\n",
      "    y = df['quality']\n",
      "    ridgereg = Ridge(alpha=alpha,normalize=True)\n",
      "    ridgereg.fit(predictors,y)\n",
      "    y_pred = ridgereg.predict(predictors)\n",
      "    #set plot size\n",
      "    plt.figure(figsize=(15, 5))\n",
      "    for i, col in enumerate(predictors.columns):\n",
      "    # 5 plots here hence 1, 5\n",
      "        plt.subplot(10, 6, i+1)\n",
      "        #Check if a plot is to be made for the entered alpha\n",
      "        if alpha in models_to_plot:\n",
      "            #plt.subplot(models_to_plot[alpha])\n",
      "            #plt.tight_layout()\n",
      "            plt.scatter(df[col],y_pred, color='orange')\n",
      "            plt.plot(df[col],y,'.')\n",
      "            plt.title('Plot for alpha: %.3g'%alpha)\n",
      "            #plt.title(col)\n",
      "            plt.xlabel(col)\n",
      "            plt.ylabel(\"quality\")\n",
      "    \n",
      "        #Return the result in pre-defined format\n",
      "            rss = sum((y_pred- y)**2)\n",
      "            ret = [rss]\n",
      "            ret.extend([ridgereg.intercept_])\n",
      "            ret.extend(ridgereg.coef_)\n",
      "    #print(ret)        \n",
      "            return ret"
     ],
     "language": "python",
     "metadata": {},
     "outputs": [],
     "prompt_number": 9
    },
    {
     "cell_type": "code",
     "collapsed": false,
     "input": [
      "#set multiple predcitors\n",
      "predictors = x\n",
      "#Set the different values of alpha to be tested\n",
      "alpha_ridge = [1e-15,  1e-10,  1e-8, 1e-4, 1e-3,1e-2, 1, 5, 10, 20]\n",
      "\n",
      "#Initialize the dataframe for storing coefficients.\n",
      "col = ['rss','intercept'] + [col for col in predictors.columns]\n",
      "ind = ['alpha_%.2g'%alpha_ridge[i] for i in range(0,10)]\n",
      "coef_matrix_ridge = pd.DataFrame(index=ind, columns=col)\n",
      "\n",
      "models_to_plot = {1e-15:231, 1e-10:232, 1e-4:233, 1e-3:234, 1e-2:235, 5:236}\n",
      "\n",
      "for i in range(0,10):\n",
      "    coef_matrix_ridge.iloc[i,] = ridge_regression(df, predictors, alpha_ridge[i], models_to_plot)\n",
      "\n"
     ],
     "language": "python",
     "metadata": {},
     "outputs": [
      {
       "metadata": {},
       "output_type": "display_data",
       "png": "[encoded data removed]",
       "text": [
        "<matplotlib.figure.Figure at 0x7f828efc7b70>"
       ]
      },
      {
       "metadata": {},
       "output_type": "display_data",
       "png": "[encoded data removed]",
       "text": [
        "<matplotlib.figure.Figure at 0x7f828efc1f98>"
       ]
      },
      {
       "metadata": {},
       "output_type": "display_data",
       "png": "[encoded data removed]",
       "text": [
        "<matplotlib.figure.Figure at 0x7f828efc1f28>"
       ]
      },
      {
       "metadata": {},
       "output_type": "display_data",
       "png": "[encoded data removed]",
       "text": [
        "<matplotlib.figure.Figure at 0x7f828efc1c50>"
       ]
      },
      {
       "metadata": {},
       "output_type": "display_data",
       "png": "[encoded data removed]",
       "text": [
        "<matplotlib.figure.Figure at 0x7f828efc1240>"
       ]
      },
      {
       "metadata": {},
       "output_type": "display_data",
       "png": "[encoded data removed]",
       "text": [
        "<matplotlib.figure.Figure at 0x7f828f5344e0>"
       ]
      },
      {
       "metadata": {},
       "output_type": "display_data",
       "png": "[encoded data removed]",
       "text": [
        "<matplotlib.figure.Figure at 0x7f828f4f1860>"
       ]
      },
      {
       "metadata": {},
       "output_type": "display_data",
       "png": "[encoded data removed]",
       "text": [
        "<matplotlib.figure.Figure at 0x7f828f486550>"
       ]
      },
      {
       "metadata": {},
       "output_type": "display_data",
       "png": "[encoded data removed]",
       "text": [
        "<matplotlib.figure.Figure at 0x7f828f550ac8>"
       ]
      },
      {
       "metadata": {},
       "output_type": "display_data",
       "png": "[encoded data removed]",
       "text": [
        "<matplotlib.figure.Figure at 0x7f828f3fcb00>"
       ]
      }
     ],
     "prompt_number": 10
    },
    {
     "cell_type": "code",
     "collapsed": false,
     "input": [
      "#Set the display format to be scientific for ease of analysis\n",
      "pd.options.display.float_format = '{:,.2g}'.format\n",
      "coef_matrix_ridge"
     ],
     "language": "python",
     "metadata": {},
     "outputs": [
      {
       "html": [
        "<div style=\"max-width:1500px;overflow:auto;\">\n",
        "<style scoped>\n",
        "    .dataframe tbody tr th:only-of-type {\n",
        "        vertical-align: middle;\n",
        "    }\n",
        "\n",
        "    .dataframe tbody tr th {\n",
        "        vertical-align: top;\n",
        "    }\n",
        "\n",
        "    .dataframe thead th {\n",
        "        text-align: right;\n",
        "    }\n",
        "</style>\n",
        "<table border=\"1\" class=\"dataframe\">\n",
        "  <thead>\n",
        "    <tr style=\"text-align: right;\">\n",
        "      <th></th>\n",
        "      <th>rss</th>\n",
        "      <th>intercept</th>\n",
        "      <th>fixed acidity</th>\n",
        "      <th>volatile acidity</th>\n",
        "      <th>citric acid</th>\n",
        "      <th>residual sugar</th>\n",
        "      <th>chlorides</th>\n",
        "      <th>free sulfur dioxide</th>\n",
        "      <th>total sulfur dioxide</th>\n",
        "      <th>density</th>\n",
        "      <th>pH</th>\n",
        "      <th>sulphates</th>\n",
        "      <th>alcohol</th>\n",
        "    </tr>\n",
        "  </thead>\n",
        "  <tbody>\n",
        "    <tr>\n",
        "      <th>alpha_1e-15</th>\n",
        "      <td>6.6e+02</td>\n",
        "      <td>23</td>\n",
        "      <td>0.025</td>\n",
        "      <td>-1.1</td>\n",
        "      <td>-0.16</td>\n",
        "      <td>0.015</td>\n",
        "      <td>-2</td>\n",
        "      <td>0.0045</td>\n",
        "      <td>-0.0033</td>\n",
        "      <td>-19</td>\n",
        "      <td>-0.44</td>\n",
        "      <td>0.97</td>\n",
        "      <td>0.27</td>\n",
        "    </tr>\n",
        "    <tr>\n",
        "      <th>alpha_1e-10</th>\n",
        "      <td>6.6e+02</td>\n",
        "      <td>23</td>\n",
        "      <td>0.025</td>\n",
        "      <td>-1.1</td>\n",
        "      <td>-0.16</td>\n",
        "      <td>0.015</td>\n",
        "      <td>-2</td>\n",
        "      <td>0.0045</td>\n",
        "      <td>-0.0033</td>\n",
        "      <td>-19</td>\n",
        "      <td>-0.44</td>\n",
        "      <td>0.97</td>\n",
        "      <td>0.27</td>\n",
        "    </tr>\n",
        "    <tr>\n",
        "      <th>alpha_1e-08</th>\n",
        "      <td>None</td>\n",
        "      <td>None</td>\n",
        "      <td>None</td>\n",
        "      <td>None</td>\n",
        "      <td>None</td>\n",
        "      <td>None</td>\n",
        "      <td>None</td>\n",
        "      <td>None</td>\n",
        "      <td>None</td>\n",
        "      <td>None</td>\n",
        "      <td>None</td>\n",
        "      <td>None</td>\n",
        "      <td>None</td>\n",
        "    </tr>\n",
        "    <tr>\n",
        "      <th>alpha_0.0001</th>\n",
        "      <td>6.6e+02</td>\n",
        "      <td>23</td>\n",
        "      <td>0.025</td>\n",
        "      <td>-1.1</td>\n",
        "      <td>-0.16</td>\n",
        "      <td>0.015</td>\n",
        "      <td>-2</td>\n",
        "      <td>0.0045</td>\n",
        "      <td>-0.0033</td>\n",
        "      <td>-19</td>\n",
        "      <td>-0.44</td>\n",
        "      <td>0.97</td>\n",
        "      <td>0.27</td>\n",
        "    </tr>\n",
        "    <tr>\n",
        "      <th>alpha_0.001</th>\n",
        "      <td>6.6e+02</td>\n",
        "      <td>23</td>\n",
        "      <td>0.025</td>\n",
        "      <td>-1.1</td>\n",
        "      <td>-0.16</td>\n",
        "      <td>0.015</td>\n",
        "      <td>-2</td>\n",
        "      <td>0.0045</td>\n",
        "      <td>-0.0033</td>\n",
        "      <td>-19</td>\n",
        "      <td>-0.43</td>\n",
        "      <td>0.97</td>\n",
        "      <td>0.27</td>\n",
        "    </tr>\n",
        "    <tr>\n",
        "      <th>alpha_0.01</th>\n",
        "      <td>6.6e+02</td>\n",
        "      <td>26</td>\n",
        "      <td>0.027</td>\n",
        "      <td>-1</td>\n",
        "      <td>-0.14</td>\n",
        "      <td>0.016</td>\n",
        "      <td>-2</td>\n",
        "      <td>0.0044</td>\n",
        "      <td>-0.0032</td>\n",
        "      <td>-22</td>\n",
        "      <td>-0.41</td>\n",
        "      <td>0.96</td>\n",
        "      <td>0.27</td>\n",
        "    </tr>\n",
        "    <tr>\n",
        "      <th>alpha_1</th>\n",
        "      <td>None</td>\n",
        "      <td>None</td>\n",
        "      <td>None</td>\n",
        "      <td>None</td>\n",
        "      <td>None</td>\n",
        "      <td>None</td>\n",
        "      <td>None</td>\n",
        "      <td>None</td>\n",
        "      <td>None</td>\n",
        "      <td>None</td>\n",
        "      <td>None</td>\n",
        "      <td>None</td>\n",
        "      <td>None</td>\n",
        "    </tr>\n",
        "    <tr>\n",
        "      <th>alpha_5</th>\n",
        "      <td>8.7e+02</td>\n",
        "      <td>17</td>\n",
        "      <td>0.0077</td>\n",
        "      <td>-0.25</td>\n",
        "      <td>0.12</td>\n",
        "      <td>0.0018</td>\n",
        "      <td>-0.37</td>\n",
        "      <td>-0.00034</td>\n",
        "      <td>-0.00067</td>\n",
        "      <td>-12</td>\n",
        "      <td>-0.037</td>\n",
        "      <td>0.19</td>\n",
        "      <td>0.055</td>\n",
        "    </tr>\n",
        "    <tr>\n",
        "      <th>alpha_10</th>\n",
        "      <td>None</td>\n",
        "      <td>None</td>\n",
        "      <td>None</td>\n",
        "      <td>None</td>\n",
        "      <td>None</td>\n",
        "      <td>None</td>\n",
        "      <td>None</td>\n",
        "      <td>None</td>\n",
        "      <td>None</td>\n",
        "      <td>None</td>\n",
        "      <td>None</td>\n",
        "      <td>None</td>\n",
        "      <td>None</td>\n",
        "    </tr>\n",
        "    <tr>\n",
        "      <th>alpha_20</th>\n",
        "      <td>None</td>\n",
        "      <td>None</td>\n",
        "      <td>None</td>\n",
        "      <td>None</td>\n",
        "      <td>None</td>\n",
        "      <td>None</td>\n",
        "      <td>None</td>\n",
        "      <td>None</td>\n",
        "      <td>None</td>\n",
        "      <td>None</td>\n",
        "      <td>None</td>\n",
        "      <td>None</td>\n",
        "      <td>None</td>\n",
        "    </tr>\n",
        "  </tbody>\n",
        "</table>\n",
        "</div>"
       ],
       "metadata": {},
       "output_type": "pyout",
       "prompt_number": 11,
       "text": [
        "                 rss intercept fixed acidity volatile acidity citric acid  \\\n",
        "alpha_1e-15  6.6e+02        23         0.025             -1.1       -0.16   \n",
        "alpha_1e-10  6.6e+02        23         0.025             -1.1       -0.16   \n",
        "alpha_1e-08     None      None          None             None        None   \n",
        "alpha_0.0001 6.6e+02        23         0.025             -1.1       -0.16   \n",
        "alpha_0.001  6.6e+02        23         0.025             -1.1       -0.16   \n",
        "alpha_0.01   6.6e+02        26         0.027               -1       -0.14   \n",
        "alpha_1         None      None          None             None        None   \n",
        "alpha_5      8.7e+02        17        0.0077            -0.25        0.12   \n",
        "alpha_10        None      None          None             None        None   \n",
        "alpha_20        None      None          None             None        None   \n",
        "\n",
        "             residual sugar chlorides free sulfur dioxide  \\\n",
        "alpha_1e-15           0.015        -2              0.0045   \n",
        "alpha_1e-10           0.015        -2              0.0045   \n",
        "alpha_1e-08            None      None                None   \n",
        "alpha_0.0001          0.015        -2              0.0045   \n",
        "alpha_0.001           0.015        -2              0.0045   \n",
        "alpha_0.01            0.016        -2              0.0044   \n",
        "alpha_1                None      None                None   \n",
        "alpha_5              0.0018     -0.37            -0.00034   \n",
        "alpha_10               None      None                None   \n",
        "alpha_20               None      None                None   \n",
        "\n",
        "             total sulfur dioxide density     pH sulphates alcohol  \n",
        "alpha_1e-15               -0.0033     -19  -0.44      0.97    0.27  \n",
        "alpha_1e-10               -0.0033     -19  -0.44      0.97    0.27  \n",
        "alpha_1e-08                  None    None   None      None    None  \n",
        "alpha_0.0001              -0.0033     -19  -0.44      0.97    0.27  \n",
        "alpha_0.001               -0.0033     -19  -0.43      0.97    0.27  \n",
        "alpha_0.01                -0.0032     -22  -0.41      0.96    0.27  \n",
        "alpha_1                      None    None   None      None    None  \n",
        "alpha_5                  -0.00067     -12 -0.037      0.19   0.055  \n",
        "alpha_10                     None    None   None      None    None  \n",
        "alpha_20                     None    None   None      None    None  "
       ]
      }
     ],
     "prompt_number": 11
    },
    {
     "cell_type": "code",
     "collapsed": false,
     "input": [
      "y = df['quality']\n",
      "predictors = x\n",
      "ridgereg = Ridge(alpha=1e-15,normalize=True)\n",
      "ridgereg.fit(predictors,y)\n",
      "y_pr = ridgereg.predict(predictors)\n",
      "y_pred = pd.DataFrame(y_pr)\n",
      "y_pred['quality'] = y_pred[0]\n",
      "y_pred.quality = y_pred.quality.round()\n",
      "y_pred.head()"
     ],
     "language": "python",
     "metadata": {},
     "outputs": [
      {
       "html": [
        "<div style=\"max-width:1500px;overflow:auto;\">\n",
        "<style scoped>\n",
        "    .dataframe tbody tr th:only-of-type {\n",
        "        vertical-align: middle;\n",
        "    }\n",
        "\n",
        "    .dataframe tbody tr th {\n",
        "        vertical-align: top;\n",
        "    }\n",
        "\n",
        "    .dataframe thead th {\n",
        "        text-align: right;\n",
        "    }\n",
        "</style>\n",
        "<table border=\"1\" class=\"dataframe\">\n",
        "  <thead>\n",
        "    <tr style=\"text-align: right;\">\n",
        "      <th></th>\n",
        "      <th>0</th>\n",
        "      <th>quality</th>\n",
        "    </tr>\n",
        "  </thead>\n",
        "  <tbody>\n",
        "    <tr>\n",
        "      <th>0</th>\n",
        "      <td>5</td>\n",
        "      <td>5</td>\n",
        "    </tr>\n",
        "    <tr>\n",
        "      <th>1</th>\n",
        "      <td>5.1</td>\n",
        "      <td>5</td>\n",
        "    </tr>\n",
        "    <tr>\n",
        "      <th>2</th>\n",
        "      <td>5.2</td>\n",
        "      <td>5</td>\n",
        "    </tr>\n",
        "    <tr>\n",
        "      <th>3</th>\n",
        "      <td>5.7</td>\n",
        "      <td>6</td>\n",
        "    </tr>\n",
        "    <tr>\n",
        "      <th>4</th>\n",
        "      <td>5</td>\n",
        "      <td>5</td>\n",
        "    </tr>\n",
        "  </tbody>\n",
        "</table>\n",
        "</div>"
       ],
       "metadata": {},
       "output_type": "pyout",
       "prompt_number": 12,
       "text": [
        "    0  quality\n",
        "0   5        5\n",
        "1 5.1        5\n",
        "2 5.2        5\n",
        "3 5.7        6\n",
        "4   5        5"
       ]
      }
     ],
     "prompt_number": 12
    },
    {
     "cell_type": "code",
     "collapsed": false,
     "input": [
      "sb.countplot(x=\"quality\", data = y_pred)"
     ],
     "language": "python",
     "metadata": {},
     "outputs": [
      {
       "metadata": {},
       "output_type": "pyout",
       "prompt_number": 16,
       "text": [
        "<matplotlib.axes._subplots.AxesSubplot at 0x7f828e0924a8>"
       ]
      },
      {
       "metadata": {},
       "output_type": "display_data",
       "png": "[encoded data removed]",
       "text": [
        "<matplotlib.figure.Figure at 0x7f828f2c0d68>"
       ]
      }
     ],
     "prompt_number": 16
    },
    {
     "cell_type": "code",
     "collapsed": false,
     "input": [
      "coef_matrix_ridge.apply(lambda x: sum(x.values==0),axis=1)"
     ],
     "language": "python",
     "metadata": {},
     "outputs": [
      {
       "metadata": {},
       "output_type": "pyout",
       "prompt_number": 194,
       "text": [
        "alpha_1e-15     0\n",
        "alpha_1e-10     0\n",
        "alpha_1e-08     0\n",
        "alpha_0.0001    0\n",
        "alpha_0.001     0\n",
        "alpha_0.01      0\n",
        "alpha_1         0\n",
        "alpha_5         0\n",
        "alpha_10        0\n",
        "alpha_20        0\n",
        "dtype: int64"
       ]
      }
     ],
     "prompt_number": 194
    },
    {
     "cell_type": "code",
     "collapsed": false,
     "input": [
      "clf.predict(x)"
     ],
     "language": "python",
     "metadata": {},
     "outputs": [
      {
       "metadata": {},
       "output_type": "pyout",
       "prompt_number": 131,
       "text": [
        "array([ 5.03844995,  5.14483161,  5.21631501, ...,  5.95368505,\n",
        "        5.46307658,  6.00254544])"
       ]
      }
     ],
     "prompt_number": 131
    },
    {
     "cell_type": "code",
     "collapsed": false,
     "input": [
      "clf.get_params(deep=True)"
     ],
     "language": "python",
     "metadata": {},
     "outputs": [
      {
       "metadata": {},
       "output_type": "pyout",
       "prompt_number": 115,
       "text": [
        "{'alpha': 1.0,\n",
        " 'solver': 'auto',\n",
        " 'normalize': False,\n",
        " 'fit_intercept': True,\n",
        " 'tol': 0.001,\n",
        " 'max_iter': None,\n",
        " 'copy_X': True,\n",
        " 'random_state': None}"
       ]
      }
     ],
     "prompt_number": 115
    },
    {
     "cell_type": "code",
     "collapsed": false,
     "input": [
      "clf.score(x, y, sample_weight=None)"
     ],
     "language": "python",
     "metadata": {},
     "outputs": [
      {
       "metadata": {},
       "output_type": "pyout",
       "prompt_number": 116,
       "text": [
        "0.36010591212573428"
       ]
      }
     ],
     "prompt_number": 116
    },
    {
     "cell_type": "code",
     "collapsed": false,
     "input": [
      "RSS increases as the Alpha value increases.\n",
      "Not all predictor variables were retained in the selected models. Citric acid, fixed acidity, and free sulfur dioxide variables received zero coefficients, and therefore do not participate in the prediction. The results of the training indicate the alcohol, volatile acidity, and sulphates variables as the most strongly associated with the quality of wine and, therefore, the most influential for the prediction. \n",
      "\n",
      "Ridge will work the best with highly corelated predictors \n",
      "\n",
      "The sulphates and alcohol variables are positively associated with the quality variable. "
     ],
     "language": "python",
     "metadata": {},
     "outputs": []
    }
   ],
   "metadata": {}
  }
 ]
}