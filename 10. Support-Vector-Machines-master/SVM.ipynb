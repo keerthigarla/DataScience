{
 "metadata": {
  "kernelspec": {
   "display_name": "Python 3",
   "language": "python",
   "name": "python3"
  },
  "language_info": {
   "codemirror_mode": {
    "name": "ipython",
    "version": 3
   },
   "file_extension": ".py",
   "mimetype": "text/x-python",
   "name": "python",
   "nbconvert_exporter": "python",
   "pygments_lexer": "ipython3",
   "version": "3.6.1"
  },
  "name": "",
  "signature": "sha256:8166363ca0c9c1348e6224bf108b5787549799f1e8ca874b0e698c0af8d53326"
 },
 "nbformat": 3,
 "nbformat_minor": 0,
 "worksheets": [
  {
   "cells": [
    {
     "cell_type": "code",
     "collapsed": true,
     "input": [
      "import numpy as np\n",
      "import matplotlib.pyplot as plt\n",
      "from sklearn import svm, datasets\n"
     ],
     "language": "python",
     "metadata": {},
     "outputs": [],
     "prompt_number": 2
    },
    {
     "cell_type": "code",
     "collapsed": false,
     "input": [
      "# import some data to play with\n",
      "iris = datasets.load_iris()\n",
      "X = iris.data[:,:2]\n",
      "y = iris.target\n",
      "print(y)"
     ],
     "language": "python",
     "metadata": {},
     "outputs": [
      {
       "output_type": "stream",
       "stream": "stdout",
       "text": [
        "[0 0 0 0 0 0 0 0 0 0 0 0 0 0 0 0 0 0 0 0 0 0 0 0 0 0 0 0 0 0 0 0 0 0 0 0 0\n",
        " 0 0 0 0 0 0 0 0 0 0 0 0 0 1 1 1 1 1 1 1 1 1 1 1 1 1 1 1 1 1 1 1 1 1 1 1 1\n",
        " 1 1 1 1 1 1 1 1 1 1 1 1 1 1 1 1 1 1 1 1 1 1 1 1 1 1 2 2 2 2 2 2 2 2 2 2 2\n",
        " 2 2 2 2 2 2 2 2 2 2 2 2 2 2 2 2 2 2 2 2 2 2 2 2 2 2 2 2 2 2 2 2 2 2 2 2 2\n",
        " 2 2]\n"
       ]
      }
     ],
     "prompt_number": 5
    },
    {
     "cell_type": "markdown",
     "metadata": {},
     "source": [
      "# Important hyperparameters \n",
      "\n",
      "- Kernel: shape of seperators (linear vs. rbf vs. poly)\n",
      "- gamma: defines influence of a single training example\n",
      "- C: defines tradeoff between smooth decision boundry and classyfing points correctly\n",
      "\n",
      "Kernel:  \n",
      "RBF is the default setting and is used to create a non-linear hyperplane.The same goes for poly. Linear is used to create a linear hyperplance. How to choose the right Kernel you ask?? Cross Validate!\n",
      "\n",
      "Gamma:  \n",
      "a higher gamma value allows close data points to greatly influence the decision boundry. The opposite is true for low gamma values. \n",
      "\n",
      "C:   \n",
      "A large C value leads to a higher accuracy.\n"
     ]
    },
    {
     "cell_type": "code",
     "collapsed": false,
     "input": [
      "# we create an instance of SVM and fit out data. We do not scale our\n",
      "# data since we want to plot the support vectors\n",
      "svc = svm.SVC(kernel='rbf', C=1,gamma=.1,probability = False).fit(X, y)\n"
     ],
     "language": "python",
     "metadata": {},
     "outputs": [],
     "prompt_number": 134
    },
    {
     "cell_type": "code",
     "collapsed": true,
     "input": [
      "#create a mesh to plot in\n",
      "x_min, x_max = X[:, 0].min() - 1, X[:, 0].max() + 1\n",
      "y_min, y_max = X[:, 1].min() - 1, X[:, 1].max() + 1\n",
      "h = (x_max / x_min)/100\n",
      "xx, yy = np.meshgrid(np.arange(x_min, x_max, h),\n",
      " np.arange(y_min, y_max, h))"
     ],
     "language": "python",
     "metadata": {},
     "outputs": [],
     "prompt_number": 131
    },
    {
     "cell_type": "code",
     "collapsed": false,
     "input": [
      "plt.subplot(1, 1, 1)\n",
      "Z = svc.predict(np.c_[xx.ravel(), yy.ravel()])\n",
      "Z = Z.reshape(xx.shape)\n",
      "plt.contourf(xx, yy, Z, cmap=plt.cm.Paired, alpha=0.8)\n",
      "plt.scatter(X[:, 0], X[:, 1], c=y, cmap=plt.cm.Paired)\n",
      "plt.xlabel('Sepal length')\n",
      "plt.ylabel('Sepal width')\n",
      "plt.xlim(xx.min(), xx.max())\n",
      "plt.title('SVC with polynomial kernel')\n",
      "plt.show()"
     ],
     "language": "python",
     "metadata": {},
     "outputs": [
      {
       "metadata": {},
       "output_type": "display_data",
       "png": "[encoded data removed]",
       "text": [
        "<matplotlib.figure.Figure at 0x10cbdf9b0>"
       ]
      }
     ],
     "prompt_number": 132
    },
    {
     "cell_type": "code",
     "collapsed": false,
     "input": [
      "svc.predict_proba(X)"
     ],
     "language": "python",
     "metadata": {},
     "outputs": [
      {
       "metadata": {},
       "output_type": "pyout",
       "prompt_number": 133,
       "text": [
        "array([[  9.67421056e-01,   1.46081619e-02,   1.79707819e-02],\n",
        "       [  8.85553098e-01,   8.13271097e-02,   3.31197925e-02],\n",
        "       [  9.85688750e-01,   7.18503486e-03,   7.12621483e-03],\n",
        "       [  9.85917348e-01,   7.66064850e-03,   6.42200346e-03],\n",
        "       [  9.88109081e-01,   3.68808416e-03,   8.20283531e-03],\n",
        "       [  9.62488080e-01,   1.22275634e-02,   2.52843569e-02],\n",
        "       [  9.96195752e-01,   1.23623833e-03,   2.56800919e-03],\n",
        "       [  9.72557978e-01,   1.23405579e-02,   1.51014642e-02],\n",
        "       [  9.85212274e-01,   9.19927385e-03,   5.58845229e-03],\n",
        "       [  9.30740705e-01,   4.46436098e-02,   2.46156855e-02],\n",
        "       [  9.25015289e-01,   3.07912407e-02,   4.41934703e-02],\n",
        "       [  9.90349738e-01,   3.71976076e-03,   5.93050090e-03],\n",
        "       [  9.32180336e-01,   4.63237799e-02,   2.14958844e-02],\n",
        "       [  9.94132795e-01,   3.01800953e-03,   2.84919514e-03],\n",
        "       [  8.02794063e-01,   6.76639588e-02,   1.29541978e-01],\n",
        "       [  9.58258548e-01,   9.97362301e-03,   3.17678290e-02],\n",
        "       [  9.62488080e-01,   1.22275634e-02,   2.52843569e-02],\n",
        "       [  9.67421056e-01,   1.46081619e-02,   1.79707819e-02],\n",
        "       [  7.67243763e-01,   9.67991340e-02,   1.35957103e-01],\n",
        "       [  9.90301588e-01,   2.17966331e-03,   7.51874819e-03],\n",
        "       [  7.60519571e-01,   1.40062238e-01,   9.94181901e-02],\n",
        "       [  9.86266051e-01,   3.80416402e-03,   9.92978475e-03],\n",
        "       [  9.98099251e-01,   4.05247395e-04,   1.49550115e-03],\n",
        "       [  9.21749241e-01,   4.49735091e-02,   3.32772502e-02],\n",
        "       [  9.90349738e-01,   3.71976076e-03,   5.93050090e-03],\n",
        "       [  8.08803999e-01,   1.40144264e-01,   5.10517367e-02],\n",
        "       [  9.72557978e-01,   1.23405579e-02,   1.51014642e-02],\n",
        "       [  9.43972728e-01,   2.65781904e-02,   2.94490815e-02],\n",
        "       [  9.14088597e-01,   4.60958281e-02,   3.98155747e-02],\n",
        "       [  9.85688750e-01,   7.18503486e-03,   7.12621483e-03],\n",
        "       [  9.60141193e-01,   2.43936486e-02,   1.54651587e-02],\n",
        "       [  7.60519571e-01,   1.40062238e-01,   9.94181901e-02],\n",
        "       [  9.93423508e-01,   8.69788236e-04,   5.70670392e-03],\n",
        "       [  9.73866902e-01,   6.79522708e-03,   1.93378713e-02],\n",
        "       [  9.30740705e-01,   4.46436098e-02,   2.46156855e-02],\n",
        "       [  9.27761906e-01,   4.35640083e-02,   2.86740854e-02],\n",
        "       [  7.38708618e-01,   1.42427556e-01,   1.18863825e-01],\n",
        "       [  9.30740705e-01,   4.46436098e-02,   2.46156855e-02],\n",
        "       [  9.91019827e-01,   4.93394725e-03,   4.04622569e-03],\n",
        "       [  9.50148634e-01,   2.54198706e-02,   2.44314951e-02],\n",
        "       [  9.82254017e-01,   6.68299675e-03,   1.10629865e-02],\n",
        "       [  5.62548625e-01,   3.90937283e-01,   4.65140923e-02],\n",
        "       [  9.96345879e-01,   1.46441217e-03,   2.18970929e-03],\n",
        "       [  9.82254017e-01,   6.68299675e-03,   1.10629865e-02],\n",
        "       [  9.90301588e-01,   2.17966331e-03,   7.51874819e-03],\n",
        "       [  9.32180336e-01,   4.63237799e-02,   2.14958844e-02],\n",
        "       [  9.90301588e-01,   2.17966331e-03,   7.51874819e-03],\n",
        "       [  9.91218916e-01,   4.10697651e-03,   4.67410705e-03],\n",
        "       [  9.56051029e-01,   1.71164426e-02,   2.68325281e-02],\n",
        "       [  9.54604221e-01,   2.48349989e-02,   2.05607806e-02],\n",
        "       [  9.98468437e-04,   2.04721545e-01,   7.94279987e-01],\n",
        "       [  6.47569064e-03,   3.91594118e-01,   6.01930191e-01],\n",
        "       [  9.55808015e-04,   2.38108220e-01,   7.60935972e-01],\n",
        "       [  9.63319208e-03,   7.99186028e-01,   1.91180780e-01],\n",
        "       [  1.24599936e-03,   4.09439731e-01,   5.89314270e-01],\n",
        "       [  2.48707729e-02,   7.02565790e-01,   2.72563437e-01],\n",
        "       [  1.41541041e-02,   4.15235994e-01,   5.70609902e-01],\n",
        "       [  1.74514121e-01,   7.38957005e-01,   8.65288738e-02],\n",
        "       [  1.23529462e-03,   3.57188706e-01,   6.41575999e-01],\n",
        "       [  1.61830116e-01,   7.10713326e-01,   1.27456558e-01],\n",
        "       [  2.46241066e-02,   8.65237140e-01,   1.10138753e-01],\n",
        "       [  2.31364394e-02,   6.12879286e-01,   3.63984274e-01],\n",
        "       [  1.10815111e-03,   6.79962367e-01,   3.18929482e-01],\n",
        "       [  6.78490403e-03,   5.56619373e-01,   4.36595723e-01],\n",
        "       [  5.83129028e-02,   7.00850482e-01,   2.40836615e-01],\n",
        "       [  1.66094643e-03,   2.96929507e-01,   7.01409547e-01],\n",
        "       [  9.17205719e-02,   6.68298392e-01,   2.39981036e-01],\n",
        "       [  1.09151546e-02,   6.90135071e-01,   2.98949774e-01],\n",
        "       [  6.11688706e-04,   6.10441799e-01,   3.88946512e-01],\n",
        "       [  1.25885507e-02,   7.63259235e-01,   2.24152215e-01],\n",
        "       [  5.45664226e-02,   5.70446200e-01,   3.74987377e-01],\n",
        "       [  4.72562725e-03,   5.71460890e-01,   4.23813483e-01],\n",
        "       [  9.64994251e-04,   5.33609438e-01,   4.65425568e-01],\n",
        "       [  4.72562725e-03,   5.71460890e-01,   4.23813483e-01],\n",
        "       [  2.28562293e-03,   4.34829865e-01,   5.62884512e-01],\n",
        "       [  1.65448239e-03,   3.43764897e-01,   6.54580620e-01],\n",
        "       [  5.73875172e-04,   3.01460064e-01,   6.97966061e-01],\n",
        "       [  1.23161258e-03,   3.09012832e-01,   6.89755556e-01],\n",
        "       [  1.01591345e-02,   5.94738927e-01,   3.95101939e-01],\n",
        "       [  1.14450110e-02,   7.29817182e-01,   2.58737807e-01],\n",
        "       [  1.30067045e-02,   7.91849177e-01,   1.95144118e-01],\n",
        "       [  1.30067045e-02,   7.91849177e-01,   1.95144118e-01],\n",
        "       [  1.09151546e-02,   6.90135071e-01,   2.98949774e-01],\n",
        "       [  4.88747600e-03,   6.23465215e-01,   3.71647309e-01],\n",
        "       [  2.46774385e-01,   5.85458064e-01,   1.67767552e-01],\n",
        "       [  8.28146357e-02,   4.92343310e-01,   4.24842055e-01],\n",
        "       [  1.66094643e-03,   2.96929507e-01,   7.01409547e-01],\n",
        "       [  5.97349304e-04,   5.60429689e-01,   4.38972961e-01],\n",
        "       [  9.17205719e-02,   6.68298392e-01,   2.39981036e-01],\n",
        "       [  1.80179470e-02,   7.82874870e-01,   1.99107183e-01],\n",
        "       [  2.56859875e-02,   7.71659739e-01,   2.02654273e-01],\n",
        "       [  9.90320823e-03,   5.41071118e-01,   4.49025674e-01],\n",
        "       [  7.61677354e-03,   7.02356829e-01,   2.90026397e-01],\n",
        "       [  6.75061410e-02,   8.30652319e-01,   1.01841540e-01],\n",
        "       [  2.50661688e-02,   7.40033944e-01,   2.34899887e-01],\n",
        "       [  5.71040385e-02,   6.62109359e-01,   2.80786603e-01],\n",
        "       [  3.65860543e-02,   6.85462660e-01,   2.77951286e-01],\n",
        "       [  4.61753841e-03,   5.16549033e-01,   4.78833429e-01],\n",
        "       [  1.02422435e-01,   7.84663850e-01,   1.12913715e-01],\n",
        "       [  2.48707729e-02,   7.02565790e-01,   2.72563437e-01],\n",
        "       [  1.41541041e-02,   4.15235994e-01,   5.70609902e-01],\n",
        "       [  1.09151546e-02,   6.90135071e-01,   2.98949774e-01],\n",
        "       [  4.72348006e-04,   2.00144152e-01,   7.99383500e-01],\n",
        "       [  3.21165098e-03,   4.75614697e-01,   5.21173652e-01],\n",
        "       [  2.26927149e-03,   3.81033577e-01,   6.16697151e-01],\n",
        "       [  2.53824537e-04,   1.25922860e-01,   8.73823315e-01],\n",
        "       [  2.75696376e-01,   6.40737201e-01,   8.35664232e-02],\n",
        "       [  2.75644620e-04,   1.71126010e-01,   8.28598345e-01],\n",
        "       [  4.11628049e-04,   3.76930036e-01,   6.22658336e-01],\n",
        "       [  2.23844069e-03,   1.44567301e-01,   8.53194258e-01],\n",
        "       [  4.47900243e-03,   3.53973002e-01,   6.41547995e-01],\n",
        "       [  1.25532606e-03,   4.64194705e-01,   5.34549969e-01],\n",
        "       [  9.36626948e-04,   2.77152616e-01,   7.21910757e-01],\n",
        "       [  8.07626956e-03,   7.40431798e-01,   2.51491933e-01],\n",
        "       [  1.59515924e-02,   6.76310706e-01,   3.07737701e-01],\n",
        "       [  6.47569064e-03,   3.91594118e-01,   6.01930191e-01],\n",
        "       [  2.26927149e-03,   3.81033577e-01,   6.16697151e-01],\n",
        "       [  1.94890104e-03,   9.39710578e-02,   9.04080041e-01],\n",
        "       [  1.37666007e-04,   1.42684778e-01,   8.57177556e-01],\n",
        "       [  1.10815111e-03,   6.79962367e-01,   3.18929482e-01],\n",
        "       [  1.28378629e-03,   2.28565014e-01,   7.70151199e-01],\n",
        "       [  3.70549606e-02,   7.24052969e-01,   2.38892070e-01],\n",
        "       [  1.74288507e-04,   1.28628534e-01,   8.71197177e-01],\n",
        "       [  1.69261181e-03,   5.05123977e-01,   4.93183411e-01],\n",
        "       [  3.20905129e-03,   2.74681709e-01,   7.22109240e-01],\n",
        "       [  6.54026771e-04,   1.65701556e-01,   8.33644418e-01],\n",
        "       [  3.26392829e-03,   5.31426930e-01,   4.65309141e-01],\n",
        "       [  9.90320823e-03,   5.41071118e-01,   4.49025674e-01],\n",
        "       [  1.67639872e-03,   4.49504414e-01,   5.48819188e-01],\n",
        "       [  3.94774195e-04,   1.80440878e-01,   8.19164348e-01],\n",
        "       [  2.06210188e-04,   1.63588620e-01,   8.36205170e-01],\n",
        "       [  1.71473063e-03,   8.53984996e-02,   9.12886770e-01],\n",
        "       [  1.67639872e-03,   4.49504414e-01,   5.48819188e-01],\n",
        "       [  2.30961234e-03,   4.90459579e-01,   5.07230809e-01],\n",
        "       [  2.41895868e-03,   5.99163625e-01,   3.98417416e-01],\n",
        "       [  2.44594492e-04,   1.17172589e-01,   8.82582817e-01],\n",
        "       [  2.12106847e-02,   3.99779966e-01,   5.79009349e-01],\n",
        "       [  4.49962014e-03,   4.05824772e-01,   5.89675608e-01],\n",
        "       [  1.50251750e-02,   5.78743553e-01,   4.06231272e-01],\n",
        "       [  9.55808015e-04,   2.38108220e-01,   7.60935972e-01],\n",
        "       [  1.66094643e-03,   2.96929507e-01,   7.01409547e-01],\n",
        "       [  9.55808015e-04,   2.38108220e-01,   7.60935972e-01],\n",
        "       [  1.09151546e-02,   6.90135071e-01,   2.98949774e-01],\n",
        "       [  1.69300496e-03,   2.55480165e-01,   7.42826830e-01],\n",
        "       [  3.20905129e-03,   2.74681709e-01,   7.22109240e-01],\n",
        "       [  1.23161258e-03,   3.09012832e-01,   6.89755556e-01],\n",
        "       [  9.64994251e-04,   5.33609438e-01,   4.65425568e-01],\n",
        "       [  2.26927149e-03,   3.81033577e-01,   6.16697151e-01],\n",
        "       [  3.28289277e-02,   4.35244513e-01,   5.31926560e-01],\n",
        "       [  2.31364394e-02,   6.12879286e-01,   3.63984274e-01]])"
       ]
      }
     ],
     "prompt_number": 133
    },
    {
     "cell_type": "markdown",
     "metadata": {},
     "source": [
      "# Pros and Cons\n",
      "### Pros\n",
      "- It works really well with clear margin of separation\n",
      "- It is effective with large number of features.\n",
      "- It is effective in cases where number of dimensions is greater than the number of samples.\n",
      "- Memory Efficient\n",
      "\n",
      "## Cons\n",
      "- It doesn\u2019t perform well, when we have large data set because the required training time is higher\n",
      "- It also doesn\u2019t perform very well, when the data set has more noise i.e. target classes are overlapping\n",
      "- SVM doesn\u2019t directly provide probability estimates, these are calculated using an expensive five-fold cross-validation. It is related SVC method of Python scikit-learn library."
     ]
    },
    {
     "cell_type": "markdown",
     "metadata": {},
     "source": [
      "# Tips on Usage\n",
      "- The linear kernel is best for a large dataset (N>1000) since  it is more likely that the data is linearly separable in high dimensional space. \n",
      "- When using the rbf kernel, cross validate for gamma and C"
     ]
    },
    {
     "cell_type": "code",
     "collapsed": true,
     "input": [],
     "language": "python",
     "metadata": {},
     "outputs": [],
     "prompt_number": null
    }
   ],
   "metadata": {}
  }
 ]
}